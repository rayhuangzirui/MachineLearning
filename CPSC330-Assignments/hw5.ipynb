{
 "cells": [
  {
   "cell_type": "code",
   "execution_count": 1,
   "metadata": {
    "deletable": false,
    "editable": false,
    "tags": []
   },
   "outputs": [],
   "source": [
    "# Initialize Otter\n",
    "import otter\n",
    "grader = otter.Notebook(\"hw5.ipynb\")"
   ]
  },
  {
   "cell_type": "markdown",
   "metadata": {},
   "source": [
    "# CPSC 330 - Applied Machine Learning \n",
    "\n",
    "## Homework 5: Putting it all together \n",
    "### Associated lectures: All material till lecture 13\n",
    "\n",
    "#### Due date: See the [Calendar](https://htmlpreview.github.io/?https://github.com/UBC-CS/cpsc330-2023s/blob/master/docs/calendar.html)."
   ]
  },
  {
   "cell_type": "markdown",
   "metadata": {},
   "source": [
    "## Table of contents\n",
    "0. [Submission instructions](#si)\n",
    "1. [Understanding the problem](#1)\n",
    "2. [Data splitting](#2)\n",
    "3. [EDA](#3)\n",
    "4. (Optional) [Feature engineering](#4)\n",
    "5. [Preprocessing and transformations](#5) \n",
    "6. [Baseline model](#6)\n",
    "7. [Linear models](#7)\n",
    "8. [Different models](#8)\n",
    "9. (Optional) [Feature selection](#9)\n",
    "10. [Hyperparameter optimization](#10)\n",
    "11. [Interpretation and feature importances](#11) \n",
    "12. [Results on the test set](#12)\n",
    "13. [Summary of the results](#13)\n",
    "14. (Optional) [Your takeaway from the course](#15)"
   ]
  },
  {
   "cell_type": "markdown",
   "metadata": {
    "tags": []
   },
   "source": [
    "## Submission instructions <a name=\"si\"></a>\n",
    "<hr>\n",
    "rubric={points:4}\n",
    "\n",
    "You will receive marks for correctly submitting this assignment. To submit this assignment, follow the instructions below:\n",
    "\n",
    "- **You may work on this assignment in a group (group size <= 4) and submit your assignment as a group.** \n",
    "- Below are some instructions on working as a group.  \n",
    "    - The maximum group size is 4. \n",
    "    - You can choose your own group members. \n",
    "    - Use group work as an opportunity to collaborate and learn new things from each other. \n",
    "    - Be respectful to each other and make sure you understand all the concepts in the assignment well. \n",
    "    - It's your responsibility to make sure that the assignment is submitted by one of the group members before the deadline. [Here](https://help.gradescope.com/article/m5qz2xsnjy-student-add-group-members) are some instructions on adding group members in Gradescope.  \n",
    "- Be sure to follow the [homework submission instructions](https://github.com/UBC-CS/cpsc330-2023s/blob/main/docs/homework_instructions.md).\n",
    "- Upload the .ipynb file to Gradescope.\n",
    "- **If the .ipynb file is too big or doesn't render on Gradescope for some reason, also upload a pdf or html in addition to the .ipynb.** \n",
    "- Make sure that your plots/output are rendered properly in Gradescope."
   ]
  },
  {
   "cell_type": "markdown",
   "metadata": {},
   "source": [
    "**Answer to 13: 4. Final test score and metrics**"
   ]
  },
  {
   "cell_type": "code",
   "execution_count": 2,
   "metadata": {
    "tags": []
   },
   "outputs": [
    {
     "data": {
      "text/html": [
       "<div>\n",
       "<style scoped>\n",
       "    .dataframe tbody tr th:only-of-type {\n",
       "        vertical-align: middle;\n",
       "    }\n",
       "\n",
       "    .dataframe tbody tr th {\n",
       "        vertical-align: top;\n",
       "    }\n",
       "\n",
       "    .dataframe thead th {\n",
       "        text-align: right;\n",
       "    }\n",
       "</style>\n",
       "<table border=\"1\" class=\"dataframe\">\n",
       "  <thead>\n",
       "    <tr style=\"text-align: right;\">\n",
       "      <th></th>\n",
       "      <th>0</th>\n",
       "    </tr>\n",
       "  </thead>\n",
       "  <tbody>\n",
       "    <tr>\n",
       "      <th>Final test score</th>\n",
       "      <td>0.8163</td>\n",
       "    </tr>\n",
       "    <tr>\n",
       "      <th>Test Precision</th>\n",
       "      <td>0.6270</td>\n",
       "    </tr>\n",
       "    <tr>\n",
       "      <th>Test Recall</th>\n",
       "      <td>0.3737</td>\n",
       "    </tr>\n",
       "    <tr>\n",
       "      <th>Test F1 Score</th>\n",
       "      <td>0.4683</td>\n",
       "    </tr>\n",
       "    <tr>\n",
       "      <th>Test ROC-AUC</th>\n",
       "      <td>0.6561</td>\n",
       "    </tr>\n",
       "  </tbody>\n",
       "</table>\n",
       "</div>"
      ],
      "text/plain": [
       "                       0\n",
       "Final test score  0.8163\n",
       "Test Precision    0.6270\n",
       "Test Recall       0.3737\n",
       "Test F1 Score     0.4683\n",
       "Test ROC-AUC      0.6561"
      ]
     },
     "execution_count": 2,
     "metadata": {},
     "output_type": "execute_result"
    }
   ],
   "source": [
    "import pandas as pd\n",
    "final = {\n",
    "    'Final test score': [0.8163],\n",
    "    'Test Precision': [0.6270],\n",
    "    'Test Recall': [0.3737],\n",
    "    'Test F1 Score': [0.4683],\n",
    "    'Test ROC-AUC': [0.6561],\n",
    "}\n",
    "pd.DataFrame(final).T"
   ]
  },
  {
   "cell_type": "markdown",
   "metadata": {},
   "source": [
    "The final test score is 0.8163, precision is 0.6270, recall is 0.3737, F1 score is 0.4683, ROC-AUC score is 0.6561."
   ]
  },
  {
   "cell_type": "markdown",
   "metadata": {},
   "source": [
    "## Imports"
   ]
  },
  {
   "cell_type": "code",
   "execution_count": 3,
   "metadata": {
    "tags": []
   },
   "outputs": [],
   "source": [
    "import os\n",
    "\n",
    "%matplotlib inline\n",
    "import string\n",
    "import sys\n",
    "\n",
    "import matplotlib.pyplot as plt\n",
    "import numpy as np\n",
    "import pandas as pd\n",
    "\n",
    "import os\n",
    "import re\n",
    "import sys\n",
    "from hashlib import sha1\n",
    "\n",
    "import matplotlib.pyplot as plt\n",
    "import numpy as np\n",
    "import pandas as pd\n",
    "# import tests_hw5\n",
    "from sklearn import datasets\n",
    "from sklearn.compose import make_column_transformer\n",
    "from sklearn.dummy import DummyClassifier, DummyRegressor\n",
    "from sklearn.ensemble import RandomForestClassifier, RandomForestRegressor\n",
    "from sklearn.linear_model import LogisticRegression, Ridge\n",
    "from sklearn.metrics import (\n",
    "    accuracy_score,\n",
    "    classification_report,\n",
    "    confusion_matrix,\n",
    "    f1_score,\n",
    "    make_scorer,\n",
    "    precision_score,\n",
    "    recall_score,\n",
    ")\n",
    "from sklearn.model_selection import (\n",
    "    GridSearchCV,\n",
    "    RandomizedSearchCV,\n",
    "    cross_val_score,\n",
    "    cross_validate,\n",
    "    train_test_split,\n",
    ")\n",
    "from sklearn.pipeline import Pipeline, make_pipeline\n",
    "from sklearn.preprocessing import OneHotEncoder, OrdinalEncoder, StandardScaler\n",
    "import seaborn as sns"
   ]
  },
  {
   "cell_type": "markdown",
   "metadata": {},
   "source": [
    "## Introduction <a name=\"in\"></a>\n",
    "\n",
    "In this homework you will be working on an open-ended mini-project, where you will put all the different things you have learned so far together to solve an interesting problem.\n",
    "\n",
    "A few notes and tips when you work on this mini-project: \n",
    "\n",
    "#### Tips\n",
    "1. This mini-project is open-ended, and while working on it, there might be some situations where you'll have to use your own judgment and make your own decisions (as you would be doing when you work as a data scientist). Make sure you explain your decisions whenever necessary. \n",
    "2. **Do not include everything you ever tried in your submission** -- it's fine just to have your final code. That said, your code should be reproducible and well-documented. For example, if you chose your hyperparameters based on some hyperparameter optimization experiment, you should leave in the code for that experiment so that someone else could re-run it and obtain the same hyperparameters, rather than mysteriously just setting the hyperparameters to some (carefully chosen) values in your code. \n",
    "3. If you realize that you are repeating a lot of code try to organize it in functions. Clear presentation of your code, experiments, and results is the key to be successful in this lab. You may use code from lecture notes or previous lab solutions with appropriate attributions. \n",
    "\n",
    "#### Assessment\n",
    "We plan to grade fairly and leniently. We don't have some secret target score that you need to achieve to get a good grade. **You'll be assessed on demonstration of mastery of course topics, clear presentation, and the quality of your analysis and results.** For example, if you just have a bunch of code and no text or figures, that's not good. If you do a bunch of sane things and get a lower accuracy than your friend, don't sweat it.\n",
    "\n",
    "\n",
    "#### A final note\n",
    "Finally, this style of this \"project\" question is different from other assignments. It'll be up to you to decide when you're \"done\" -- in fact, this is one of the hardest parts of real projects. But please don't spend WAY too much time on this... perhaps \"a few hours\" (15-20 hours???) is a good guideline for this project . Of course if you're having fun you're welcome to spend as much time as you want! But, if so, try not to do it out of perfectionism or getting the best possible grade. Do it because you're learning and enjoying it. Students from the past cohorts have found such kind of labs useful and fun and I hope you enjoy it as well. "
   ]
  },
  {
   "cell_type": "markdown",
   "metadata": {},
   "source": [
    "<br><br>"
   ]
  },
  {
   "cell_type": "markdown",
   "metadata": {},
   "source": [
    "<!-- BEGIN QUESTION -->\n",
    "\n",
    "## 1. Pick your problem and explain the prediction problem <a name=\"1\"></a>\n",
    "<hr>\n",
    "rubric={points:3}\n",
    "\n",
    "In this mini project, you will be working on a classification problem of predicting whether a credit card client will default or not. \n",
    "For this problem, you will use [Default of Credit Card Clients Dataset](https://www.kaggle.com/uciml/default-of-credit-card-clients-dataset). In this data set, there are 30,000 examples and 24 features, and the goal is to estimate whether a person will default (fail to pay) their credit card bills; this column is labeled \"default.payment.next.month\" in the data. The rest of the columns can be used as features. You may take some ideas and compare your results with [the associated research paper](https://www.sciencedirect.com/science/article/pii/S0957417407006719), which is available through [the UBC library](https://www.library.ubc.ca/). \n",
    "\n",
    "**Your tasks:**\n",
    "\n",
    "1. Spend some time understanding the problem and what each feature means. You can find this information in the documentation on [the dataset page on Kaggle](https://www.kaggle.com/uciml/default-of-credit-card-clients-dataset). Write a few sentences on your initial thoughts on the problem and the dataset. \n",
    "2. Download the dataset and read it as a pandas dataframe. "
   ]
  },
  {
   "cell_type": "markdown",
   "metadata": {},
   "source": [
    "<div class=\"alert alert-warning\">\n",
    "    \n",
    "Solution_1\n",
    "    \n",
    "</div>"
   ]
  },
  {
   "cell_type": "markdown",
   "metadata": {},
   "source": [
    "The dataset provides us the information of credit card clients, including personal information such as sex, education, marriage, and age, also including information of credit card payment history, amount of bill statement, and credit of the client. \n",
    "Meaning of confusion feature names: \n",
    "LIMIT_BAL is limited balance, the amount of given credit in NT dollars; \n",
    "PAY_0 - PAY_6 are repayment status in from April to September in 2005 (-2=No consumption, -1=pay duly, 1=payment delay for 1 month, 2=payment delay for 2 months...). \n",
    "BILL_AMT1 - BILLAMT6 represent the amount of bill statement from April to September in 2005(NT dollar);\n",
    "PAY_AMT1-PAY_AMT6 represent the amount of previous payment from April to September in 2005(NT dollar);\n",
    "\n",
    "In order to predict whether a person will default their credit card bills, we can use supervised machine learning models combined with those features. There are too many features, so first we may want to delete irrelevant features or determine which features are stronger predictors of default payment."
   ]
  },
  {
   "cell_type": "code",
   "execution_count": 4,
   "metadata": {
    "tags": []
   },
   "outputs": [
    {
     "data": {
      "text/html": [
       "<div>\n",
       "<style scoped>\n",
       "    .dataframe tbody tr th:only-of-type {\n",
       "        vertical-align: middle;\n",
       "    }\n",
       "\n",
       "    .dataframe tbody tr th {\n",
       "        vertical-align: top;\n",
       "    }\n",
       "\n",
       "    .dataframe thead th {\n",
       "        text-align: right;\n",
       "    }\n",
       "</style>\n",
       "<table border=\"1\" class=\"dataframe\">\n",
       "  <thead>\n",
       "    <tr style=\"text-align: right;\">\n",
       "      <th></th>\n",
       "      <th>ID</th>\n",
       "      <th>LIMIT_BAL</th>\n",
       "      <th>SEX</th>\n",
       "      <th>EDUCATION</th>\n",
       "      <th>MARRIAGE</th>\n",
       "      <th>AGE</th>\n",
       "      <th>PAY_0</th>\n",
       "      <th>PAY_2</th>\n",
       "      <th>PAY_3</th>\n",
       "      <th>PAY_4</th>\n",
       "      <th>...</th>\n",
       "      <th>BILL_AMT4</th>\n",
       "      <th>BILL_AMT5</th>\n",
       "      <th>BILL_AMT6</th>\n",
       "      <th>PAY_AMT1</th>\n",
       "      <th>PAY_AMT2</th>\n",
       "      <th>PAY_AMT3</th>\n",
       "      <th>PAY_AMT4</th>\n",
       "      <th>PAY_AMT5</th>\n",
       "      <th>PAY_AMT6</th>\n",
       "      <th>default.payment.next.month</th>\n",
       "    </tr>\n",
       "  </thead>\n",
       "  <tbody>\n",
       "    <tr>\n",
       "      <th>0</th>\n",
       "      <td>1</td>\n",
       "      <td>20000.0</td>\n",
       "      <td>2</td>\n",
       "      <td>2</td>\n",
       "      <td>1</td>\n",
       "      <td>24</td>\n",
       "      <td>2</td>\n",
       "      <td>2</td>\n",
       "      <td>-1</td>\n",
       "      <td>-1</td>\n",
       "      <td>...</td>\n",
       "      <td>0.0</td>\n",
       "      <td>0.0</td>\n",
       "      <td>0.0</td>\n",
       "      <td>0.0</td>\n",
       "      <td>689.0</td>\n",
       "      <td>0.0</td>\n",
       "      <td>0.0</td>\n",
       "      <td>0.0</td>\n",
       "      <td>0.0</td>\n",
       "      <td>1</td>\n",
       "    </tr>\n",
       "    <tr>\n",
       "      <th>1</th>\n",
       "      <td>2</td>\n",
       "      <td>120000.0</td>\n",
       "      <td>2</td>\n",
       "      <td>2</td>\n",
       "      <td>2</td>\n",
       "      <td>26</td>\n",
       "      <td>-1</td>\n",
       "      <td>2</td>\n",
       "      <td>0</td>\n",
       "      <td>0</td>\n",
       "      <td>...</td>\n",
       "      <td>3272.0</td>\n",
       "      <td>3455.0</td>\n",
       "      <td>3261.0</td>\n",
       "      <td>0.0</td>\n",
       "      <td>1000.0</td>\n",
       "      <td>1000.0</td>\n",
       "      <td>1000.0</td>\n",
       "      <td>0.0</td>\n",
       "      <td>2000.0</td>\n",
       "      <td>1</td>\n",
       "    </tr>\n",
       "    <tr>\n",
       "      <th>2</th>\n",
       "      <td>3</td>\n",
       "      <td>90000.0</td>\n",
       "      <td>2</td>\n",
       "      <td>2</td>\n",
       "      <td>2</td>\n",
       "      <td>34</td>\n",
       "      <td>0</td>\n",
       "      <td>0</td>\n",
       "      <td>0</td>\n",
       "      <td>0</td>\n",
       "      <td>...</td>\n",
       "      <td>14331.0</td>\n",
       "      <td>14948.0</td>\n",
       "      <td>15549.0</td>\n",
       "      <td>1518.0</td>\n",
       "      <td>1500.0</td>\n",
       "      <td>1000.0</td>\n",
       "      <td>1000.0</td>\n",
       "      <td>1000.0</td>\n",
       "      <td>5000.0</td>\n",
       "      <td>0</td>\n",
       "    </tr>\n",
       "    <tr>\n",
       "      <th>3</th>\n",
       "      <td>4</td>\n",
       "      <td>50000.0</td>\n",
       "      <td>2</td>\n",
       "      <td>2</td>\n",
       "      <td>1</td>\n",
       "      <td>37</td>\n",
       "      <td>0</td>\n",
       "      <td>0</td>\n",
       "      <td>0</td>\n",
       "      <td>0</td>\n",
       "      <td>...</td>\n",
       "      <td>28314.0</td>\n",
       "      <td>28959.0</td>\n",
       "      <td>29547.0</td>\n",
       "      <td>2000.0</td>\n",
       "      <td>2019.0</td>\n",
       "      <td>1200.0</td>\n",
       "      <td>1100.0</td>\n",
       "      <td>1069.0</td>\n",
       "      <td>1000.0</td>\n",
       "      <td>0</td>\n",
       "    </tr>\n",
       "    <tr>\n",
       "      <th>4</th>\n",
       "      <td>5</td>\n",
       "      <td>50000.0</td>\n",
       "      <td>1</td>\n",
       "      <td>2</td>\n",
       "      <td>1</td>\n",
       "      <td>57</td>\n",
       "      <td>-1</td>\n",
       "      <td>0</td>\n",
       "      <td>-1</td>\n",
       "      <td>0</td>\n",
       "      <td>...</td>\n",
       "      <td>20940.0</td>\n",
       "      <td>19146.0</td>\n",
       "      <td>19131.0</td>\n",
       "      <td>2000.0</td>\n",
       "      <td>36681.0</td>\n",
       "      <td>10000.0</td>\n",
       "      <td>9000.0</td>\n",
       "      <td>689.0</td>\n",
       "      <td>679.0</td>\n",
       "      <td>0</td>\n",
       "    </tr>\n",
       "  </tbody>\n",
       "</table>\n",
       "<p>5 rows × 25 columns</p>\n",
       "</div>"
      ],
      "text/plain": [
       "   ID  LIMIT_BAL  SEX  EDUCATION  MARRIAGE  AGE  PAY_0  PAY_2  PAY_3  PAY_4  \\\n",
       "0   1    20000.0    2          2         1   24      2      2     -1     -1   \n",
       "1   2   120000.0    2          2         2   26     -1      2      0      0   \n",
       "2   3    90000.0    2          2         2   34      0      0      0      0   \n",
       "3   4    50000.0    2          2         1   37      0      0      0      0   \n",
       "4   5    50000.0    1          2         1   57     -1      0     -1      0   \n",
       "\n",
       "   ...  BILL_AMT4  BILL_AMT5  BILL_AMT6  PAY_AMT1  PAY_AMT2  PAY_AMT3  \\\n",
       "0  ...        0.0        0.0        0.0       0.0     689.0       0.0   \n",
       "1  ...     3272.0     3455.0     3261.0       0.0    1000.0    1000.0   \n",
       "2  ...    14331.0    14948.0    15549.0    1518.0    1500.0    1000.0   \n",
       "3  ...    28314.0    28959.0    29547.0    2000.0    2019.0    1200.0   \n",
       "4  ...    20940.0    19146.0    19131.0    2000.0   36681.0   10000.0   \n",
       "\n",
       "   PAY_AMT4  PAY_AMT5  PAY_AMT6  default.payment.next.month  \n",
       "0       0.0       0.0       0.0                           1  \n",
       "1    1000.0       0.0    2000.0                           1  \n",
       "2    1000.0    1000.0    5000.0                           0  \n",
       "3    1100.0    1069.0    1000.0                           0  \n",
       "4    9000.0     689.0     679.0                           0  \n",
       "\n",
       "[5 rows x 25 columns]"
      ]
     },
     "execution_count": 4,
     "metadata": {},
     "output_type": "execute_result"
    }
   ],
   "source": [
    "credit_card_df = pd.read_csv('data/UCI_Credit_Card.csv')\n",
    "credit_card_df.head()"
   ]
  },
  {
   "cell_type": "markdown",
   "metadata": {},
   "source": [
    "<!-- END QUESTION -->\n",
    "\n",
    "<br><br>"
   ]
  },
  {
   "cell_type": "markdown",
   "metadata": {},
   "source": [
    "<!-- BEGIN QUESTION -->\n",
    "\n",
    "## 2. Data splitting <a name=\"2\"></a>\n",
    "<hr>\n",
    "rubric={points:2}\n",
    "\n",
    "**Your tasks:**\n",
    "\n",
    "1. Split the data into train (70%) and test (30%) portions with `random_state=123`.\n",
    "\n",
    "> If your computer cannot handle training on 70% training data, make the test split bigger.  "
   ]
  },
  {
   "cell_type": "markdown",
   "metadata": {},
   "source": [
    "<div class=\"alert alert-warning\">\n",
    "    \n",
    "Solution_2\n",
    "    \n",
    "</div>"
   ]
  },
  {
   "cell_type": "code",
   "execution_count": 5,
   "metadata": {
    "tags": []
   },
   "outputs": [],
   "source": [
    "train_df, test_df = train_test_split(credit_card_df, test_size = 0.3, random_state = 123)"
   ]
  },
  {
   "cell_type": "markdown",
   "metadata": {},
   "source": [
    "<!-- END QUESTION -->\n",
    "\n",
    "<br><br>"
   ]
  },
  {
   "cell_type": "code",
   "execution_count": 6,
   "metadata": {},
   "outputs": [
    {
     "data": {
      "text/plain": [
       "2    9815\n",
       "1    7433\n",
       "3    3416\n",
       "5     210\n",
       "4      81\n",
       "6      35\n",
       "0      10\n",
       "Name: EDUCATION, dtype: int64"
      ]
     },
     "execution_count": 6,
     "metadata": {},
     "output_type": "execute_result"
    }
   ],
   "source": [
    "train_df['EDUCATION'].value_counts()"
   ]
  },
  {
   "cell_type": "markdown",
   "metadata": {},
   "source": [
    "<!-- BEGIN QUESTION -->\n",
    "\n",
    "## 3. EDA <a name=\"3\"></a>\n",
    "<hr>\n",
    "rubric={points:10}\n",
    "\n",
    "**Your tasks:**\n",
    "\n",
    "1. Perform exploratory data analysis on the train set.\n",
    "2. Include at least two summary statistics and two visualizations that you find useful, and accompany each one with a sentence explaining it.\n",
    "3. Summarize your initial observations about the data. \n",
    "4. Pick appropriate metric/metrics for assessment. "
   ]
  },
  {
   "cell_type": "markdown",
   "metadata": {},
   "source": [
    "<div class=\"alert alert-warning\">\n",
    "    \n",
    "Solution_3\n",
    "    \n",
    "</div>"
   ]
  },
  {
   "cell_type": "markdown",
   "metadata": {},
   "source": [
    "_Type your answer here, replacing this text._"
   ]
  },
  {
   "cell_type": "code",
   "execution_count": 7,
   "metadata": {
    "tags": []
   },
   "outputs": [
    {
     "name": "stdout",
     "output_type": "stream",
     "text": [
      "<class 'pandas.core.frame.DataFrame'>\n",
      "Int64Index: 21000 entries, 16395 to 19966\n",
      "Data columns (total 25 columns):\n",
      " #   Column                      Non-Null Count  Dtype  \n",
      "---  ------                      --------------  -----  \n",
      " 0   ID                          21000 non-null  int64  \n",
      " 1   LIMIT_BAL                   21000 non-null  float64\n",
      " 2   SEX                         21000 non-null  int64  \n",
      " 3   EDUCATION                   21000 non-null  int64  \n",
      " 4   MARRIAGE                    21000 non-null  int64  \n",
      " 5   AGE                         21000 non-null  int64  \n",
      " 6   PAY_0                       21000 non-null  int64  \n",
      " 7   PAY_2                       21000 non-null  int64  \n",
      " 8   PAY_3                       21000 non-null  int64  \n",
      " 9   PAY_4                       21000 non-null  int64  \n",
      " 10  PAY_5                       21000 non-null  int64  \n",
      " 11  PAY_6                       21000 non-null  int64  \n",
      " 12  BILL_AMT1                   21000 non-null  float64\n",
      " 13  BILL_AMT2                   21000 non-null  float64\n",
      " 14  BILL_AMT3                   21000 non-null  float64\n",
      " 15  BILL_AMT4                   21000 non-null  float64\n",
      " 16  BILL_AMT5                   21000 non-null  float64\n",
      " 17  BILL_AMT6                   21000 non-null  float64\n",
      " 18  PAY_AMT1                    21000 non-null  float64\n",
      " 19  PAY_AMT2                    21000 non-null  float64\n",
      " 20  PAY_AMT3                    21000 non-null  float64\n",
      " 21  PAY_AMT4                    21000 non-null  float64\n",
      " 22  PAY_AMT5                    21000 non-null  float64\n",
      " 23  PAY_AMT6                    21000 non-null  float64\n",
      " 24  default.payment.next.month  21000 non-null  int64  \n",
      "dtypes: float64(13), int64(12)\n",
      "memory usage: 4.2 MB\n"
     ]
    }
   ],
   "source": [
    "train_df.info()"
   ]
  },
  {
   "cell_type": "markdown",
   "metadata": {},
   "source": [
    "All features are numeric features, and no features with missing values."
   ]
  },
  {
   "cell_type": "code",
   "execution_count": 8,
   "metadata": {
    "tags": []
   },
   "outputs": [
    {
     "data": {
      "text/html": [
       "<div>\n",
       "<style scoped>\n",
       "    .dataframe tbody tr th:only-of-type {\n",
       "        vertical-align: middle;\n",
       "    }\n",
       "\n",
       "    .dataframe tbody tr th {\n",
       "        vertical-align: top;\n",
       "    }\n",
       "\n",
       "    .dataframe thead th {\n",
       "        text-align: right;\n",
       "    }\n",
       "</style>\n",
       "<table border=\"1\" class=\"dataframe\">\n",
       "  <thead>\n",
       "    <tr style=\"text-align: right;\">\n",
       "      <th></th>\n",
       "      <th>ID</th>\n",
       "      <th>LIMIT_BAL</th>\n",
       "      <th>SEX</th>\n",
       "      <th>EDUCATION</th>\n",
       "      <th>MARRIAGE</th>\n",
       "      <th>AGE</th>\n",
       "      <th>PAY_0</th>\n",
       "      <th>PAY_2</th>\n",
       "      <th>PAY_3</th>\n",
       "      <th>PAY_4</th>\n",
       "      <th>...</th>\n",
       "      <th>BILL_AMT4</th>\n",
       "      <th>BILL_AMT5</th>\n",
       "      <th>BILL_AMT6</th>\n",
       "      <th>PAY_AMT1</th>\n",
       "      <th>PAY_AMT2</th>\n",
       "      <th>PAY_AMT3</th>\n",
       "      <th>PAY_AMT4</th>\n",
       "      <th>PAY_AMT5</th>\n",
       "      <th>PAY_AMT6</th>\n",
       "      <th>default.payment.next.month</th>\n",
       "    </tr>\n",
       "  </thead>\n",
       "  <tbody>\n",
       "    <tr>\n",
       "      <th>count</th>\n",
       "      <td>21000.000000</td>\n",
       "      <td>21000.000000</td>\n",
       "      <td>21000.000000</td>\n",
       "      <td>21000.000000</td>\n",
       "      <td>21000.000000</td>\n",
       "      <td>21000.000000</td>\n",
       "      <td>21000.000000</td>\n",
       "      <td>21000.000000</td>\n",
       "      <td>21000.000000</td>\n",
       "      <td>21000.000000</td>\n",
       "      <td>...</td>\n",
       "      <td>21000.000000</td>\n",
       "      <td>21000.000000</td>\n",
       "      <td>21000.000000</td>\n",
       "      <td>21000.000000</td>\n",
       "      <td>2.100000e+04</td>\n",
       "      <td>21000.000000</td>\n",
       "      <td>21000.000000</td>\n",
       "      <td>21000.000000</td>\n",
       "      <td>21000.000000</td>\n",
       "      <td>21000.000000</td>\n",
       "    </tr>\n",
       "    <tr>\n",
       "      <th>mean</th>\n",
       "      <td>14962.348238</td>\n",
       "      <td>167880.651429</td>\n",
       "      <td>1.600762</td>\n",
       "      <td>1.852143</td>\n",
       "      <td>1.554000</td>\n",
       "      <td>35.500810</td>\n",
       "      <td>-0.015429</td>\n",
       "      <td>-0.137095</td>\n",
       "      <td>-0.171619</td>\n",
       "      <td>-0.225238</td>\n",
       "      <td>...</td>\n",
       "      <td>43486.610905</td>\n",
       "      <td>40428.518333</td>\n",
       "      <td>38767.202667</td>\n",
       "      <td>5673.585143</td>\n",
       "      <td>5.895027e+03</td>\n",
       "      <td>5311.432286</td>\n",
       "      <td>4774.021381</td>\n",
       "      <td>4751.850095</td>\n",
       "      <td>5237.762190</td>\n",
       "      <td>0.223238</td>\n",
       "    </tr>\n",
       "    <tr>\n",
       "      <th>std</th>\n",
       "      <td>8650.734050</td>\n",
       "      <td>130202.682167</td>\n",
       "      <td>0.489753</td>\n",
       "      <td>0.792961</td>\n",
       "      <td>0.521675</td>\n",
       "      <td>9.212644</td>\n",
       "      <td>1.120465</td>\n",
       "      <td>1.194506</td>\n",
       "      <td>1.196123</td>\n",
       "      <td>1.168556</td>\n",
       "      <td>...</td>\n",
       "      <td>64843.303993</td>\n",
       "      <td>61187.200817</td>\n",
       "      <td>59587.689549</td>\n",
       "      <td>17033.241454</td>\n",
       "      <td>2.180143e+04</td>\n",
       "      <td>18377.997079</td>\n",
       "      <td>15434.136142</td>\n",
       "      <td>15228.193125</td>\n",
       "      <td>18116.846563</td>\n",
       "      <td>0.416427</td>\n",
       "    </tr>\n",
       "    <tr>\n",
       "      <th>min</th>\n",
       "      <td>1.000000</td>\n",
       "      <td>10000.000000</td>\n",
       "      <td>1.000000</td>\n",
       "      <td>0.000000</td>\n",
       "      <td>0.000000</td>\n",
       "      <td>21.000000</td>\n",
       "      <td>-2.000000</td>\n",
       "      <td>-2.000000</td>\n",
       "      <td>-2.000000</td>\n",
       "      <td>-2.000000</td>\n",
       "      <td>...</td>\n",
       "      <td>-50616.000000</td>\n",
       "      <td>-61372.000000</td>\n",
       "      <td>-339603.000000</td>\n",
       "      <td>0.000000</td>\n",
       "      <td>0.000000e+00</td>\n",
       "      <td>0.000000</td>\n",
       "      <td>0.000000</td>\n",
       "      <td>0.000000</td>\n",
       "      <td>0.000000</td>\n",
       "      <td>0.000000</td>\n",
       "    </tr>\n",
       "    <tr>\n",
       "      <th>25%</th>\n",
       "      <td>7498.750000</td>\n",
       "      <td>50000.000000</td>\n",
       "      <td>1.000000</td>\n",
       "      <td>1.000000</td>\n",
       "      <td>1.000000</td>\n",
       "      <td>28.000000</td>\n",
       "      <td>-1.000000</td>\n",
       "      <td>-1.000000</td>\n",
       "      <td>-1.000000</td>\n",
       "      <td>-1.000000</td>\n",
       "      <td>...</td>\n",
       "      <td>2293.750000</td>\n",
       "      <td>1739.500000</td>\n",
       "      <td>1215.750000</td>\n",
       "      <td>1000.000000</td>\n",
       "      <td>8.200000e+02</td>\n",
       "      <td>390.000000</td>\n",
       "      <td>266.000000</td>\n",
       "      <td>234.000000</td>\n",
       "      <td>110.750000</td>\n",
       "      <td>0.000000</td>\n",
       "    </tr>\n",
       "    <tr>\n",
       "      <th>50%</th>\n",
       "      <td>14960.500000</td>\n",
       "      <td>140000.000000</td>\n",
       "      <td>2.000000</td>\n",
       "      <td>2.000000</td>\n",
       "      <td>2.000000</td>\n",
       "      <td>34.000000</td>\n",
       "      <td>0.000000</td>\n",
       "      <td>0.000000</td>\n",
       "      <td>0.000000</td>\n",
       "      <td>0.000000</td>\n",
       "      <td>...</td>\n",
       "      <td>19102.500000</td>\n",
       "      <td>18083.000000</td>\n",
       "      <td>16854.500000</td>\n",
       "      <td>2100.000000</td>\n",
       "      <td>2.007000e+03</td>\n",
       "      <td>1809.500000</td>\n",
       "      <td>1500.000000</td>\n",
       "      <td>1500.000000</td>\n",
       "      <td>1500.000000</td>\n",
       "      <td>0.000000</td>\n",
       "    </tr>\n",
       "    <tr>\n",
       "      <th>75%</th>\n",
       "      <td>22458.250000</td>\n",
       "      <td>240000.000000</td>\n",
       "      <td>2.000000</td>\n",
       "      <td>2.000000</td>\n",
       "      <td>2.000000</td>\n",
       "      <td>41.000000</td>\n",
       "      <td>0.000000</td>\n",
       "      <td>0.000000</td>\n",
       "      <td>0.000000</td>\n",
       "      <td>0.000000</td>\n",
       "      <td>...</td>\n",
       "      <td>54763.250000</td>\n",
       "      <td>50491.000000</td>\n",
       "      <td>49253.750000</td>\n",
       "      <td>5007.250000</td>\n",
       "      <td>5.000000e+03</td>\n",
       "      <td>4628.500000</td>\n",
       "      <td>4021.250000</td>\n",
       "      <td>4016.000000</td>\n",
       "      <td>4000.000000</td>\n",
       "      <td>0.000000</td>\n",
       "    </tr>\n",
       "    <tr>\n",
       "      <th>max</th>\n",
       "      <td>30000.000000</td>\n",
       "      <td>1000000.000000</td>\n",
       "      <td>2.000000</td>\n",
       "      <td>6.000000</td>\n",
       "      <td>3.000000</td>\n",
       "      <td>79.000000</td>\n",
       "      <td>8.000000</td>\n",
       "      <td>8.000000</td>\n",
       "      <td>8.000000</td>\n",
       "      <td>8.000000</td>\n",
       "      <td>...</td>\n",
       "      <td>891586.000000</td>\n",
       "      <td>927171.000000</td>\n",
       "      <td>961664.000000</td>\n",
       "      <td>873552.000000</td>\n",
       "      <td>1.227082e+06</td>\n",
       "      <td>896040.000000</td>\n",
       "      <td>621000.000000</td>\n",
       "      <td>426529.000000</td>\n",
       "      <td>528666.000000</td>\n",
       "      <td>1.000000</td>\n",
       "    </tr>\n",
       "  </tbody>\n",
       "</table>\n",
       "<p>8 rows × 25 columns</p>\n",
       "</div>"
      ],
      "text/plain": [
       "                 ID       LIMIT_BAL           SEX     EDUCATION      MARRIAGE  \\\n",
       "count  21000.000000    21000.000000  21000.000000  21000.000000  21000.000000   \n",
       "mean   14962.348238   167880.651429      1.600762      1.852143      1.554000   \n",
       "std     8650.734050   130202.682167      0.489753      0.792961      0.521675   \n",
       "min        1.000000    10000.000000      1.000000      0.000000      0.000000   \n",
       "25%     7498.750000    50000.000000      1.000000      1.000000      1.000000   \n",
       "50%    14960.500000   140000.000000      2.000000      2.000000      2.000000   \n",
       "75%    22458.250000   240000.000000      2.000000      2.000000      2.000000   \n",
       "max    30000.000000  1000000.000000      2.000000      6.000000      3.000000   \n",
       "\n",
       "                AGE         PAY_0         PAY_2         PAY_3         PAY_4  \\\n",
       "count  21000.000000  21000.000000  21000.000000  21000.000000  21000.000000   \n",
       "mean      35.500810     -0.015429     -0.137095     -0.171619     -0.225238   \n",
       "std        9.212644      1.120465      1.194506      1.196123      1.168556   \n",
       "min       21.000000     -2.000000     -2.000000     -2.000000     -2.000000   \n",
       "25%       28.000000     -1.000000     -1.000000     -1.000000     -1.000000   \n",
       "50%       34.000000      0.000000      0.000000      0.000000      0.000000   \n",
       "75%       41.000000      0.000000      0.000000      0.000000      0.000000   \n",
       "max       79.000000      8.000000      8.000000      8.000000      8.000000   \n",
       "\n",
       "       ...      BILL_AMT4      BILL_AMT5      BILL_AMT6       PAY_AMT1  \\\n",
       "count  ...   21000.000000   21000.000000   21000.000000   21000.000000   \n",
       "mean   ...   43486.610905   40428.518333   38767.202667    5673.585143   \n",
       "std    ...   64843.303993   61187.200817   59587.689549   17033.241454   \n",
       "min    ...  -50616.000000  -61372.000000 -339603.000000       0.000000   \n",
       "25%    ...    2293.750000    1739.500000    1215.750000    1000.000000   \n",
       "50%    ...   19102.500000   18083.000000   16854.500000    2100.000000   \n",
       "75%    ...   54763.250000   50491.000000   49253.750000    5007.250000   \n",
       "max    ...  891586.000000  927171.000000  961664.000000  873552.000000   \n",
       "\n",
       "           PAY_AMT2       PAY_AMT3       PAY_AMT4       PAY_AMT5  \\\n",
       "count  2.100000e+04   21000.000000   21000.000000   21000.000000   \n",
       "mean   5.895027e+03    5311.432286    4774.021381    4751.850095   \n",
       "std    2.180143e+04   18377.997079   15434.136142   15228.193125   \n",
       "min    0.000000e+00       0.000000       0.000000       0.000000   \n",
       "25%    8.200000e+02     390.000000     266.000000     234.000000   \n",
       "50%    2.007000e+03    1809.500000    1500.000000    1500.000000   \n",
       "75%    5.000000e+03    4628.500000    4021.250000    4016.000000   \n",
       "max    1.227082e+06  896040.000000  621000.000000  426529.000000   \n",
       "\n",
       "            PAY_AMT6  default.payment.next.month  \n",
       "count   21000.000000                21000.000000  \n",
       "mean     5237.762190                    0.223238  \n",
       "std     18116.846563                    0.416427  \n",
       "min         0.000000                    0.000000  \n",
       "25%       110.750000                    0.000000  \n",
       "50%      1500.000000                    0.000000  \n",
       "75%      4000.000000                    0.000000  \n",
       "max    528666.000000                    1.000000  \n",
       "\n",
       "[8 rows x 25 columns]"
      ]
     },
     "execution_count": 8,
     "metadata": {},
     "output_type": "execute_result"
    }
   ],
   "source": [
    "train_df.describe()"
   ]
  },
  {
   "cell_type": "markdown",
   "metadata": {
    "tags": []
   },
   "source": [
    "The range of all features are very different, we may apply scaling transformers on the dataset."
   ]
  },
  {
   "cell_type": "code",
   "execution_count": 9,
   "metadata": {
    "tags": []
   },
   "outputs": [
    {
     "data": {
      "image/png": "[encoded data removed]",
      "text/plain": [
       "<Figure size 640x480 with 1 Axes>"
      ]
     },
     "metadata": {},
     "output_type": "display_data"
    }
   ],
   "source": [
    "# visualize target with histogram\n",
    "plt.hist(train_df['default.payment.next.month'], bins = 10)\n",
    "plt.xlabel('Default Payment Next Month')\n",
    "plt.ylabel('Count')\n",
    "plt.title('Count of Default Payment Next Month')\n",
    "plt.show()"
   ]
  },
  {
   "cell_type": "markdown",
   "metadata": {
    "tags": []
   },
   "source": [
    "The target default.payment.next.month has two classes, 0 and 1, and we can see there is a class imbalance in the dataset."
   ]
  },
  {
   "cell_type": "code",
   "execution_count": 10,
   "metadata": {
    "tags": []
   },
   "outputs": [
    {
     "data": {
      "text/plain": [
       "0    0.776762\n",
       "1    0.223238\n",
       "Name: default.payment.next.month, dtype: float64"
      ]
     },
     "execution_count": 10,
     "metadata": {},
     "output_type": "execute_result"
    }
   ],
   "source": [
    "train_df['default.payment.next.month'].value_counts(normalize = True)"
   ]
  },
  {
   "cell_type": "markdown",
   "metadata": {},
   "source": [
    "Class 0 occupied 77.7% of the total number of targets, class 1 occupied 22.3% of the total number of targets."
   ]
  },
  {
   "cell_type": "code",
   "execution_count": 11,
   "metadata": {
    "tags": []
   },
   "outputs": [
    {
     "data": {
      "image/png": "[encoded data removed]",
      "text/plain": [
       "<Figure size 2000x2000 with 2 Axes>"
      ]
     },
     "metadata": {},
     "output_type": "display_data"
    }
   ],
   "source": [
    "cor = train_df.corr()\n",
    "plt.figure(figsize = (20, 20))\n",
    "sns.heatmap(cor, annot = True, cmap = plt.cm.Blues)\n",
    "plt.title('Heatmap of features')\n",
    "plt.show()"
   ]
  },
  {
   "cell_type": "markdown",
   "metadata": {
    "tags": []
   },
   "source": [
    "From the heatmap, we can see that the features pay_0, pay_2, pay_3, pay_4, pay_5, pay_6 are most correlated to the target, default.payment.next.month, pay_0 is the highest."
   ]
  },
  {
   "cell_type": "markdown",
   "metadata": {
    "tags": []
   },
   "source": [
    "Overall, all features are numeric data and with no missing values, but all features have significantly different scales. The target data is class imbalanced, 77.7% clients don't default payment, only 22.3% clients default payment, which makes sense as majority people don't default credit card payment in real life. The repayment status in 6 months are the most correlated to the target. \n",
    "\n",
    "By reading documentations of the dataset, SEX is a binary feature, MARRIAGE, pay_0, pay_2, pay_3, pay_4, pay_5, pay_6 are categorical features but encoded in integer, EDUCATION can be considered as an ordinal feature."
   ]
  },
  {
   "cell_type": "markdown",
   "metadata": {
    "tags": []
   },
   "source": [
    "In the context, spotting the examples of default payment next month is more valuable. We have class imbalance in our dataset, the metric accuracy will not be reliable that much, therefore, I will pick metrics accuracy, precision, recall, f1 score, ROC-AUC score for assessment. Precision, recall, f1 score and ROC-AUC are more informative than accuracy when dealing with class imbalance."
   ]
  },
  {
   "cell_type": "code",
   "execution_count": 12,
   "metadata": {
    "tags": []
   },
   "outputs": [
    {
     "data": {
      "text/plain": [
       "Ellipsis"
      ]
     },
     "execution_count": 12,
     "metadata": {},
     "output_type": "execute_result"
    }
   ],
   "source": [
    "..."
   ]
  },
  {
   "cell_type": "markdown",
   "metadata": {},
   "source": [
    "<!-- END QUESTION -->\n",
    "\n",
    "<br><br>"
   ]
  },
  {
   "cell_type": "markdown",
   "metadata": {},
   "source": [
    "<!-- BEGIN QUESTION -->\n",
    "\n",
    "## (Optional) 4. Feature engineering <a name=\"4\"></a>\n",
    "<hr>\n",
    "rubric={points:1}\n",
    "\n",
    "**Your tasks:**\n",
    "\n",
    "1. Carry out feature engineering. In other words, extract new features relevant for the problem and work with your new feature set in the following exercises. You may have to go back and forth between feature engineering and preprocessing. "
   ]
  },
  {
   "cell_type": "markdown",
   "metadata": {},
   "source": [
    "<div class=\"alert alert-warning\">\n",
    "    \n",
    "Solution_4\n",
    "    \n",
    "</div>"
   ]
  },
  {
   "cell_type": "markdown",
   "metadata": {},
   "source": [
    "<!-- END QUESTION -->\n",
    "\n",
    "<br><br>"
   ]
  },
  {
   "cell_type": "markdown",
   "metadata": {},
   "source": [
    "<!-- BEGIN QUESTION -->\n",
    "\n",
    "## 5. Preprocessing and transformations <a name=\"5\"></a>\n",
    "<hr>\n",
    "rubric={points:10}\n",
    "\n",
    "**Your tasks:**\n",
    "\n",
    "1. Identify different feature types and the transformations you would apply on each feature type. \n",
    "2. Define a column transformer, if necessary. "
   ]
  },
  {
   "cell_type": "markdown",
   "metadata": {},
   "source": [
    "<div class=\"alert alert-warning\">\n",
    "    \n",
    "Solution_5\n",
    "    \n",
    "</div>"
   ]
  },
  {
   "cell_type": "code",
   "execution_count": 13,
   "metadata": {
    "tags": []
   },
   "outputs": [
    {
     "data": {
      "text/plain": [
       "array([ 320000.,  440000.,  160000.,  120000.,   50000.,  290000.,\n",
       "         30000.,  200000.,  220000.,  300000.,   80000.,  190000.,\n",
       "        130000.,   10000.,  100000.,   90000.,   20000.,  500000.,\n",
       "        170000.,  400000.,  180000.,   70000.,  310000.,  140000.,\n",
       "        280000.,   60000.,  150000.,  480000.,  260000.,  210000.,\n",
       "        330000.,  240000.,  230000.,  430000.,  360000.,  110000.,\n",
       "        390000.,  470000.,  270000.,  490000.,  380000., 1000000.,\n",
       "        450000.,   40000.,  340000.,  250000.,  410000.,  370000.,\n",
       "        550000.,  460000.,  350000.,  420000.,  510000.,  680000.,\n",
       "        710000.,  530000.,  600000.,  590000.,  650000.,  700000.,\n",
       "        540000.,  660000.,  630000.,  640000.,  520000.,  560000.,\n",
       "        760000.,  570000.,  610000.,  720000.,  670000.,  580000.,\n",
       "        730000.,  780000.,  750000.,  620000.,  690000.,   16000.,\n",
       "        800000.,  327680.])"
      ]
     },
     "execution_count": 13,
     "metadata": {},
     "output_type": "execute_result"
    }
   ],
   "source": [
    "train_df['LIMIT_BAL'].unique()"
   ]
  },
  {
   "cell_type": "code",
   "execution_count": 14,
   "metadata": {
    "tags": []
   },
   "outputs": [
    {
     "data": {
      "text/plain": [
       "array([2, 1], dtype=int64)"
      ]
     },
     "execution_count": 14,
     "metadata": {},
     "output_type": "execute_result"
    }
   ],
   "source": [
    "train_df['SEX'].unique()"
   ]
  },
  {
   "cell_type": "code",
   "execution_count": 15,
   "metadata": {
    "tags": []
   },
   "outputs": [
    {
     "data": {
      "text/plain": [
       "array([1, 3, 2, 5, 4, 6, 0], dtype=int64)"
      ]
     },
     "execution_count": 15,
     "metadata": {},
     "output_type": "execute_result"
    }
   ],
   "source": [
    "train_df['EDUCATION'].unique()"
   ]
  },
  {
   "cell_type": "code",
   "execution_count": 16,
   "metadata": {
    "tags": []
   },
   "outputs": [
    {
     "data": {
      "text/plain": [
       "array([2, 1, 3, 0], dtype=int64)"
      ]
     },
     "execution_count": 16,
     "metadata": {},
     "output_type": "execute_result"
    }
   ],
   "source": [
    "train_df['MARRIAGE'].unique()"
   ]
  },
  {
   "cell_type": "code",
   "execution_count": 17,
   "metadata": {
    "tags": []
   },
   "outputs": [
    {
     "data": {
      "text/plain": [
       "array([36, 30, 44, 54, 37, 24, 56, 26, 49, 33, 25, 35, 40, 31, 38, 39, 46,\n",
       "       52, 27, 29, 51, 32, 50, 28, 23, 48, 69, 42, 47, 45, 57, 34, 22, 41,\n",
       "       53, 55, 59, 62, 43, 61, 58, 60, 66, 65, 21, 64, 67, 70, 63, 68, 72,\n",
       "       75, 79, 73, 74, 71], dtype=int64)"
      ]
     },
     "execution_count": 17,
     "metadata": {},
     "output_type": "execute_result"
    }
   ],
   "source": [
    "train_df['AGE'].unique()"
   ]
  },
  {
   "cell_type": "code",
   "execution_count": 18,
   "metadata": {
    "tags": []
   },
   "outputs": [
    {
     "data": {
      "text/plain": [
       "array([ 0, -1, -2,  1,  2,  3,  5,  8,  7,  4,  6], dtype=int64)"
      ]
     },
     "execution_count": 18,
     "metadata": {},
     "output_type": "execute_result"
    }
   ],
   "source": [
    "# skip PAY_2 to PAY_6 as they have the same scale\n",
    "train_df['PAY_0'].unique()"
   ]
  },
  {
   "cell_type": "markdown",
   "metadata": {
    "tags": []
   },
   "source": [
    "As we analyzed in part 3 and print results of value_counts() above, we can identify feature types and appropriate transformations applying on each feature type:\n",
    "- ID: numeric data type, drop it as it is not a useful feature for prediction\n",
    "- LIMIT_BAL: numeric feature, very large values so apply scaling transformations\n",
    "- SEX: categorical binary feature represented by numeric numbers, no need to apply transformation\n",
    "- EDUCATION: ordinal categorical feature represented by numeric numbers, no need to apply transformation\n",
    "- MARRIAGE: categorical feature represented by numeric numbers, no need to apply transformation\n",
    "- AGE: numeric feature, reasonable magnitudes but apply scaling transformation for all features have the similar scales\n",
    "- PAY_0-PAY_6: categorical feature represented by numeric numbers, no need to apply transformation\n",
    "- BILL_AMT1-BILL_AMT6, PAY_AMT1-PAY_AMT6: numeric features, all large values, apply scaling transformation"
   ]
  },
  {
   "cell_type": "code",
   "execution_count": 19,
   "metadata": {
    "tags": []
   },
   "outputs": [],
   "source": [
    "X_train, y_train = train_df.drop(columns = ['default.payment.next.month']), train_df['default.payment.next.month']\n",
    "X_test, y_test = test_df.drop(columns = ['default.payment.next.month']), test_df['default.payment.next.month']"
   ]
  },
  {
   "cell_type": "code",
   "execution_count": 20,
   "metadata": {
    "tags": []
   },
   "outputs": [],
   "source": [
    "numeric_feats = [\n",
    "    'LIMIT_BAL', \n",
    "    'AGE', \n",
    "    'BILL_AMT1', \n",
    "    'BILL_AMT2',\n",
    "    'BILL_AMT3',\n",
    "    'BILL_AMT4',\n",
    "    'BILL_AMT5',\n",
    "    'BILL_AMT6',\n",
    "    'PAY_AMT1',\n",
    "    'PAY_AMT2',\n",
    "    'PAY_AMT3',\n",
    "    'PAY_AMT4',\n",
    "    'PAY_AMT5',\n",
    "    'PAY_AMT6',\n",
    "]\n",
    "\n",
    "passthrough_feats = [\n",
    "    'SEX',\n",
    "    'EDUCATION',\n",
    "    'MARRIAGE',\n",
    "    'PAY_0',\n",
    "    'PAY_2',\n",
    "    'PAY_3',\n",
    "    'PAY_4',\n",
    "    'PAY_5',\n",
    "    'PAY_6',\n",
    "]\n",
    "\n",
    "drop_feats = ['ID']"
   ]
  },
  {
   "cell_type": "code",
   "execution_count": 21,
   "metadata": {
    "tags": []
   },
   "outputs": [],
   "source": [
    "# 0, 6, 5, 4 are unknow, 3, 2, 1 ordered by ascending\n",
    "education_levels = ['0', '6', '5', '4', '3', '2', '1']"
   ]
  },
  {
   "cell_type": "code",
   "execution_count": 22,
   "metadata": {
    "tags": []
   },
   "outputs": [],
   "source": [
    "ct = make_column_transformer(\n",
    "    (StandardScaler(), numeric_feats),\n",
    "    ('passthrough', passthrough_feats),\n",
    "    ('drop', drop_feats),\n",
    ")"
   ]
  },
  {
   "cell_type": "code",
   "execution_count": 23,
   "metadata": {
    "tags": []
   },
   "outputs": [],
   "source": [
    "X_train_transformed = ct.fit_transform(X_train)\n",
    "X_test_transformed = ct.transform(X_test)"
   ]
  },
  {
   "cell_type": "code",
   "execution_count": 24,
   "metadata": {
    "tags": []
   },
   "outputs": [
    {
     "data": {
      "text/plain": [
       "['LIMIT_BAL',\n",
       " 'AGE',\n",
       " 'BILL_AMT1',\n",
       " 'BILL_AMT2',\n",
       " 'BILL_AMT3',\n",
       " 'BILL_AMT4',\n",
       " 'BILL_AMT5',\n",
       " 'BILL_AMT6',\n",
       " 'PAY_AMT1',\n",
       " 'PAY_AMT2',\n",
       " 'PAY_AMT3',\n",
       " 'PAY_AMT4',\n",
       " 'PAY_AMT5',\n",
       " 'PAY_AMT6',\n",
       " 'SEX',\n",
       " 'EDUCATION',\n",
       " 'MARRIAGE',\n",
       " 'PAY_0',\n",
       " 'PAY_2',\n",
       " 'PAY_3',\n",
       " 'PAY_4',\n",
       " 'PAY_5',\n",
       " 'PAY_6']"
      ]
     },
     "execution_count": 24,
     "metadata": {},
     "output_type": "execute_result"
    }
   ],
   "source": [
    "column_names = (\n",
    "    numeric_feats\n",
    "    + passthrough_feats\n",
    ")\n",
    "column_names"
   ]
  },
  {
   "cell_type": "code",
   "execution_count": 25,
   "metadata": {
    "tags": []
   },
   "outputs": [
    {
     "data": {
      "text/html": [
       "<div>\n",
       "<style scoped>\n",
       "    .dataframe tbody tr th:only-of-type {\n",
       "        vertical-align: middle;\n",
       "    }\n",
       "\n",
       "    .dataframe tbody tr th {\n",
       "        vertical-align: top;\n",
       "    }\n",
       "\n",
       "    .dataframe thead th {\n",
       "        text-align: right;\n",
       "    }\n",
       "</style>\n",
       "<table border=\"1\" class=\"dataframe\">\n",
       "  <thead>\n",
       "    <tr style=\"text-align: right;\">\n",
       "      <th></th>\n",
       "      <th>LIMIT_BAL</th>\n",
       "      <th>AGE</th>\n",
       "      <th>BILL_AMT1</th>\n",
       "      <th>BILL_AMT2</th>\n",
       "      <th>BILL_AMT3</th>\n",
       "      <th>BILL_AMT4</th>\n",
       "      <th>BILL_AMT5</th>\n",
       "      <th>BILL_AMT6</th>\n",
       "      <th>PAY_AMT1</th>\n",
       "      <th>PAY_AMT2</th>\n",
       "      <th>...</th>\n",
       "      <th>PAY_AMT6</th>\n",
       "      <th>SEX</th>\n",
       "      <th>EDUCATION</th>\n",
       "      <th>MARRIAGE</th>\n",
       "      <th>PAY_0</th>\n",
       "      <th>PAY_2</th>\n",
       "      <th>PAY_3</th>\n",
       "      <th>PAY_4</th>\n",
       "      <th>PAY_5</th>\n",
       "      <th>PAY_6</th>\n",
       "    </tr>\n",
       "  </thead>\n",
       "  <tbody>\n",
       "    <tr>\n",
       "      <th>0</th>\n",
       "      <td>1.168355</td>\n",
       "      <td>0.054187</td>\n",
       "      <td>-0.300665</td>\n",
       "      <td>-0.293394</td>\n",
       "      <td>-0.265310</td>\n",
       "      <td>-0.371930</td>\n",
       "      <td>-0.494781</td>\n",
       "      <td>-0.587035</td>\n",
       "      <td>-0.039546</td>\n",
       "      <td>-0.040229</td>\n",
       "      <td>...</td>\n",
       "      <td>0.097991</td>\n",
       "      <td>2.0</td>\n",
       "      <td>1.0</td>\n",
       "      <td>2.0</td>\n",
       "      <td>0.0</td>\n",
       "      <td>0.0</td>\n",
       "      <td>0.0</td>\n",
       "      <td>0.0</td>\n",
       "      <td>0.0</td>\n",
       "      <td>0.0</td>\n",
       "    </tr>\n",
       "    <tr>\n",
       "      <th>1</th>\n",
       "      <td>2.090017</td>\n",
       "      <td>-0.597108</td>\n",
       "      <td>-0.685307</td>\n",
       "      <td>-0.679495</td>\n",
       "      <td>0.585444</td>\n",
       "      <td>1.970295</td>\n",
       "      <td>1.805461</td>\n",
       "      <td>1.327534</td>\n",
       "      <td>-0.297166</td>\n",
       "      <td>3.739796</td>\n",
       "      <td>...</td>\n",
       "      <td>2.562606</td>\n",
       "      <td>2.0</td>\n",
       "      <td>1.0</td>\n",
       "      <td>2.0</td>\n",
       "      <td>-1.0</td>\n",
       "      <td>-1.0</td>\n",
       "      <td>-1.0</td>\n",
       "      <td>0.0</td>\n",
       "      <td>0.0</td>\n",
       "      <td>0.0</td>\n",
       "    </tr>\n",
       "    <tr>\n",
       "      <th>2</th>\n",
       "      <td>-0.060527</td>\n",
       "      <td>0.922579</td>\n",
       "      <td>-0.696132</td>\n",
       "      <td>-0.688319</td>\n",
       "      <td>-0.681234</td>\n",
       "      <td>-0.670935</td>\n",
       "      <td>-0.661045</td>\n",
       "      <td>-0.650908</td>\n",
       "      <td>-0.333097</td>\n",
       "      <td>-0.270403</td>\n",
       "      <td>...</td>\n",
       "      <td>-0.289117</td>\n",
       "      <td>2.0</td>\n",
       "      <td>3.0</td>\n",
       "      <td>1.0</td>\n",
       "      <td>-2.0</td>\n",
       "      <td>-2.0</td>\n",
       "      <td>-2.0</td>\n",
       "      <td>-2.0</td>\n",
       "      <td>-2.0</td>\n",
       "      <td>-2.0</td>\n",
       "    </tr>\n",
       "    <tr>\n",
       "      <th>3</th>\n",
       "      <td>-0.367748</td>\n",
       "      <td>-0.597108</td>\n",
       "      <td>0.687456</td>\n",
       "      <td>0.752583</td>\n",
       "      <td>0.835581</td>\n",
       "      <td>0.918719</td>\n",
       "      <td>0.501203</td>\n",
       "      <td>0.144527</td>\n",
       "      <td>-0.115517</td>\n",
       "      <td>-0.018028</td>\n",
       "      <td>...</td>\n",
       "      <td>-0.195169</td>\n",
       "      <td>2.0</td>\n",
       "      <td>2.0</td>\n",
       "      <td>1.0</td>\n",
       "      <td>0.0</td>\n",
       "      <td>0.0</td>\n",
       "      <td>0.0</td>\n",
       "      <td>0.0</td>\n",
       "      <td>0.0</td>\n",
       "      <td>0.0</td>\n",
       "    </tr>\n",
       "    <tr>\n",
       "      <th>4</th>\n",
       "      <td>-0.905384</td>\n",
       "      <td>2.008070</td>\n",
       "      <td>-0.040230</td>\n",
       "      <td>-0.031399</td>\n",
       "      <td>-0.287429</td>\n",
       "      <td>-0.245237</td>\n",
       "      <td>-0.204599</td>\n",
       "      <td>-0.191104</td>\n",
       "      <td>-0.333097</td>\n",
       "      <td>-0.206185</td>\n",
       "      <td>...</td>\n",
       "      <td>-0.206319</td>\n",
       "      <td>1.0</td>\n",
       "      <td>2.0</td>\n",
       "      <td>2.0</td>\n",
       "      <td>1.0</td>\n",
       "      <td>2.0</td>\n",
       "      <td>0.0</td>\n",
       "      <td>0.0</td>\n",
       "      <td>0.0</td>\n",
       "      <td>0.0</td>\n",
       "    </tr>\n",
       "  </tbody>\n",
       "</table>\n",
       "<p>5 rows × 23 columns</p>\n",
       "</div>"
      ],
      "text/plain": [
       "   LIMIT_BAL       AGE  BILL_AMT1  BILL_AMT2  BILL_AMT3  BILL_AMT4  BILL_AMT5  \\\n",
       "0   1.168355  0.054187  -0.300665  -0.293394  -0.265310  -0.371930  -0.494781   \n",
       "1   2.090017 -0.597108  -0.685307  -0.679495   0.585444   1.970295   1.805461   \n",
       "2  -0.060527  0.922579  -0.696132  -0.688319  -0.681234  -0.670935  -0.661045   \n",
       "3  -0.367748 -0.597108   0.687456   0.752583   0.835581   0.918719   0.501203   \n",
       "4  -0.905384  2.008070  -0.040230  -0.031399  -0.287429  -0.245237  -0.204599   \n",
       "\n",
       "   BILL_AMT6  PAY_AMT1  PAY_AMT2  ...  PAY_AMT6  SEX  EDUCATION  MARRIAGE  \\\n",
       "0  -0.587035 -0.039546 -0.040229  ...  0.097991  2.0        1.0       2.0   \n",
       "1   1.327534 -0.297166  3.739796  ...  2.562606  2.0        1.0       2.0   \n",
       "2  -0.650908 -0.333097 -0.270403  ... -0.289117  2.0        3.0       1.0   \n",
       "3   0.144527 -0.115517 -0.018028  ... -0.195169  2.0        2.0       1.0   \n",
       "4  -0.191104 -0.333097 -0.206185  ... -0.206319  1.0        2.0       2.0   \n",
       "\n",
       "   PAY_0  PAY_2  PAY_3  PAY_4  PAY_5  PAY_6  \n",
       "0    0.0    0.0    0.0    0.0    0.0    0.0  \n",
       "1   -1.0   -1.0   -1.0    0.0    0.0    0.0  \n",
       "2   -2.0   -2.0   -2.0   -2.0   -2.0   -2.0  \n",
       "3    0.0    0.0    0.0    0.0    0.0    0.0  \n",
       "4    1.0    2.0    0.0    0.0    0.0    0.0  \n",
       "\n",
       "[5 rows x 23 columns]"
      ]
     },
     "execution_count": 25,
     "metadata": {},
     "output_type": "execute_result"
    }
   ],
   "source": [
    "pd.DataFrame(X_train_transformed, columns = column_names).head()"
   ]
  },
  {
   "cell_type": "markdown",
   "metadata": {},
   "source": [
    "<!-- END QUESTION -->\n",
    "\n",
    "<br><br>"
   ]
  },
  {
   "cell_type": "markdown",
   "metadata": {},
   "source": [
    "<!-- BEGIN QUESTION -->\n",
    "\n",
    "## 6. Baseline model <a name=\"6\"></a>\n",
    "<hr>\n",
    "rubric={points:2}\n",
    "\n",
    "**Your tasks:**\n",
    "1. Try `scikit-learn`'s baseline model and report results."
   ]
  },
  {
   "cell_type": "markdown",
   "metadata": {},
   "source": [
    "<div class=\"alert alert-warning\">\n",
    "    \n",
    "Solution_6\n",
    "    \n",
    "</div>"
   ]
  },
  {
   "cell_type": "code",
   "execution_count": 26,
   "metadata": {
    "tags": []
   },
   "outputs": [
    {
     "data": {
      "text/html": [
       "<div>\n",
       "<style scoped>\n",
       "    .dataframe tbody tr th:only-of-type {\n",
       "        vertical-align: middle;\n",
       "    }\n",
       "\n",
       "    .dataframe tbody tr th {\n",
       "        vertical-align: top;\n",
       "    }\n",
       "\n",
       "    .dataframe thead th {\n",
       "        text-align: right;\n",
       "    }\n",
       "</style>\n",
       "<table border=\"1\" class=\"dataframe\">\n",
       "  <thead>\n",
       "    <tr style=\"text-align: right;\">\n",
       "      <th></th>\n",
       "      <th>fit_time</th>\n",
       "      <th>score_time</th>\n",
       "      <th>test_score</th>\n",
       "      <th>train_score</th>\n",
       "    </tr>\n",
       "  </thead>\n",
       "  <tbody>\n",
       "    <tr>\n",
       "      <th>0</th>\n",
       "      <td>0.002024</td>\n",
       "      <td>0.000999</td>\n",
       "      <td>0.776905</td>\n",
       "      <td>0.776726</td>\n",
       "    </tr>\n",
       "    <tr>\n",
       "      <th>1</th>\n",
       "      <td>0.003093</td>\n",
       "      <td>0.000999</td>\n",
       "      <td>0.776905</td>\n",
       "      <td>0.776726</td>\n",
       "    </tr>\n",
       "    <tr>\n",
       "      <th>2</th>\n",
       "      <td>0.003002</td>\n",
       "      <td>0.000000</td>\n",
       "      <td>0.776667</td>\n",
       "      <td>0.776786</td>\n",
       "    </tr>\n",
       "    <tr>\n",
       "      <th>3</th>\n",
       "      <td>0.003012</td>\n",
       "      <td>0.001458</td>\n",
       "      <td>0.776667</td>\n",
       "      <td>0.776786</td>\n",
       "    </tr>\n",
       "    <tr>\n",
       "      <th>4</th>\n",
       "      <td>0.002029</td>\n",
       "      <td>0.000977</td>\n",
       "      <td>0.776667</td>\n",
       "      <td>0.776786</td>\n",
       "    </tr>\n",
       "  </tbody>\n",
       "</table>\n",
       "</div>"
      ],
      "text/plain": [
       "   fit_time  score_time  test_score  train_score\n",
       "0  0.002024    0.000999    0.776905     0.776726\n",
       "1  0.003093    0.000999    0.776905     0.776726\n",
       "2  0.003002    0.000000    0.776667     0.776786\n",
       "3  0.003012    0.001458    0.776667     0.776786\n",
       "4  0.002029    0.000977    0.776667     0.776786"
      ]
     },
     "execution_count": 26,
     "metadata": {},
     "output_type": "execute_result"
    }
   ],
   "source": [
    "dummy = DummyClassifier(strategy = 'most_frequent')\n",
    "score = cross_validate(dummy, X_train_transformed, y_train, return_train_score = True)\n",
    "pd.DataFrame(score)"
   ]
  },
  {
   "cell_type": "markdown",
   "metadata": {},
   "source": [
    "By cross validation, both cross-validation score and train_score are 0.776, which is the percentage of majority class of our target."
   ]
  },
  {
   "cell_type": "markdown",
   "metadata": {},
   "source": [
    "Now look at confusion matrix, precision, recall, f1 score, ROC-AUC score."
   ]
  },
  {
   "cell_type": "code",
   "execution_count": 27,
   "metadata": {
    "tags": []
   },
   "outputs": [
    {
     "data": {
      "text/plain": [
       "array([[16312,     0],\n",
       "       [ 4688,     0]], dtype=int64)"
      ]
     },
     "execution_count": 27,
     "metadata": {},
     "output_type": "execute_result"
    }
   ],
   "source": [
    "from sklearn.model_selection import cross_val_predict\n",
    "confusion_matrix(y_train, cross_val_predict(dummy, X_train_transformed, y_train))"
   ]
  },
  {
   "cell_type": "markdown",
   "metadata": {},
   "source": [
    "16312 TN, 4688 FN, 0 FP, 0 TP "
   ]
  },
  {
   "cell_type": "code",
   "execution_count": 28,
   "metadata": {
    "tags": []
   },
   "outputs": [
    {
     "data": {
      "text/plain": [
       "fit_time         0.002752\n",
       "score_time       0.002786\n",
       "test_accuracy    0.776762\n",
       "test_roc_auc     0.500000\n",
       "dtype: float64"
      ]
     },
     "execution_count": 28,
     "metadata": {},
     "output_type": "execute_result"
    }
   ],
   "source": [
    "scoring = ['accuracy', 'roc_auc']\n",
    "scores = cross_validate(dummy, X_train_transformed, y_train, scoring = scoring)\n",
    "pd.DataFrame(scores).mean()"
   ]
  },
  {
   "cell_type": "markdown",
   "metadata": {},
   "source": [
    "TP and FP are both 0 then caused zero_division, so unable to check precision, recall, and f1 scores. roc-auc score is 0.5, which means the classifier is random."
   ]
  },
  {
   "cell_type": "markdown",
   "metadata": {},
   "source": [
    "<!-- END QUESTION -->\n",
    "\n"
   ]
  },
  {
   "cell_type": "code",
   "execution_count": 29,
   "metadata": {},
   "outputs": [
    {
     "data": {
      "text/plain": [
       "array([0.77690476, 0.77690476, 0.77666667, 0.77666667, 0.77666667])"
      ]
     },
     "execution_count": 29,
     "metadata": {},
     "output_type": "execute_result"
    }
   ],
   "source": [
    "cross_val_score(dummy, X_train, y_train)"
   ]
  },
  {
   "cell_type": "markdown",
   "metadata": {},
   "source": [
    "<br><br>"
   ]
  },
  {
   "cell_type": "markdown",
   "metadata": {},
   "source": [
    "<!-- BEGIN QUESTION -->\n",
    "\n",
    "## 7. Linear models <a name=\"7\"></a>\n",
    "<hr>\n",
    "rubric={points:10}\n",
    "\n",
    "**Your tasks:**\n",
    "\n",
    "1. Try a linear model as a first real attempt. \n",
    "2. Carry out hyperparameter tuning to explore different values for the complexity hyperparameter. \n",
    "3. Report cross-validation scores along with standard deviation. \n",
    "4. Summarize your results."
   ]
  },
  {
   "cell_type": "markdown",
   "metadata": {},
   "source": [
    "<div class=\"alert alert-warning\">\n",
    "    \n",
    "Solution_7\n",
    "    \n",
    "</div>"
   ]
  },
  {
   "cell_type": "markdown",
   "metadata": {},
   "source": [
    "As this is a classification problem, we choose Logistic Regression as our linear model for assessment. The following is hyperparameter tuning with different C values."
   ]
  },
  {
   "cell_type": "code",
   "execution_count": 30,
   "metadata": {
    "tags": []
   },
   "outputs": [
    {
     "data": {
      "text/html": [
       "<div>\n",
       "<style scoped>\n",
       "    .dataframe tbody tr th:only-of-type {\n",
       "        vertical-align: middle;\n",
       "    }\n",
       "\n",
       "    .dataframe tbody tr th {\n",
       "        vertical-align: top;\n",
       "    }\n",
       "\n",
       "    .dataframe thead th {\n",
       "        text-align: right;\n",
       "    }\n",
       "</style>\n",
       "<table border=\"1\" class=\"dataframe\">\n",
       "  <thead>\n",
       "    <tr style=\"text-align: right;\">\n",
       "      <th></th>\n",
       "      <th>C</th>\n",
       "      <th>mean_fit_time</th>\n",
       "      <th>mean_score_time</th>\n",
       "      <th>mean_train_scores</th>\n",
       "      <th>mean_cv_scores</th>\n",
       "      <th>cv_std_scores</th>\n",
       "    </tr>\n",
       "  </thead>\n",
       "  <tbody>\n",
       "    <tr>\n",
       "      <th>0</th>\n",
       "      <td>0.0001</td>\n",
       "      <td>0.024970</td>\n",
       "      <td>0.001014</td>\n",
       "      <td>0.780179</td>\n",
       "      <td>0.780095</td>\n",
       "      <td>0.000959</td>\n",
       "    </tr>\n",
       "    <tr>\n",
       "      <th>1</th>\n",
       "      <td>0.0010</td>\n",
       "      <td>0.034431</td>\n",
       "      <td>0.000945</td>\n",
       "      <td>0.801738</td>\n",
       "      <td>0.801857</td>\n",
       "      <td>0.003120</td>\n",
       "    </tr>\n",
       "    <tr>\n",
       "      <th>2</th>\n",
       "      <td>0.0100</td>\n",
       "      <td>0.052489</td>\n",
       "      <td>0.000204</td>\n",
       "      <td>0.809095</td>\n",
       "      <td>0.808905</td>\n",
       "      <td>0.002306</td>\n",
       "    </tr>\n",
       "    <tr>\n",
       "      <th>3</th>\n",
       "      <td>0.1000</td>\n",
       "      <td>0.070632</td>\n",
       "      <td>0.000701</td>\n",
       "      <td>0.810024</td>\n",
       "      <td>0.809810</td>\n",
       "      <td>0.002271</td>\n",
       "    </tr>\n",
       "    <tr>\n",
       "      <th>4</th>\n",
       "      <td>1.0000</td>\n",
       "      <td>0.078285</td>\n",
       "      <td>0.000791</td>\n",
       "      <td>0.810167</td>\n",
       "      <td>0.810048</td>\n",
       "      <td>0.002174</td>\n",
       "    </tr>\n",
       "    <tr>\n",
       "      <th>5</th>\n",
       "      <td>10.0000</td>\n",
       "      <td>0.078119</td>\n",
       "      <td>0.000845</td>\n",
       "      <td>0.810190</td>\n",
       "      <td>0.810000</td>\n",
       "      <td>0.002187</td>\n",
       "    </tr>\n",
       "    <tr>\n",
       "      <th>6</th>\n",
       "      <td>100.0000</td>\n",
       "      <td>0.072648</td>\n",
       "      <td>0.001007</td>\n",
       "      <td>0.810179</td>\n",
       "      <td>0.810000</td>\n",
       "      <td>0.002187</td>\n",
       "    </tr>\n",
       "    <tr>\n",
       "      <th>7</th>\n",
       "      <td>1000.0000</td>\n",
       "      <td>0.076445</td>\n",
       "      <td>0.001208</td>\n",
       "      <td>0.810190</td>\n",
       "      <td>0.810000</td>\n",
       "      <td>0.002187</td>\n",
       "    </tr>\n",
       "    <tr>\n",
       "      <th>8</th>\n",
       "      <td>10000.0000</td>\n",
       "      <td>0.073812</td>\n",
       "      <td>0.000997</td>\n",
       "      <td>0.810179</td>\n",
       "      <td>0.810048</td>\n",
       "      <td>0.002174</td>\n",
       "    </tr>\n",
       "    <tr>\n",
       "      <th>9</th>\n",
       "      <td>100000.0000</td>\n",
       "      <td>0.077611</td>\n",
       "      <td>0.000608</td>\n",
       "      <td>0.810179</td>\n",
       "      <td>0.810048</td>\n",
       "      <td>0.002174</td>\n",
       "    </tr>\n",
       "  </tbody>\n",
       "</table>\n",
       "</div>"
      ],
      "text/plain": [
       "             C  mean_fit_time  mean_score_time  mean_train_scores  \\\n",
       "0       0.0001       0.024970         0.001014           0.780179   \n",
       "1       0.0010       0.034431         0.000945           0.801738   \n",
       "2       0.0100       0.052489         0.000204           0.809095   \n",
       "3       0.1000       0.070632         0.000701           0.810024   \n",
       "4       1.0000       0.078285         0.000791           0.810167   \n",
       "5      10.0000       0.078119         0.000845           0.810190   \n",
       "6     100.0000       0.072648         0.001007           0.810179   \n",
       "7    1000.0000       0.076445         0.001208           0.810190   \n",
       "8   10000.0000       0.073812         0.000997           0.810179   \n",
       "9  100000.0000       0.077611         0.000608           0.810179   \n",
       "\n",
       "   mean_cv_scores  cv_std_scores  \n",
       "0        0.780095       0.000959  \n",
       "1        0.801857       0.003120  \n",
       "2        0.808905       0.002306  \n",
       "3        0.809810       0.002271  \n",
       "4        0.810048       0.002174  \n",
       "5        0.810000       0.002187  \n",
       "6        0.810000       0.002187  \n",
       "7        0.810000       0.002187  \n",
       "8        0.810048       0.002174  \n",
       "9        0.810048       0.002174  "
      ]
     },
     "execution_count": 30,
     "metadata": {},
     "output_type": "execute_result"
    }
   ],
   "source": [
    "# Adopted from lecture 7\n",
    "scores_dict = {\n",
    "    'C' : 10.0 ** np.arange(-4, 6, 1),\n",
    "    'mean_fit_time': list(),\n",
    "    'mean_score_time': list(),\n",
    "    'mean_train_scores': list(),\n",
    "    'mean_cv_scores': list(),\n",
    "    'cv_std_scores': list(),\n",
    "}\n",
    "\n",
    "for C in scores_dict['C']:\n",
    "    lr = LogisticRegression(C = C)\n",
    "    scores = cross_validate(lr, X_train_transformed, y_train, return_train_score = True)\n",
    "    scores_dict['mean_fit_time'].append(scores['fit_time'].mean())\n",
    "    scores_dict['mean_score_time'].append(scores['score_time'].mean())\n",
    "    scores_dict['mean_train_scores'].append(scores['train_score'].mean())\n",
    "    scores_dict['mean_cv_scores'].append(scores['test_score'].mean())\n",
    "    scores_dict['cv_std_scores'].append(scores['test_score'].std())\n",
    "\n",
    "results_df = pd.DataFrame(scores_dict)\n",
    "results_df"
   ]
  },
  {
   "cell_type": "markdown",
   "metadata": {},
   "source": [
    "As we can see from the printed results above, as the value of C increases, the complexity of model also increases. When C is small, may lead to underfitting, when C is large, may lead to overfitting. Therefore, we want to find a 'sweet spot', When C = 1.0, 10000, 100000, the mean cross validation scores are the same, 0.810048 +/- 0.002174, but at C = 1.0, it has relatively smaller train score. We can then claim that the 'sweet spot' is at C = 1.0, which is our best hyperparameter for the model."
   ]
  },
  {
   "cell_type": "markdown",
   "metadata": {},
   "source": [
    "Retrain the model  with the best hyperparameter we found, and score on train and test data with different metrics."
   ]
  },
  {
   "cell_type": "code",
   "execution_count": 31,
   "metadata": {
    "tags": []
   },
   "outputs": [
    {
     "data": {
      "text/plain": [
       "fit_time        0.080623\n",
       "score_time      0.001824\n",
       "test_roc_auc    0.722450\n",
       "dtype: float64"
      ]
     },
     "execution_count": 31,
     "metadata": {},
     "output_type": "execute_result"
    }
   ],
   "source": [
    "lr = LogisticRegression(C = 1.0)\n",
    "scoring = ['roc_auc']\n",
    "scores = cross_validate(lr, X_train_transformed, y_train, scoring = scoring)\n",
    "pd.DataFrame(scores).mean()"
   ]
  },
  {
   "cell_type": "code",
   "execution_count": 32,
   "metadata": {
    "tags": []
   },
   "outputs": [
    {
     "data": {
      "text/plain": [
       "fit_time        0.026650\n",
       "score_time      0.001487\n",
       "test_roc_auc    0.722309\n",
       "dtype: float64"
      ]
     },
     "execution_count": 32,
     "metadata": {},
     "output_type": "execute_result"
    }
   ],
   "source": [
    "scores = cross_validate(lr, X_test_transformed, y_test, scoring = scoring)\n",
    "pd.DataFrame(scores).mean()"
   ]
  },
  {
   "cell_type": "code",
   "execution_count": 33,
   "metadata": {
    "tags": []
   },
   "outputs": [
    {
     "name": "stdout",
     "output_type": "stream",
     "text": [
      "              precision    recall  f1-score   support\n",
      "\n",
      "           0     0.8175    0.9725    0.8883     16312\n",
      "           1     0.7191    0.2447    0.3651      4688\n",
      "\n",
      "    accuracy                         0.8100     21000\n",
      "   macro avg     0.7683    0.6086    0.6267     21000\n",
      "weighted avg     0.7956    0.8100    0.7715     21000\n",
      "\n"
     ]
    }
   ],
   "source": [
    "predictions = cross_val_predict(lr, X_train_transformed, y_train)\n",
    "cm_dict = print(classification_report(y_train, predictions, target_names=[\"0\", \"1\"], digits=4))"
   ]
  },
  {
   "cell_type": "markdown",
   "metadata": {},
   "source": [
    "The model has good precision score on both class 0 and 1, it has a very high recall and f1-score on class 0 but low recall and f1-score on class 1. This means that the model missed many actual class 1s. ROC-AUC is 0.722 which is higher than 0.5, this means that our model is better than random guess, but still can be improved."
   ]
  },
  {
   "cell_type": "markdown",
   "metadata": {},
   "source": [
    "<!-- END QUESTION -->\n",
    "\n",
    "<br><br>"
   ]
  },
  {
   "cell_type": "markdown",
   "metadata": {},
   "source": [
    "<!-- BEGIN QUESTION -->\n",
    "\n",
    "## 8. Different models <a name=\"8\"></a>\n",
    "<hr>\n",
    "rubric={points:12}\n",
    "\n",
    "**Your tasks:**\n",
    "1. Try at least 3 other models aside from a linear model. One of these models should be a tree-based ensemble model. \n",
    "2. Summarize your results in terms of overfitting/underfitting and fit and score times. Can you beat a linear model? "
   ]
  },
  {
   "cell_type": "markdown",
   "metadata": {},
   "source": [
    "<div class=\"alert alert-warning\">\n",
    "    \n",
    "Solution_8\n",
    "    \n",
    "</div>"
   ]
  },
  {
   "cell_type": "markdown",
   "metadata": {},
   "source": [
    "**Model 1: DecisionTreeClassifier()**"
   ]
  },
  {
   "cell_type": "code",
   "execution_count": 34,
   "metadata": {
    "tags": []
   },
   "outputs": [
    {
     "data": {
      "text/html": [
       "<div>\n",
       "<style scoped>\n",
       "    .dataframe tbody tr th:only-of-type {\n",
       "        vertical-align: middle;\n",
       "    }\n",
       "\n",
       "    .dataframe tbody tr th {\n",
       "        vertical-align: top;\n",
       "    }\n",
       "\n",
       "    .dataframe thead th {\n",
       "        text-align: right;\n",
       "    }\n",
       "</style>\n",
       "<table border=\"1\" class=\"dataframe\">\n",
       "  <thead>\n",
       "    <tr style=\"text-align: right;\">\n",
       "      <th></th>\n",
       "      <th>fit_time</th>\n",
       "      <th>score_time</th>\n",
       "      <th>test_score</th>\n",
       "      <th>train_score</th>\n",
       "    </tr>\n",
       "  </thead>\n",
       "  <tbody>\n",
       "    <tr>\n",
       "      <th>0</th>\n",
       "      <td>0.319249</td>\n",
       "      <td>0.002051</td>\n",
       "      <td>0.709524</td>\n",
       "      <td>0.999405</td>\n",
       "    </tr>\n",
       "    <tr>\n",
       "      <th>1</th>\n",
       "      <td>0.304570</td>\n",
       "      <td>0.001001</td>\n",
       "      <td>0.732619</td>\n",
       "      <td>0.999464</td>\n",
       "    </tr>\n",
       "    <tr>\n",
       "      <th>2</th>\n",
       "      <td>0.302907</td>\n",
       "      <td>0.001087</td>\n",
       "      <td>0.725000</td>\n",
       "      <td>0.999405</td>\n",
       "    </tr>\n",
       "    <tr>\n",
       "      <th>3</th>\n",
       "      <td>0.287605</td>\n",
       "      <td>0.001000</td>\n",
       "      <td>0.729286</td>\n",
       "      <td>0.999226</td>\n",
       "    </tr>\n",
       "    <tr>\n",
       "      <th>4</th>\n",
       "      <td>0.295124</td>\n",
       "      <td>0.001551</td>\n",
       "      <td>0.719524</td>\n",
       "      <td>0.999524</td>\n",
       "    </tr>\n",
       "  </tbody>\n",
       "</table>\n",
       "</div>"
      ],
      "text/plain": [
       "   fit_time  score_time  test_score  train_score\n",
       "0  0.319249    0.002051    0.709524     0.999405\n",
       "1  0.304570    0.001001    0.732619     0.999464\n",
       "2  0.302907    0.001087    0.725000     0.999405\n",
       "3  0.287605    0.001000    0.729286     0.999226\n",
       "4  0.295124    0.001551    0.719524     0.999524"
      ]
     },
     "execution_count": 34,
     "metadata": {},
     "output_type": "execute_result"
    }
   ],
   "source": [
    "from sklearn.tree import DecisionTreeClassifier\n",
    "decision_tree = DecisionTreeClassifier()\n",
    "scores = cross_validate(decision_tree, X_train_transformed, y_train, return_train_score=True)\n",
    "pd.DataFrame(scores)"
   ]
  },
  {
   "cell_type": "markdown",
   "metadata": {},
   "source": [
    "Clearly that the decision tree is overfitting, so we will perform hyperparameter tuning to optimize the result."
   ]
  },
  {
   "cell_type": "code",
   "execution_count": 35,
   "metadata": {
    "tags": []
   },
   "outputs": [
    {
     "data": {
      "text/html": [
       "<div>\n",
       "<style scoped>\n",
       "    .dataframe tbody tr th:only-of-type {\n",
       "        vertical-align: middle;\n",
       "    }\n",
       "\n",
       "    .dataframe tbody tr th {\n",
       "        vertical-align: top;\n",
       "    }\n",
       "\n",
       "    .dataframe thead th {\n",
       "        text-align: right;\n",
       "    }\n",
       "</style>\n",
       "<table border=\"1\" class=\"dataframe\">\n",
       "  <thead>\n",
       "    <tr style=\"text-align: right;\">\n",
       "      <th></th>\n",
       "      <th>mean_fit_time</th>\n",
       "      <th>mean_score_time</th>\n",
       "      <th>mean_train_score</th>\n",
       "      <th>mean_cv_score</th>\n",
       "      <th>std_cv_score</th>\n",
       "      <th>std_train_score</th>\n",
       "    </tr>\n",
       "    <tr>\n",
       "      <th>depth</th>\n",
       "      <th></th>\n",
       "      <th></th>\n",
       "      <th></th>\n",
       "      <th></th>\n",
       "      <th></th>\n",
       "      <th></th>\n",
       "    </tr>\n",
       "  </thead>\n",
       "  <tbody>\n",
       "    <tr>\n",
       "      <th>1</th>\n",
       "      <td>0.026111</td>\n",
       "      <td>0.000867</td>\n",
       "      <td>0.818381</td>\n",
       "      <td>0.818381</td>\n",
       "      <td>0.008457</td>\n",
       "      <td>0.000940</td>\n",
       "    </tr>\n",
       "    <tr>\n",
       "      <th>2</th>\n",
       "      <td>0.045714</td>\n",
       "      <td>0.000782</td>\n",
       "      <td>0.818762</td>\n",
       "      <td>0.818524</td>\n",
       "      <td>0.008177</td>\n",
       "      <td>0.001059</td>\n",
       "    </tr>\n",
       "    <tr>\n",
       "      <th>3</th>\n",
       "      <td>0.064773</td>\n",
       "      <td>0.000608</td>\n",
       "      <td>0.821709</td>\n",
       "      <td>0.820810</td>\n",
       "      <td>0.007836</td>\n",
       "      <td>0.000851</td>\n",
       "    </tr>\n",
       "    <tr>\n",
       "      <th>4</th>\n",
       "      <td>0.085589</td>\n",
       "      <td>0.000874</td>\n",
       "      <td>0.823180</td>\n",
       "      <td>0.821333</td>\n",
       "      <td>0.007657</td>\n",
       "      <td>0.000744</td>\n",
       "    </tr>\n",
       "    <tr>\n",
       "      <th>5</th>\n",
       "      <td>0.101186</td>\n",
       "      <td>0.000424</td>\n",
       "      <td>0.824931</td>\n",
       "      <td>0.819429</td>\n",
       "      <td>0.006409</td>\n",
       "      <td>0.000975</td>\n",
       "    </tr>\n",
       "    <tr>\n",
       "      <th>6</th>\n",
       "      <td>0.120608</td>\n",
       "      <td>0.000924</td>\n",
       "      <td>0.828190</td>\n",
       "      <td>0.818476</td>\n",
       "      <td>0.007152</td>\n",
       "      <td>0.000904</td>\n",
       "    </tr>\n",
       "    <tr>\n",
       "      <th>7</th>\n",
       "      <td>0.139844</td>\n",
       "      <td>0.000576</td>\n",
       "      <td>0.832683</td>\n",
       "      <td>0.816095</td>\n",
       "      <td>0.007249</td>\n",
       "      <td>0.001171</td>\n",
       "    </tr>\n",
       "    <tr>\n",
       "      <th>8</th>\n",
       "      <td>0.154672</td>\n",
       "      <td>0.000655</td>\n",
       "      <td>0.837619</td>\n",
       "      <td>0.814429</td>\n",
       "      <td>0.006605</td>\n",
       "      <td>0.001291</td>\n",
       "    </tr>\n",
       "    <tr>\n",
       "      <th>9</th>\n",
       "      <td>0.174289</td>\n",
       "      <td>0.000709</td>\n",
       "      <td>0.844132</td>\n",
       "      <td>0.811810</td>\n",
       "      <td>0.006814</td>\n",
       "      <td>0.001494</td>\n",
       "    </tr>\n",
       "    <tr>\n",
       "      <th>10</th>\n",
       "      <td>0.189132</td>\n",
       "      <td>0.001121</td>\n",
       "      <td>0.851910</td>\n",
       "      <td>0.808952</td>\n",
       "      <td>0.006707</td>\n",
       "      <td>0.001923</td>\n",
       "    </tr>\n",
       "    <tr>\n",
       "      <th>11</th>\n",
       "      <td>0.204643</td>\n",
       "      <td>0.000762</td>\n",
       "      <td>0.860280</td>\n",
       "      <td>0.805952</td>\n",
       "      <td>0.006616</td>\n",
       "      <td>0.001985</td>\n",
       "    </tr>\n",
       "    <tr>\n",
       "      <th>12</th>\n",
       "      <td>0.218690</td>\n",
       "      <td>0.000452</td>\n",
       "      <td>0.870063</td>\n",
       "      <td>0.798857</td>\n",
       "      <td>0.005013</td>\n",
       "      <td>0.002522</td>\n",
       "    </tr>\n",
       "    <tr>\n",
       "      <th>13</th>\n",
       "      <td>0.232144</td>\n",
       "      <td>0.000777</td>\n",
       "      <td>0.879508</td>\n",
       "      <td>0.796143</td>\n",
       "      <td>0.005283</td>\n",
       "      <td>0.002287</td>\n",
       "    </tr>\n",
       "    <tr>\n",
       "      <th>14</th>\n",
       "      <td>0.242611</td>\n",
       "      <td>0.000665</td>\n",
       "      <td>0.889370</td>\n",
       "      <td>0.790905</td>\n",
       "      <td>0.005005</td>\n",
       "      <td>0.002811</td>\n",
       "    </tr>\n",
       "    <tr>\n",
       "      <th>15</th>\n",
       "      <td>0.252595</td>\n",
       "      <td>0.000799</td>\n",
       "      <td>0.899513</td>\n",
       "      <td>0.784667</td>\n",
       "      <td>0.006270</td>\n",
       "      <td>0.003326</td>\n",
       "    </tr>\n",
       "  </tbody>\n",
       "</table>\n",
       "</div>"
      ],
      "text/plain": [
       "       mean_fit_time  mean_score_time  mean_train_score  mean_cv_score  \\\n",
       "depth                                                                    \n",
       "1           0.026111         0.000867          0.818381       0.818381   \n",
       "2           0.045714         0.000782          0.818762       0.818524   \n",
       "3           0.064773         0.000608          0.821709       0.820810   \n",
       "4           0.085589         0.000874          0.823180       0.821333   \n",
       "5           0.101186         0.000424          0.824931       0.819429   \n",
       "6           0.120608         0.000924          0.828190       0.818476   \n",
       "7           0.139844         0.000576          0.832683       0.816095   \n",
       "8           0.154672         0.000655          0.837619       0.814429   \n",
       "9           0.174289         0.000709          0.844132       0.811810   \n",
       "10          0.189132         0.001121          0.851910       0.808952   \n",
       "11          0.204643         0.000762          0.860280       0.805952   \n",
       "12          0.218690         0.000452          0.870063       0.798857   \n",
       "13          0.232144         0.000777          0.879508       0.796143   \n",
       "14          0.242611         0.000665          0.889370       0.790905   \n",
       "15          0.252595         0.000799          0.899513       0.784667   \n",
       "\n",
       "       std_cv_score  std_train_score  \n",
       "depth                                 \n",
       "1          0.008457         0.000940  \n",
       "2          0.008177         0.001059  \n",
       "3          0.007836         0.000851  \n",
       "4          0.007657         0.000744  \n",
       "5          0.006409         0.000975  \n",
       "6          0.007152         0.000904  \n",
       "7          0.007249         0.001171  \n",
       "8          0.006605         0.001291  \n",
       "9          0.006814         0.001494  \n",
       "10         0.006707         0.001923  \n",
       "11         0.006616         0.001985  \n",
       "12         0.005013         0.002522  \n",
       "13         0.005283         0.002287  \n",
       "14         0.005005         0.002811  \n",
       "15         0.006270         0.003326  "
      ]
     },
     "execution_count": 35,
     "metadata": {},
     "output_type": "execute_result"
    }
   ],
   "source": [
    "# Adopted from lecture 3\n",
    "from sklearn.tree import DecisionTreeClassifier\n",
    "results_dict = {\n",
    "    \"depth\": [],\n",
    "    \"mean_fit_time\": [],\n",
    "    \"mean_score_time\": [],\n",
    "    \"mean_train_score\": [],\n",
    "    \"mean_cv_score\": [],\n",
    "    \"std_cv_score\": [],\n",
    "    \"std_train_score\": [],\n",
    "}\n",
    "param_grid = {\"max_depth\": np.arange(1, 16)}\n",
    "\n",
    "for depth in param_grid[\"max_depth\"]:\n",
    "    model = DecisionTreeClassifier(max_depth=depth)\n",
    "    scores = cross_validate(model, X_train_transformed, y_train, cv=10, return_train_score=True)\n",
    "    results_dict[\"depth\"].append(depth)\n",
    "    results_dict[\"mean_fit_time\"].append(np.mean(scores[\"fit_time\"]))\n",
    "    results_dict[\"mean_score_time\"].append(np.mean(scores[\"score_time\"]))\n",
    "    results_dict[\"mean_cv_score\"].append(np.mean(scores[\"test_score\"]))\n",
    "    results_dict[\"mean_train_score\"].append(np.mean(scores[\"train_score\"]))\n",
    "    results_dict[\"std_cv_score\"].append(scores[\"test_score\"].std())\n",
    "    results_dict[\"std_train_score\"].append(scores[\"train_score\"].std())\n",
    "\n",
    "results_df = pd.DataFrame(results_dict)\n",
    "results_df = results_df.set_index(\"depth\")\n",
    "results_df"
   ]
  },
  {
   "cell_type": "markdown",
   "metadata": {},
   "source": [
    "From the printed results of different depth of trees, when max_depth = 4, it has highest mean_cv_score, which indicates max_depth = 4 is the sweet spot we are looking for. Therefore the best hyperparameter of DecisionTreeClassifier is 4."
   ]
  },
  {
   "cell_type": "markdown",
   "metadata": {},
   "source": [
    "Retrain model with the best hyperparameter we found."
   ]
  },
  {
   "cell_type": "code",
   "execution_count": 36,
   "metadata": {
    "tags": []
   },
   "outputs": [
    {
     "name": "stdout",
     "output_type": "stream",
     "text": [
      "              precision    recall  f1-score   support\n",
      "\n",
      "           0     0.8384    0.9506    0.8910     16312\n",
      "           1     0.6784    0.3626    0.4726      4688\n",
      "\n",
      "    accuracy                         0.8193     21000\n",
      "   macro avg     0.7584    0.6566    0.6818     21000\n",
      "weighted avg     0.8027    0.8193    0.7976     21000\n",
      "\n"
     ]
    }
   ],
   "source": [
    "best_decision_tree = DecisionTreeClassifier(max_depth = 4)\n",
    "predictions = cross_val_predict(best_decision_tree, X_train_transformed, y_train)\n",
    "cm_dict = print(classification_report(y_train, predictions, target_names=[\"0\", \"1\"], digits=4))"
   ]
  },
  {
   "cell_type": "code",
   "execution_count": 37,
   "metadata": {
    "tags": []
   },
   "outputs": [
    {
     "data": {
      "text/plain": [
       "fit_time         0.073795\n",
       "score_time       0.003002\n",
       "test_accuracy    0.819381\n",
       "test_roc_auc     0.737613\n",
       "dtype: float64"
      ]
     },
     "execution_count": 37,
     "metadata": {},
     "output_type": "execute_result"
    }
   ],
   "source": [
    "scoring = ['accuracy', 'roc_auc']\n",
    "scores = cross_validate(best_decision_tree, X_train_transformed, y_train, scoring = scoring)\n",
    "pd.DataFrame(scores).mean()"
   ]
  },
  {
   "cell_type": "markdown",
   "metadata": {},
   "source": [
    "The DecisionTreeClassifier() is overfitting when max_depth is large as training score is increasingly approaching to 1, underfitting when max_depth is small as the training score and cross validation score are approximately the same. We pick 4 as the best hyperparameter. The fitting time and score time are fast, fitting time increases from 0.05 to 0.58 as max_depth increases, scoring time are all around 0.002. Compare to linear model:\n",
    "- accuracy: linear model 0.810, decision tree 0.818, decision tree is slightly better than the linear model\n",
    "- precision on class 1: linear model 0.719, decision tree 0.6784, linear model is better than decision tree model\n",
    "- recall on class 1: linear model 0.244, decision tree 0.362, decision tree is better than linear model\n",
    "- f1 score on class 1: linear model 0.365, decision tree 0.472, decision tree is better than linear model\n",
    "- ROC-AUC score: linear model 0.722, decision tree 0.735, decision tree is better than linear model\n",
    "- Fitting time: linear model around 0.075, the best decision tree 0.0748, two models are almost the same.\n",
    "- Scoring time: linear model 0.0003, the best decision tree around 0.002, linear model is faster in terms of scoring time.\n",
    "\n",
    "Overall, decision tree with the best hyperparameter beats the logistic regression model, but in terms of fitting time and scoring time, logistic regression is faster."
   ]
  },
  {
   "cell_type": "markdown",
   "metadata": {},
   "source": [
    "**Model 2. KNN model**"
   ]
  },
  {
   "cell_type": "code",
   "execution_count": 38,
   "metadata": {
    "tags": []
   },
   "outputs": [
    {
     "data": {
      "text/html": [
       "<div>\n",
       "<style scoped>\n",
       "    .dataframe tbody tr th:only-of-type {\n",
       "        vertical-align: middle;\n",
       "    }\n",
       "\n",
       "    .dataframe tbody tr th {\n",
       "        vertical-align: top;\n",
       "    }\n",
       "\n",
       "    .dataframe thead th {\n",
       "        text-align: right;\n",
       "    }\n",
       "</style>\n",
       "<table border=\"1\" class=\"dataframe\">\n",
       "  <thead>\n",
       "    <tr style=\"text-align: right;\">\n",
       "      <th></th>\n",
       "      <th>fit_time</th>\n",
       "      <th>score_time</th>\n",
       "      <th>test_score</th>\n",
       "      <th>train_score</th>\n",
       "    </tr>\n",
       "  </thead>\n",
       "  <tbody>\n",
       "    <tr>\n",
       "      <th>0</th>\n",
       "      <td>0.003294</td>\n",
       "      <td>0.267245</td>\n",
       "      <td>0.731190</td>\n",
       "      <td>0.999405</td>\n",
       "    </tr>\n",
       "    <tr>\n",
       "      <th>1</th>\n",
       "      <td>0.004046</td>\n",
       "      <td>0.172075</td>\n",
       "      <td>0.725000</td>\n",
       "      <td>0.999464</td>\n",
       "    </tr>\n",
       "    <tr>\n",
       "      <th>2</th>\n",
       "      <td>0.004000</td>\n",
       "      <td>0.165015</td>\n",
       "      <td>0.730476</td>\n",
       "      <td>0.999405</td>\n",
       "    </tr>\n",
       "    <tr>\n",
       "      <th>3</th>\n",
       "      <td>0.002822</td>\n",
       "      <td>0.165098</td>\n",
       "      <td>0.723333</td>\n",
       "      <td>0.999226</td>\n",
       "    </tr>\n",
       "    <tr>\n",
       "      <th>4</th>\n",
       "      <td>0.000000</td>\n",
       "      <td>0.174100</td>\n",
       "      <td>0.727381</td>\n",
       "      <td>0.999524</td>\n",
       "    </tr>\n",
       "  </tbody>\n",
       "</table>\n",
       "</div>"
      ],
      "text/plain": [
       "   fit_time  score_time  test_score  train_score\n",
       "0  0.003294    0.267245    0.731190     0.999405\n",
       "1  0.004046    0.172075    0.725000     0.999464\n",
       "2  0.004000    0.165015    0.730476     0.999405\n",
       "3  0.002822    0.165098    0.723333     0.999226\n",
       "4  0.000000    0.174100    0.727381     0.999524"
      ]
     },
     "execution_count": 38,
     "metadata": {},
     "output_type": "execute_result"
    }
   ],
   "source": [
    "# Adopted from lecture 4\n",
    "from sklearn.neighbors import KNeighborsClassifier\n",
    "\n",
    "knn = KNeighborsClassifier(n_neighbors = 1)\n",
    "scores = cross_validate(knn, X_train_transformed, y_train, return_train_score=True)\n",
    "pd.DataFrame(scores)"
   ]
  },
  {
   "cell_type": "markdown",
   "metadata": {},
   "source": [
    "Clearly that when n_neighbors = 1, the model is overfitting, we will perform hyperparameter to optimize the result."
   ]
  },
  {
   "cell_type": "code",
   "execution_count": 39,
   "metadata": {
    "tags": []
   },
   "outputs": [
    {
     "data": {
      "text/html": [
       "<div>\n",
       "<style scoped>\n",
       "    .dataframe tbody tr th:only-of-type {\n",
       "        vertical-align: middle;\n",
       "    }\n",
       "\n",
       "    .dataframe tbody tr th {\n",
       "        vertical-align: top;\n",
       "    }\n",
       "\n",
       "    .dataframe thead th {\n",
       "        text-align: right;\n",
       "    }\n",
       "</style>\n",
       "<table border=\"1\" class=\"dataframe\">\n",
       "  <thead>\n",
       "    <tr style=\"text-align: right;\">\n",
       "      <th></th>\n",
       "      <th>n_neighbors</th>\n",
       "      <th>mean_fit_time</th>\n",
       "      <th>mean_score_time</th>\n",
       "      <th>mean_train_score</th>\n",
       "      <th>mean_cv_score</th>\n",
       "      <th>std_cv_score</th>\n",
       "      <th>std_train_score</th>\n",
       "    </tr>\n",
       "  </thead>\n",
       "  <tbody>\n",
       "    <tr>\n",
       "      <th>0</th>\n",
       "      <td>1</td>\n",
       "      <td>0.003616</td>\n",
       "      <td>0.169583</td>\n",
       "      <td>0.999405</td>\n",
       "      <td>0.727476</td>\n",
       "      <td>0.003036</td>\n",
       "      <td>0.000100</td>\n",
       "    </tr>\n",
       "    <tr>\n",
       "      <th>1</th>\n",
       "      <td>6</td>\n",
       "      <td>0.003324</td>\n",
       "      <td>0.179803</td>\n",
       "      <td>0.835643</td>\n",
       "      <td>0.804048</td>\n",
       "      <td>0.001923</td>\n",
       "      <td>0.001976</td>\n",
       "    </tr>\n",
       "    <tr>\n",
       "      <th>2</th>\n",
       "      <td>11</td>\n",
       "      <td>0.002698</td>\n",
       "      <td>0.179873</td>\n",
       "      <td>0.828310</td>\n",
       "      <td>0.810429</td>\n",
       "      <td>0.006824</td>\n",
       "      <td>0.001009</td>\n",
       "    </tr>\n",
       "    <tr>\n",
       "      <th>3</th>\n",
       "      <td>16</td>\n",
       "      <td>0.003194</td>\n",
       "      <td>0.185073</td>\n",
       "      <td>0.823976</td>\n",
       "      <td>0.812286</td>\n",
       "      <td>0.002957</td>\n",
       "      <td>0.000591</td>\n",
       "    </tr>\n",
       "    <tr>\n",
       "      <th>4</th>\n",
       "      <td>21</td>\n",
       "      <td>0.002941</td>\n",
       "      <td>0.190114</td>\n",
       "      <td>0.821524</td>\n",
       "      <td>0.811810</td>\n",
       "      <td>0.003349</td>\n",
       "      <td>0.000863</td>\n",
       "    </tr>\n",
       "    <tr>\n",
       "      <th>5</th>\n",
       "      <td>26</td>\n",
       "      <td>0.003058</td>\n",
       "      <td>0.197114</td>\n",
       "      <td>0.819571</td>\n",
       "      <td>0.811381</td>\n",
       "      <td>0.002023</td>\n",
       "      <td>0.001005</td>\n",
       "    </tr>\n",
       "    <tr>\n",
       "      <th>6</th>\n",
       "      <td>31</td>\n",
       "      <td>0.002432</td>\n",
       "      <td>0.204481</td>\n",
       "      <td>0.818583</td>\n",
       "      <td>0.811810</td>\n",
       "      <td>0.003136</td>\n",
       "      <td>0.000791</td>\n",
       "    </tr>\n",
       "    <tr>\n",
       "      <th>7</th>\n",
       "      <td>36</td>\n",
       "      <td>0.002782</td>\n",
       "      <td>0.231288</td>\n",
       "      <td>0.817631</td>\n",
       "      <td>0.812333</td>\n",
       "      <td>0.003113</td>\n",
       "      <td>0.001302</td>\n",
       "    </tr>\n",
       "    <tr>\n",
       "      <th>8</th>\n",
       "      <td>41</td>\n",
       "      <td>0.003005</td>\n",
       "      <td>0.210712</td>\n",
       "      <td>0.817452</td>\n",
       "      <td>0.812143</td>\n",
       "      <td>0.003261</td>\n",
       "      <td>0.001248</td>\n",
       "    </tr>\n",
       "    <tr>\n",
       "      <th>9</th>\n",
       "      <td>46</td>\n",
       "      <td>0.003002</td>\n",
       "      <td>0.219906</td>\n",
       "      <td>0.816952</td>\n",
       "      <td>0.812619</td>\n",
       "      <td>0.004232</td>\n",
       "      <td>0.001380</td>\n",
       "    </tr>\n",
       "  </tbody>\n",
       "</table>\n",
       "</div>"
      ],
      "text/plain": [
       "   n_neighbors  mean_fit_time  mean_score_time  mean_train_score  \\\n",
       "0            1       0.003616         0.169583          0.999405   \n",
       "1            6       0.003324         0.179803          0.835643   \n",
       "2           11       0.002698         0.179873          0.828310   \n",
       "3           16       0.003194         0.185073          0.823976   \n",
       "4           21       0.002941         0.190114          0.821524   \n",
       "5           26       0.003058         0.197114          0.819571   \n",
       "6           31       0.002432         0.204481          0.818583   \n",
       "7           36       0.002782         0.231288          0.817631   \n",
       "8           41       0.003005         0.210712          0.817452   \n",
       "9           46       0.003002         0.219906          0.816952   \n",
       "\n",
       "   mean_cv_score  std_cv_score  std_train_score  \n",
       "0       0.727476      0.003036         0.000100  \n",
       "1       0.804048      0.001923         0.001976  \n",
       "2       0.810429      0.006824         0.001009  \n",
       "3       0.812286      0.002957         0.000591  \n",
       "4       0.811810      0.003349         0.000863  \n",
       "5       0.811381      0.002023         0.001005  \n",
       "6       0.811810      0.003136         0.000791  \n",
       "7       0.812333      0.003113         0.001302  \n",
       "8       0.812143      0.003261         0.001248  \n",
       "9       0.812619      0.004232         0.001380  "
      ]
     },
     "execution_count": 39,
     "metadata": {},
     "output_type": "execute_result"
    }
   ],
   "source": [
    "# Adopted from lecture 4\n",
    "results_dict = {\n",
    "    \"n_neighbors\": [],\n",
    "    \"mean_fit_time\": [],\n",
    "    \"mean_score_time\": [],\n",
    "    \"mean_train_score\": [],\n",
    "    \"mean_cv_score\": [],\n",
    "    \"std_cv_score\": [],\n",
    "    \"std_train_score\": [],\n",
    "}\n",
    "param_grid = {\"n_neighbors\": np.arange(1, 50, 5)}\n",
    "\n",
    "for k in param_grid[\"n_neighbors\"]:\n",
    "    knn = KNeighborsClassifier(n_neighbors=k)\n",
    "    scores = cross_validate(knn, X_train_transformed, y_train, return_train_score=True)\n",
    "    results_dict[\"n_neighbors\"].append(k)\n",
    "    results_dict[\"mean_fit_time\"].append(np.mean(scores[\"fit_time\"]))\n",
    "    results_dict[\"mean_score_time\"].append(np.mean(scores[\"score_time\"]))\n",
    "    results_dict[\"mean_cv_score\"].append(np.mean(scores[\"test_score\"]))\n",
    "    results_dict[\"mean_train_score\"].append(np.mean(scores[\"train_score\"]))\n",
    "    results_dict[\"std_cv_score\"].append(scores[\"test_score\"].std())\n",
    "    results_dict[\"std_train_score\"].append(scores[\"train_score\"].std())\n",
    "\n",
    "results_df = pd.DataFrame(results_dict)\n",
    "results_df"
   ]
  },
  {
   "cell_type": "markdown",
   "metadata": {},
   "source": [
    "From the printed results above, we can see the highest mean_cv_score is at when n_neighbors = 46, however, its mean_train_score = 0.816952 which is very close to mean_cv_score = 0.812619. And we know that when n_neighbors is large, the model tends to be underfitting, the model at n_neighbors = 46 is likely to be underfitting. Whereas when n_neighbors = 16, its mean_cv_score = 0.81228, which is the third highest cross validation score, and there is a reasonable gap between train score and cross validation score. Therefore, n_neighbors = 16 would be our best hyperparameter."
   ]
  },
  {
   "cell_type": "markdown",
   "metadata": {},
   "source": [
    "Retrain the model with the best hyperparameter we found."
   ]
  },
  {
   "cell_type": "code",
   "execution_count": 40,
   "metadata": {
    "tags": []
   },
   "outputs": [
    {
     "name": "stdout",
     "output_type": "stream",
     "text": [
      "              precision    recall  f1-score   support\n",
      "\n",
      "           0     0.8320    0.9503    0.8872     16312\n",
      "           1     0.6575    0.3321    0.4413      4688\n",
      "\n",
      "    accuracy                         0.8123     21000\n",
      "   macro avg     0.7447    0.6412    0.6643     21000\n",
      "weighted avg     0.7930    0.8123    0.7877     21000\n",
      "\n"
     ]
    }
   ],
   "source": [
    "best_knn = KNeighborsClassifier(n_neighbors = 16)\n",
    "predictions = cross_val_predict(best_knn, X_train_transformed, y_train)\n",
    "cm_dict = print(classification_report(y_train, predictions, target_names=[\"0\", \"1\"], digits=4))"
   ]
  },
  {
   "cell_type": "code",
   "execution_count": 41,
   "metadata": {
    "tags": []
   },
   "outputs": [
    {
     "data": {
      "text/plain": [
       "fit_time         0.005163\n",
       "score_time       0.343234\n",
       "test_accuracy    0.812286\n",
       "test_roc_auc     0.744713\n",
       "dtype: float64"
      ]
     },
     "execution_count": 41,
     "metadata": {},
     "output_type": "execute_result"
    }
   ],
   "source": [
    "scoring = ['accuracy', 'roc_auc']\n",
    "scores = cross_validate(best_knn, X_train_transformed, y_train, scoring = scoring)\n",
    "pd.DataFrame(scores).mean()"
   ]
  },
  {
   "cell_type": "markdown",
   "metadata": {},
   "source": [
    "The KNeighborsClassifier() is overfitting when n_neighors is small as training score is increasingly approaching to 1, underfitting when n_neighbors is large as the training score and cross validation score are approximately the same. In terms of fitting time and scoring time, the fitting time are all around 0.005 across different n_neighbors, scoring times are in an increasing pattern, from 0.40 to 0.56 as n_neighbors increases. We pick 16 as the best hyperparameter. Compare to linear model:\n",
    "- accuracy: linear model 0.810, KNN 0.812, KNN is slightly better than the linear model\n",
    "- precision on class 1: linear model 0.719, KNN 0.6575, linear model is better than KNN model\n",
    "- recall on class 1: linear model 0.244, KNN 0.3321, KNN is better than linear model\n",
    "- f1 score on class 1: linear model 0.365, KNN 0.4413, KNN is better than linear model\n",
    "- ROC-AUC score: linear model 0.722, KNN 0.7325, KNN is better than linear model\n",
    "- Fitting time: linear model around 0.075, best KNN around 0.004, KNN is faster in terms of fitting time.\n",
    "- Scoring time: linear model 0.0003, best KNN around 0.285, linear model is faster in terms of scoring time.\n",
    "\n",
    "Overall, KNN with the best hyperparameter beats the logistic regression model. In terms of speed, KNN is faster in fitting time, linear model is faster in scoring time."
   ]
  },
  {
   "cell_type": "markdown",
   "metadata": {},
   "source": [
    "**Model 3: Ensemble model RandomForestClassifier()**"
   ]
  },
  {
   "cell_type": "code",
   "execution_count": 42,
   "metadata": {
    "tags": []
   },
   "outputs": [],
   "source": [
    "rf = RandomForestClassifier(random_state = 123, n_jobs = -1)"
   ]
  },
  {
   "cell_type": "markdown",
   "metadata": {},
   "source": [
    "Random forest is one of the best performing off the shelf classifier that we don't need heavy hyperparameter tuning on it. So we set only random state and n_jobs."
   ]
  },
  {
   "cell_type": "code",
   "execution_count": 43,
   "metadata": {
    "tags": []
   },
   "outputs": [
    {
     "data": {
      "text/html": [
       "<div>\n",
       "<style scoped>\n",
       "    .dataframe tbody tr th:only-of-type {\n",
       "        vertical-align: middle;\n",
       "    }\n",
       "\n",
       "    .dataframe tbody tr th {\n",
       "        vertical-align: top;\n",
       "    }\n",
       "\n",
       "    .dataframe thead th {\n",
       "        text-align: right;\n",
       "    }\n",
       "</style>\n",
       "<table border=\"1\" class=\"dataframe\">\n",
       "  <thead>\n",
       "    <tr style=\"text-align: right;\">\n",
       "      <th></th>\n",
       "      <th>fit_time</th>\n",
       "      <th>score_time</th>\n",
       "      <th>test_score</th>\n",
       "      <th>train_score</th>\n",
       "    </tr>\n",
       "  </thead>\n",
       "  <tbody>\n",
       "    <tr>\n",
       "      <th>0</th>\n",
       "      <td>3.638324</td>\n",
       "      <td>0.070718</td>\n",
       "      <td>0.810476</td>\n",
       "      <td>0.999405</td>\n",
       "    </tr>\n",
       "    <tr>\n",
       "      <th>1</th>\n",
       "      <td>0.685554</td>\n",
       "      <td>0.064229</td>\n",
       "      <td>0.812619</td>\n",
       "      <td>0.999405</td>\n",
       "    </tr>\n",
       "    <tr>\n",
       "      <th>2</th>\n",
       "      <td>0.681956</td>\n",
       "      <td>0.059168</td>\n",
       "      <td>0.820952</td>\n",
       "      <td>0.999345</td>\n",
       "    </tr>\n",
       "    <tr>\n",
       "      <th>3</th>\n",
       "      <td>0.672080</td>\n",
       "      <td>0.059337</td>\n",
       "      <td>0.822381</td>\n",
       "      <td>0.999226</td>\n",
       "    </tr>\n",
       "    <tr>\n",
       "      <th>4</th>\n",
       "      <td>0.679534</td>\n",
       "      <td>0.060130</td>\n",
       "      <td>0.812381</td>\n",
       "      <td>0.999524</td>\n",
       "    </tr>\n",
       "  </tbody>\n",
       "</table>\n",
       "</div>"
      ],
      "text/plain": [
       "   fit_time  score_time  test_score  train_score\n",
       "0  3.638324    0.070718    0.810476     0.999405\n",
       "1  0.685554    0.064229    0.812619     0.999405\n",
       "2  0.681956    0.059168    0.820952     0.999345\n",
       "3  0.672080    0.059337    0.822381     0.999226\n",
       "4  0.679534    0.060130    0.812381     0.999524"
      ]
     },
     "execution_count": 43,
     "metadata": {},
     "output_type": "execute_result"
    }
   ],
   "source": [
    "scores = cross_validate(rf, X_train_transformed, y_train, return_train_score=True)\n",
    "pd.DataFrame(scores)"
   ]
  },
  {
   "cell_type": "code",
   "execution_count": 44,
   "metadata": {
    "tags": []
   },
   "outputs": [
    {
     "name": "stdout",
     "output_type": "stream",
     "text": [
      "              precision    recall  f1-score   support\n",
      "\n",
      "           0     0.8401    0.9422    0.8882     16312\n",
      "           1     0.6514    0.3759    0.4767      4688\n",
      "\n",
      "    accuracy                         0.8158     21000\n",
      "   macro avg     0.7457    0.6590    0.6824     21000\n",
      "weighted avg     0.7979    0.8158    0.7963     21000\n",
      "\n"
     ]
    }
   ],
   "source": [
    "predictions = cross_val_predict(rf, X_train_transformed, y_train)\n",
    "cm_dict = print(classification_report(y_train, predictions, target_names=[\"0\", \"1\"], digits=4))"
   ]
  },
  {
   "cell_type": "code",
   "execution_count": 45,
   "metadata": {
    "tags": []
   },
   "outputs": [
    {
     "data": {
      "text/plain": [
       "fit_time         0.667910\n",
       "score_time       0.121939\n",
       "test_accuracy    0.815762\n",
       "test_roc_auc     0.762135\n",
       "dtype: float64"
      ]
     },
     "execution_count": 45,
     "metadata": {},
     "output_type": "execute_result"
    }
   ],
   "source": [
    "scoring = ['accuracy', 'roc_auc']\n",
    "scores = cross_validate(rf, X_train_transformed, y_train, scoring = scoring)\n",
    "pd.DataFrame(scores).mean()"
   ]
  },
  {
   "cell_type": "markdown",
   "metadata": {},
   "source": [
    "The RandomForestClassifier() has very almost perfect training score across all cross validations. However, we don't consider it as overfitting since the cross validation score will not drop even if we increase the model complexity. This is also clearly not underfitting. In terms of fitting time and scoring time, the average fitting time is 0.68, scoring times is 0.12. Compare to linear model:\n",
    "- accuracy: linear model 0.810, random forest 0.8157, random forest is slightly better than the linear model\n",
    "- precision on class 1: linear model 0.719, random forest 0.6514, linear model is better than random forest model\n",
    "- recall on class 1: linear model 0.244, random forest 0.3759, random forest is better than linear model\n",
    "- f1 score on class 1: linear model 0.365, random forest 0.4767, random forest is better than linear model\n",
    "- ROC-AUC score: linear model 0.722, random forest 0.7621, random forest is better than linear model\n",
    "- Fitting time: linear model around 0.075, random forest 0.68, linear model is faster in terms of fitting time.\n",
    "- Scoring time: linear model 0.0003, random forest around 0.12, linear mode is faster in terms of scoring time.\n",
    "\n",
    "Overall, random forest model beats the logistic regression model. In terms of speed, linear model is faster in both fitting time and scoring time."
   ]
  },
  {
   "cell_type": "markdown",
   "metadata": {},
   "source": [
    "<!-- END QUESTION -->\n",
    "\n",
    "<br><br>"
   ]
  },
  {
   "cell_type": "markdown",
   "metadata": {},
   "source": [
    "<!-- BEGIN QUESTION -->\n",
    "\n",
    "## (Optional) 9. Feature selection <a name=\"9\"></a>\n",
    "<hr>\n",
    "rubric={points:2}\n",
    "\n",
    "**Your tasks:**\n",
    "\n",
    "Make some attempts to select relevant features. You may try `RFECV` or forward selection for this. Do the results improve with feature selection? Summarize your results. If you see improvements in the results, keep feature selection in your pipeline. If not, you may abandon it in the next exercises. "
   ]
  },
  {
   "cell_type": "markdown",
   "metadata": {},
   "source": [
    "<div class=\"alert alert-warning\">\n",
    "    \n",
    "Solution_9\n",
    "    \n",
    "</div>"
   ]
  },
  {
   "cell_type": "markdown",
   "metadata": {},
   "source": [
    "_Type your answer here, replacing this text._"
   ]
  },
  {
   "cell_type": "code",
   "execution_count": 46,
   "metadata": {
    "tags": []
   },
   "outputs": [
    {
     "data": {
      "text/plain": [
       "Ellipsis"
      ]
     },
     "execution_count": 46,
     "metadata": {},
     "output_type": "execute_result"
    }
   ],
   "source": [
    "..."
   ]
  },
  {
   "cell_type": "code",
   "execution_count": 47,
   "metadata": {
    "tags": []
   },
   "outputs": [
    {
     "data": {
      "text/plain": [
       "Ellipsis"
      ]
     },
     "execution_count": 47,
     "metadata": {},
     "output_type": "execute_result"
    }
   ],
   "source": [
    "..."
   ]
  },
  {
   "cell_type": "code",
   "execution_count": 48,
   "metadata": {
    "tags": []
   },
   "outputs": [
    {
     "data": {
      "text/plain": [
       "Ellipsis"
      ]
     },
     "execution_count": 48,
     "metadata": {},
     "output_type": "execute_result"
    }
   ],
   "source": [
    "..."
   ]
  },
  {
   "cell_type": "markdown",
   "metadata": {},
   "source": [
    "<!-- END QUESTION -->\n",
    "\n",
    "<br><br>"
   ]
  },
  {
   "cell_type": "markdown",
   "metadata": {},
   "source": [
    "<!-- BEGIN QUESTION -->\n",
    "\n",
    "## 10. Hyperparameter optimization <a name=\"10\"></a>\n",
    "<hr>\n",
    "rubric={points:10}\n",
    "\n",
    "**Your tasks:**\n",
    "\n",
    "Make some attempts to optimize hyperparameters for the models you've tried and summarize your results. In at least one case you should be optimizing multiple hyperparameters for a single model. You may use `sklearn`'s methods for hyperparameter optimization or fancier Bayesian optimization methods. \n",
    "  - [GridSearchCV](http://scikit-learn.org/stable/modules/generated/sklearn.model_selection.GridSearchCV.html)   \n",
    "  - [RandomizedSearchCV](http://scikit-learn.org/stable/modules/generated/sklearn.model_selection.RandomizedSearchCV.html)\n",
    "  - [scikit-optimize](https://github.com/scikit-optimize/scikit-optimize) "
   ]
  },
  {
   "cell_type": "markdown",
   "metadata": {},
   "source": [
    "<div class=\"alert alert-warning\">\n",
    "    \n",
    "Solution_10\n",
    "    \n",
    "</div>"
   ]
  },
  {
   "cell_type": "markdown",
   "metadata": {},
   "source": [
    "**Logistic Regression**"
   ]
  },
  {
   "cell_type": "markdown",
   "metadata": {},
   "source": [
    "As this is a classification problem, we choose Logistic Regression as our linear model for assessment. The following is hyperparameter tuning with C=0.001, 0.01, 0.1, 1, 10, 100, 1000."
   ]
  },
  {
   "cell_type": "code",
   "execution_count": 49,
   "metadata": {
    "tags": []
   },
   "outputs": [
    {
     "data": {
      "text/html": [
       "<div>\n",
       "<style scoped>\n",
       "    .dataframe tbody tr th:only-of-type {\n",
       "        vertical-align: middle;\n",
       "    }\n",
       "\n",
       "    .dataframe tbody tr th {\n",
       "        vertical-align: top;\n",
       "    }\n",
       "\n",
       "    .dataframe thead th {\n",
       "        text-align: right;\n",
       "    }\n",
       "</style>\n",
       "<table border=\"1\" class=\"dataframe\">\n",
       "  <thead>\n",
       "    <tr style=\"text-align: right;\">\n",
       "      <th>rank_test_score</th>\n",
       "      <th>1</th>\n",
       "      <th>2</th>\n",
       "      <th>2</th>\n",
       "      <th>2</th>\n",
       "      <th>5</th>\n",
       "      <th>6</th>\n",
       "      <th>7</th>\n",
       "    </tr>\n",
       "  </thead>\n",
       "  <tbody>\n",
       "    <tr>\n",
       "      <th>mean_fit_time</th>\n",
       "      <td>0.320883</td>\n",
       "      <td>0.313677</td>\n",
       "      <td>0.273538</td>\n",
       "      <td>0.214875</td>\n",
       "      <td>0.268567</td>\n",
       "      <td>0.20031</td>\n",
       "      <td>0.097745</td>\n",
       "    </tr>\n",
       "    <tr>\n",
       "      <th>std_fit_time</th>\n",
       "      <td>0.014822</td>\n",
       "      <td>0.015181</td>\n",
       "      <td>0.036587</td>\n",
       "      <td>0.02816</td>\n",
       "      <td>0.015314</td>\n",
       "      <td>0.010069</td>\n",
       "      <td>0.009549</td>\n",
       "    </tr>\n",
       "    <tr>\n",
       "      <th>mean_score_time</th>\n",
       "      <td>0.003396</td>\n",
       "      <td>0.002599</td>\n",
       "      <td>0.001552</td>\n",
       "      <td>0.000862</td>\n",
       "      <td>0.003815</td>\n",
       "      <td>0.003601</td>\n",
       "      <td>0.003189</td>\n",
       "    </tr>\n",
       "    <tr>\n",
       "      <th>std_score_time</th>\n",
       "      <td>0.001014</td>\n",
       "      <td>0.000476</td>\n",
       "      <td>0.000631</td>\n",
       "      <td>0.000449</td>\n",
       "      <td>0.001197</td>\n",
       "      <td>0.000498</td>\n",
       "      <td>0.000404</td>\n",
       "    </tr>\n",
       "    <tr>\n",
       "      <th>param_C</th>\n",
       "      <td>1.0</td>\n",
       "      <td>10</td>\n",
       "      <td>100</td>\n",
       "      <td>1000</td>\n",
       "      <td>0.1</td>\n",
       "      <td>0.01</td>\n",
       "      <td>0.001</td>\n",
       "    </tr>\n",
       "    <tr>\n",
       "      <th>params</th>\n",
       "      <td>{'C': 1.0}</td>\n",
       "      <td>{'C': 10}</td>\n",
       "      <td>{'C': 100}</td>\n",
       "      <td>{'C': 1000}</td>\n",
       "      <td>{'C': 0.1}</td>\n",
       "      <td>{'C': 0.01}</td>\n",
       "      <td>{'C': 0.001}</td>\n",
       "    </tr>\n",
       "    <tr>\n",
       "      <th>split0_test_score</th>\n",
       "      <td>0.809286</td>\n",
       "      <td>0.809286</td>\n",
       "      <td>0.809286</td>\n",
       "      <td>0.809286</td>\n",
       "      <td>0.80881</td>\n",
       "      <td>0.80881</td>\n",
       "      <td>0.802619</td>\n",
       "    </tr>\n",
       "    <tr>\n",
       "      <th>split1_test_score</th>\n",
       "      <td>0.809524</td>\n",
       "      <td>0.809286</td>\n",
       "      <td>0.809286</td>\n",
       "      <td>0.809286</td>\n",
       "      <td>0.809048</td>\n",
       "      <td>0.80881</td>\n",
       "      <td>0.803571</td>\n",
       "    </tr>\n",
       "    <tr>\n",
       "      <th>split2_test_score</th>\n",
       "      <td>0.811905</td>\n",
       "      <td>0.811905</td>\n",
       "      <td>0.811905</td>\n",
       "      <td>0.811905</td>\n",
       "      <td>0.81119</td>\n",
       "      <td>0.81119</td>\n",
       "      <td>0.804286</td>\n",
       "    </tr>\n",
       "    <tr>\n",
       "      <th>split3_test_score</th>\n",
       "      <td>0.812857</td>\n",
       "      <td>0.812857</td>\n",
       "      <td>0.812857</td>\n",
       "      <td>0.812857</td>\n",
       "      <td>0.813333</td>\n",
       "      <td>0.810952</td>\n",
       "      <td>0.803095</td>\n",
       "    </tr>\n",
       "    <tr>\n",
       "      <th>split4_test_score</th>\n",
       "      <td>0.806667</td>\n",
       "      <td>0.806667</td>\n",
       "      <td>0.806667</td>\n",
       "      <td>0.806667</td>\n",
       "      <td>0.806667</td>\n",
       "      <td>0.804762</td>\n",
       "      <td>0.795714</td>\n",
       "    </tr>\n",
       "    <tr>\n",
       "      <th>mean_test_score</th>\n",
       "      <td>0.810048</td>\n",
       "      <td>0.81</td>\n",
       "      <td>0.81</td>\n",
       "      <td>0.81</td>\n",
       "      <td>0.80981</td>\n",
       "      <td>0.808905</td>\n",
       "      <td>0.801857</td>\n",
       "    </tr>\n",
       "    <tr>\n",
       "      <th>std_test_score</th>\n",
       "      <td>0.002174</td>\n",
       "      <td>0.002187</td>\n",
       "      <td>0.002187</td>\n",
       "      <td>0.002187</td>\n",
       "      <td>0.002271</td>\n",
       "      <td>0.002306</td>\n",
       "      <td>0.00312</td>\n",
       "    </tr>\n",
       "    <tr>\n",
       "      <th>split0_train_score</th>\n",
       "      <td>0.811667</td>\n",
       "      <td>0.811726</td>\n",
       "      <td>0.811726</td>\n",
       "      <td>0.811726</td>\n",
       "      <td>0.811667</td>\n",
       "      <td>0.810655</td>\n",
       "      <td>0.802619</td>\n",
       "    </tr>\n",
       "    <tr>\n",
       "      <th>split1_train_score</th>\n",
       "      <td>0.810238</td>\n",
       "      <td>0.810298</td>\n",
       "      <td>0.810298</td>\n",
       "      <td>0.810298</td>\n",
       "      <td>0.809881</td>\n",
       "      <td>0.809583</td>\n",
       "      <td>0.801429</td>\n",
       "    </tr>\n",
       "    <tr>\n",
       "      <th>split2_train_score</th>\n",
       "      <td>0.809107</td>\n",
       "      <td>0.809167</td>\n",
       "      <td>0.809107</td>\n",
       "      <td>0.809167</td>\n",
       "      <td>0.809226</td>\n",
       "      <td>0.807738</td>\n",
       "      <td>0.800833</td>\n",
       "    </tr>\n",
       "    <tr>\n",
       "      <th>split3_train_score</th>\n",
       "      <td>0.808988</td>\n",
       "      <td>0.808929</td>\n",
       "      <td>0.808929</td>\n",
       "      <td>0.808929</td>\n",
       "      <td>0.80869</td>\n",
       "      <td>0.808155</td>\n",
       "      <td>0.800476</td>\n",
       "    </tr>\n",
       "    <tr>\n",
       "      <th>split4_train_score</th>\n",
       "      <td>0.810833</td>\n",
       "      <td>0.810833</td>\n",
       "      <td>0.810833</td>\n",
       "      <td>0.810833</td>\n",
       "      <td>0.810655</td>\n",
       "      <td>0.809345</td>\n",
       "      <td>0.803333</td>\n",
       "    </tr>\n",
       "    <tr>\n",
       "      <th>mean_train_score</th>\n",
       "      <td>0.810167</td>\n",
       "      <td>0.81019</td>\n",
       "      <td>0.810179</td>\n",
       "      <td>0.81019</td>\n",
       "      <td>0.810024</td>\n",
       "      <td>0.809095</td>\n",
       "      <td>0.801738</td>\n",
       "    </tr>\n",
       "    <tr>\n",
       "      <th>std_train_score</th>\n",
       "      <td>0.001021</td>\n",
       "      <td>0.001042</td>\n",
       "      <td>0.001053</td>\n",
       "      <td>0.001042</td>\n",
       "      <td>0.001052</td>\n",
       "      <td>0.001045</td>\n",
       "      <td>0.00108</td>\n",
       "    </tr>\n",
       "  </tbody>\n",
       "</table>\n",
       "</div>"
      ],
      "text/plain": [
       "rank_test_score              1          2           2            2  \\\n",
       "mean_fit_time         0.320883   0.313677    0.273538     0.214875   \n",
       "std_fit_time          0.014822   0.015181    0.036587      0.02816   \n",
       "mean_score_time       0.003396   0.002599    0.001552     0.000862   \n",
       "std_score_time        0.001014   0.000476    0.000631     0.000449   \n",
       "param_C                    1.0         10         100         1000   \n",
       "params              {'C': 1.0}  {'C': 10}  {'C': 100}  {'C': 1000}   \n",
       "split0_test_score     0.809286   0.809286    0.809286     0.809286   \n",
       "split1_test_score     0.809524   0.809286    0.809286     0.809286   \n",
       "split2_test_score     0.811905   0.811905    0.811905     0.811905   \n",
       "split3_test_score     0.812857   0.812857    0.812857     0.812857   \n",
       "split4_test_score     0.806667   0.806667    0.806667     0.806667   \n",
       "mean_test_score       0.810048       0.81        0.81         0.81   \n",
       "std_test_score        0.002174   0.002187    0.002187     0.002187   \n",
       "split0_train_score    0.811667   0.811726    0.811726     0.811726   \n",
       "split1_train_score    0.810238   0.810298    0.810298     0.810298   \n",
       "split2_train_score    0.809107   0.809167    0.809107     0.809167   \n",
       "split3_train_score    0.808988   0.808929    0.808929     0.808929   \n",
       "split4_train_score    0.810833   0.810833    0.810833     0.810833   \n",
       "mean_train_score      0.810167    0.81019    0.810179      0.81019   \n",
       "std_train_score       0.001021   0.001042    0.001053     0.001042   \n",
       "\n",
       "rank_test_score              5            6             7  \n",
       "mean_fit_time         0.268567      0.20031      0.097745  \n",
       "std_fit_time          0.015314     0.010069      0.009549  \n",
       "mean_score_time       0.003815     0.003601      0.003189  \n",
       "std_score_time        0.001197     0.000498      0.000404  \n",
       "param_C                    0.1         0.01         0.001  \n",
       "params              {'C': 0.1}  {'C': 0.01}  {'C': 0.001}  \n",
       "split0_test_score      0.80881      0.80881      0.802619  \n",
       "split1_test_score     0.809048      0.80881      0.803571  \n",
       "split2_test_score      0.81119      0.81119      0.804286  \n",
       "split3_test_score     0.813333     0.810952      0.803095  \n",
       "split4_test_score     0.806667     0.804762      0.795714  \n",
       "mean_test_score        0.80981     0.808905      0.801857  \n",
       "std_test_score        0.002271     0.002306       0.00312  \n",
       "split0_train_score    0.811667     0.810655      0.802619  \n",
       "split1_train_score    0.809881     0.809583      0.801429  \n",
       "split2_train_score    0.809226     0.807738      0.800833  \n",
       "split3_train_score     0.80869     0.808155      0.800476  \n",
       "split4_train_score    0.810655     0.809345      0.803333  \n",
       "mean_train_score      0.810024     0.809095      0.801738  \n",
       "std_train_score       0.001052     0.001045       0.00108  "
      ]
     },
     "execution_count": 49,
     "metadata": {},
     "output_type": "execute_result"
    }
   ],
   "source": [
    "lr = LogisticRegression()\n",
    "param_grid = {\n",
    "    'C': [0.001, 0.01, 0.1, 1.0, 10, 100, 1000]\n",
    "}\n",
    "\n",
    "grid_search = GridSearchCV(\n",
    "    lr, param_grid, n_jobs = -1, cv = 5, return_train_score = True, \n",
    ")\n",
    "\n",
    "grid_search.fit(X_train_transformed, y_train)\n",
    "pd.DataFrame(grid_search.cv_results_).set_index('rank_test_score').sort_index().T\n"
   ]
  },
  {
   "cell_type": "code",
   "execution_count": 50,
   "metadata": {
    "tags": []
   },
   "outputs": [
    {
     "data": {
      "text/html": [
       "<div>\n",
       "<style scoped>\n",
       "    .dataframe tbody tr th:only-of-type {\n",
       "        vertical-align: middle;\n",
       "    }\n",
       "\n",
       "    .dataframe tbody tr th {\n",
       "        vertical-align: top;\n",
       "    }\n",
       "\n",
       "    .dataframe thead th {\n",
       "        text-align: right;\n",
       "    }\n",
       "</style>\n",
       "<table border=\"1\" class=\"dataframe\">\n",
       "  <thead>\n",
       "    <tr style=\"text-align: right;\">\n",
       "      <th>rank_test_score</th>\n",
       "      <th>1</th>\n",
       "      <th>2</th>\n",
       "      <th>2</th>\n",
       "      <th>2</th>\n",
       "      <th>5</th>\n",
       "      <th>6</th>\n",
       "      <th>7</th>\n",
       "    </tr>\n",
       "  </thead>\n",
       "  <tbody>\n",
       "    <tr>\n",
       "      <th>mean_test_score</th>\n",
       "      <td>0.810048</td>\n",
       "      <td>0.81</td>\n",
       "      <td>0.81</td>\n",
       "      <td>0.81</td>\n",
       "      <td>0.80981</td>\n",
       "      <td>0.808905</td>\n",
       "      <td>0.801857</td>\n",
       "    </tr>\n",
       "    <tr>\n",
       "      <th>param_C</th>\n",
       "      <td>1.0</td>\n",
       "      <td>10</td>\n",
       "      <td>100</td>\n",
       "      <td>1000</td>\n",
       "      <td>0.1</td>\n",
       "      <td>0.01</td>\n",
       "      <td>0.001</td>\n",
       "    </tr>\n",
       "    <tr>\n",
       "      <th>mean_fit_time</th>\n",
       "      <td>0.320883</td>\n",
       "      <td>0.313677</td>\n",
       "      <td>0.273538</td>\n",
       "      <td>0.214875</td>\n",
       "      <td>0.268567</td>\n",
       "      <td>0.20031</td>\n",
       "      <td>0.097745</td>\n",
       "    </tr>\n",
       "    <tr>\n",
       "      <th>std_test_score</th>\n",
       "      <td>0.002174</td>\n",
       "      <td>0.002187</td>\n",
       "      <td>0.002187</td>\n",
       "      <td>0.002187</td>\n",
       "      <td>0.002271</td>\n",
       "      <td>0.002306</td>\n",
       "      <td>0.00312</td>\n",
       "    </tr>\n",
       "  </tbody>\n",
       "</table>\n",
       "</div>"
      ],
      "text/plain": [
       "rank_test_score         1         2         2         2         5         6  \\\n",
       "mean_test_score  0.810048      0.81      0.81      0.81   0.80981  0.808905   \n",
       "param_C               1.0        10       100      1000       0.1      0.01   \n",
       "mean_fit_time    0.320883  0.313677  0.273538  0.214875  0.268567   0.20031   \n",
       "std_test_score   0.002174  0.002187  0.002187  0.002187  0.002271  0.002306   \n",
       "\n",
       "rank_test_score         7  \n",
       "mean_test_score  0.801857  \n",
       "param_C             0.001  \n",
       "mean_fit_time    0.097745  \n",
       "std_test_score    0.00312  "
      ]
     },
     "execution_count": 50,
     "metadata": {},
     "output_type": "execute_result"
    }
   ],
   "source": [
    "relevant = [\n",
    "    'mean_test_score',\n",
    "    'param_C',\n",
    "    'mean_fit_time',\n",
    "    'rank_test_score',\n",
    "    'std_test_score',\n",
    "]\n",
    "pd.DataFrame(grid_search.cv_results_)[relevant].set_index('rank_test_score').sort_index().T\n"
   ]
  },
  {
   "cell_type": "code",
   "execution_count": 51,
   "metadata": {
    "tags": []
   },
   "outputs": [
    {
     "data": {
      "text/plain": [
       "{'C': 1.0}"
      ]
     },
     "execution_count": 51,
     "metadata": {},
     "output_type": "execute_result"
    }
   ],
   "source": [
    "best_params = grid_search.best_params_\n",
    "best_params"
   ]
  },
  {
   "cell_type": "markdown",
   "metadata": {},
   "source": [
    "We found the best hyperparameter for Logistic Regression is C=1.0, which has mean cross-validation score 0.810048 +/- 0.002174. The following is retrained model with the best hyperparameter."
   ]
  },
  {
   "cell_type": "code",
   "execution_count": 52,
   "metadata": {
    "tags": []
   },
   "outputs": [
    {
     "name": "stdout",
     "output_type": "stream",
     "text": [
      "train data score:  0.8105714285714286\n"
     ]
    }
   ],
   "source": [
    "best_lr = LogisticRegression(C = 1.0)\n",
    "best_lr.fit(X_train_transformed, y_train)\n",
    "print('train data score: ', best_lr.score(X_train_transformed, y_train))"
   ]
  },
  {
   "cell_type": "markdown",
   "metadata": {},
   "source": [
    "**Decision Tree Classifier**"
   ]
  },
  {
   "cell_type": "code",
   "execution_count": 53,
   "metadata": {
    "tags": []
   },
   "outputs": [
    {
     "data": {
      "text/html": [
       "<div>\n",
       "<style scoped>\n",
       "    .dataframe tbody tr th:only-of-type {\n",
       "        vertical-align: middle;\n",
       "    }\n",
       "\n",
       "    .dataframe tbody tr th {\n",
       "        vertical-align: top;\n",
       "    }\n",
       "\n",
       "    .dataframe thead th {\n",
       "        text-align: right;\n",
       "    }\n",
       "</style>\n",
       "<table border=\"1\" class=\"dataframe\">\n",
       "  <thead>\n",
       "    <tr style=\"text-align: right;\">\n",
       "      <th>rank_test_score</th>\n",
       "      <th>1</th>\n",
       "      <th>2</th>\n",
       "      <th>3</th>\n",
       "      <th>4</th>\n",
       "      <th>5</th>\n",
       "      <th>6</th>\n",
       "      <th>7</th>\n",
       "      <th>8</th>\n",
       "      <th>9</th>\n",
       "      <th>10</th>\n",
       "    </tr>\n",
       "  </thead>\n",
       "  <tbody>\n",
       "    <tr>\n",
       "      <th>mean_fit_time</th>\n",
       "      <td>0.119036</td>\n",
       "      <td>0.065715</td>\n",
       "      <td>0.038121</td>\n",
       "      <td>0.151065</td>\n",
       "      <td>0.178542</td>\n",
       "      <td>0.222156</td>\n",
       "      <td>0.23463</td>\n",
       "      <td>0.256964</td>\n",
       "      <td>0.285809</td>\n",
       "      <td>0.272187</td>\n",
       "    </tr>\n",
       "    <tr>\n",
       "      <th>std_fit_time</th>\n",
       "      <td>0.002689</td>\n",
       "      <td>0.001439</td>\n",
       "      <td>0.001136</td>\n",
       "      <td>0.006972</td>\n",
       "      <td>0.004712</td>\n",
       "      <td>0.005046</td>\n",
       "      <td>0.006667</td>\n",
       "      <td>0.008453</td>\n",
       "      <td>0.011119</td>\n",
       "      <td>0.024117</td>\n",
       "    </tr>\n",
       "    <tr>\n",
       "      <th>mean_score_time</th>\n",
       "      <td>0.00261</td>\n",
       "      <td>0.001203</td>\n",
       "      <td>0.001106</td>\n",
       "      <td>0.001804</td>\n",
       "      <td>0.001808</td>\n",
       "      <td>0.001812</td>\n",
       "      <td>0.001932</td>\n",
       "      <td>0.001482</td>\n",
       "      <td>0.002198</td>\n",
       "      <td>0.001403</td>\n",
       "    </tr>\n",
       "    <tr>\n",
       "      <th>std_score_time</th>\n",
       "      <td>0.001028</td>\n",
       "      <td>0.000399</td>\n",
       "      <td>0.000208</td>\n",
       "      <td>0.000401</td>\n",
       "      <td>0.0004</td>\n",
       "      <td>0.000405</td>\n",
       "      <td>0.000153</td>\n",
       "      <td>0.000604</td>\n",
       "      <td>0.000397</td>\n",
       "      <td>0.000489</td>\n",
       "    </tr>\n",
       "    <tr>\n",
       "      <th>param_max_depth</th>\n",
       "      <td>4</td>\n",
       "      <td>2</td>\n",
       "      <td>1</td>\n",
       "      <td>5</td>\n",
       "      <td>6</td>\n",
       "      <td>8</td>\n",
       "      <td>9</td>\n",
       "      <td>10</td>\n",
       "      <td>11</td>\n",
       "      <td>12</td>\n",
       "    </tr>\n",
       "    <tr>\n",
       "      <th>params</th>\n",
       "      <td>{'max_depth': 4}</td>\n",
       "      <td>{'max_depth': 2}</td>\n",
       "      <td>{'max_depth': 1}</td>\n",
       "      <td>{'max_depth': 5}</td>\n",
       "      <td>{'max_depth': 6}</td>\n",
       "      <td>{'max_depth': 8}</td>\n",
       "      <td>{'max_depth': 9}</td>\n",
       "      <td>{'max_depth': 10}</td>\n",
       "      <td>{'max_depth': 11}</td>\n",
       "      <td>{'max_depth': 12}</td>\n",
       "    </tr>\n",
       "    <tr>\n",
       "      <th>split0_test_score</th>\n",
       "      <td>0.812619</td>\n",
       "      <td>0.811429</td>\n",
       "      <td>0.811905</td>\n",
       "      <td>0.812381</td>\n",
       "      <td>0.808571</td>\n",
       "      <td>0.803333</td>\n",
       "      <td>0.803095</td>\n",
       "      <td>0.797857</td>\n",
       "      <td>0.790476</td>\n",
       "      <td>0.782857</td>\n",
       "    </tr>\n",
       "    <tr>\n",
       "      <th>split1_test_score</th>\n",
       "      <td>0.817619</td>\n",
       "      <td>0.815952</td>\n",
       "      <td>0.814762</td>\n",
       "      <td>0.81619</td>\n",
       "      <td>0.816905</td>\n",
       "      <td>0.81619</td>\n",
       "      <td>0.809048</td>\n",
       "      <td>0.809048</td>\n",
       "      <td>0.802143</td>\n",
       "      <td>0.799048</td>\n",
       "    </tr>\n",
       "    <tr>\n",
       "      <th>split2_test_score</th>\n",
       "      <td>0.822619</td>\n",
       "      <td>0.82381</td>\n",
       "      <td>0.82381</td>\n",
       "      <td>0.818333</td>\n",
       "      <td>0.820476</td>\n",
       "      <td>0.818333</td>\n",
       "      <td>0.817619</td>\n",
       "      <td>0.815238</td>\n",
       "      <td>0.808095</td>\n",
       "      <td>0.799762</td>\n",
       "    </tr>\n",
       "    <tr>\n",
       "      <th>split3_test_score</th>\n",
       "      <td>0.825476</td>\n",
       "      <td>0.824762</td>\n",
       "      <td>0.824762</td>\n",
       "      <td>0.822857</td>\n",
       "      <td>0.820238</td>\n",
       "      <td>0.817381</td>\n",
       "      <td>0.812143</td>\n",
       "      <td>0.804762</td>\n",
       "      <td>0.798571</td>\n",
       "      <td>0.796667</td>\n",
       "    </tr>\n",
       "    <tr>\n",
       "      <th>split4_test_score</th>\n",
       "      <td>0.818571</td>\n",
       "      <td>0.816667</td>\n",
       "      <td>0.816667</td>\n",
       "      <td>0.816667</td>\n",
       "      <td>0.815714</td>\n",
       "      <td>0.816667</td>\n",
       "      <td>0.81381</td>\n",
       "      <td>0.811429</td>\n",
       "      <td>0.803571</td>\n",
       "      <td>0.799762</td>\n",
       "    </tr>\n",
       "    <tr>\n",
       "      <th>mean_test_score</th>\n",
       "      <td>0.819381</td>\n",
       "      <td>0.818524</td>\n",
       "      <td>0.818381</td>\n",
       "      <td>0.817286</td>\n",
       "      <td>0.816381</td>\n",
       "      <td>0.814381</td>\n",
       "      <td>0.811143</td>\n",
       "      <td>0.807667</td>\n",
       "      <td>0.800571</td>\n",
       "      <td>0.795619</td>\n",
       "    </tr>\n",
       "    <tr>\n",
       "      <th>std_test_score</th>\n",
       "      <td>0.004407</td>\n",
       "      <td>0.005045</td>\n",
       "      <td>0.005063</td>\n",
       "      <td>0.003399</td>\n",
       "      <td>0.004321</td>\n",
       "      <td>0.005571</td>\n",
       "      <td>0.004883</td>\n",
       "      <td>0.005967</td>\n",
       "      <td>0.005899</td>\n",
       "      <td>0.006481</td>\n",
       "    </tr>\n",
       "  </tbody>\n",
       "</table>\n",
       "</div>"
      ],
      "text/plain": [
       "rank_test_score                  1                 2                 3   \\\n",
       "mean_fit_time              0.119036          0.065715          0.038121   \n",
       "std_fit_time               0.002689          0.001439          0.001136   \n",
       "mean_score_time             0.00261          0.001203          0.001106   \n",
       "std_score_time             0.001028          0.000399          0.000208   \n",
       "param_max_depth                   4                 2                 1   \n",
       "params             {'max_depth': 4}  {'max_depth': 2}  {'max_depth': 1}   \n",
       "split0_test_score          0.812619          0.811429          0.811905   \n",
       "split1_test_score          0.817619          0.815952          0.814762   \n",
       "split2_test_score          0.822619           0.82381           0.82381   \n",
       "split3_test_score          0.825476          0.824762          0.824762   \n",
       "split4_test_score          0.818571          0.816667          0.816667   \n",
       "mean_test_score            0.819381          0.818524          0.818381   \n",
       "std_test_score             0.004407          0.005045          0.005063   \n",
       "\n",
       "rank_test_score                  4                 5                 6   \\\n",
       "mean_fit_time              0.151065          0.178542          0.222156   \n",
       "std_fit_time               0.006972          0.004712          0.005046   \n",
       "mean_score_time            0.001804          0.001808          0.001812   \n",
       "std_score_time             0.000401            0.0004          0.000405   \n",
       "param_max_depth                   5                 6                 8   \n",
       "params             {'max_depth': 5}  {'max_depth': 6}  {'max_depth': 8}   \n",
       "split0_test_score          0.812381          0.808571          0.803333   \n",
       "split1_test_score           0.81619          0.816905           0.81619   \n",
       "split2_test_score          0.818333          0.820476          0.818333   \n",
       "split3_test_score          0.822857          0.820238          0.817381   \n",
       "split4_test_score          0.816667          0.815714          0.816667   \n",
       "mean_test_score            0.817286          0.816381          0.814381   \n",
       "std_test_score             0.003399          0.004321          0.005571   \n",
       "\n",
       "rank_test_score                  7                  8                  9   \\\n",
       "mean_fit_time               0.23463           0.256964           0.285809   \n",
       "std_fit_time               0.006667           0.008453           0.011119   \n",
       "mean_score_time            0.001932           0.001482           0.002198   \n",
       "std_score_time             0.000153           0.000604           0.000397   \n",
       "param_max_depth                   9                 10                 11   \n",
       "params             {'max_depth': 9}  {'max_depth': 10}  {'max_depth': 11}   \n",
       "split0_test_score          0.803095           0.797857           0.790476   \n",
       "split1_test_score          0.809048           0.809048           0.802143   \n",
       "split2_test_score          0.817619           0.815238           0.808095   \n",
       "split3_test_score          0.812143           0.804762           0.798571   \n",
       "split4_test_score           0.81381           0.811429           0.803571   \n",
       "mean_test_score            0.811143           0.807667           0.800571   \n",
       "std_test_score             0.004883           0.005967           0.005899   \n",
       "\n",
       "rank_test_score                   10  \n",
       "mean_fit_time               0.272187  \n",
       "std_fit_time                0.024117  \n",
       "mean_score_time             0.001403  \n",
       "std_score_time              0.000489  \n",
       "param_max_depth                   12  \n",
       "params             {'max_depth': 12}  \n",
       "split0_test_score           0.782857  \n",
       "split1_test_score           0.799048  \n",
       "split2_test_score           0.799762  \n",
       "split3_test_score           0.796667  \n",
       "split4_test_score           0.799762  \n",
       "mean_test_score             0.795619  \n",
       "std_test_score              0.006481  "
      ]
     },
     "execution_count": 53,
     "metadata": {},
     "output_type": "execute_result"
    }
   ],
   "source": [
    "decision_tree = DecisionTreeClassifier()\n",
    "param_grid = {\"max_depth\": np.arange(1, 16)}\n",
    "\n",
    "random_search = RandomizedSearchCV(\n",
    "    decision_tree, param_grid, n_jobs = -1, n_iter = 10, random_state = 123, \n",
    ")\n",
    "\n",
    "random_search.fit(X_train_transformed, y_train)\n",
    "pd.DataFrame(random_search.cv_results_).set_index('rank_test_score').sort_index().T"
   ]
  },
  {
   "cell_type": "code",
   "execution_count": 54,
   "metadata": {
    "tags": []
   },
   "outputs": [
    {
     "data": {
      "text/html": [
       "<div>\n",
       "<style scoped>\n",
       "    .dataframe tbody tr th:only-of-type {\n",
       "        vertical-align: middle;\n",
       "    }\n",
       "\n",
       "    .dataframe tbody tr th {\n",
       "        vertical-align: top;\n",
       "    }\n",
       "\n",
       "    .dataframe thead th {\n",
       "        text-align: right;\n",
       "    }\n",
       "</style>\n",
       "<table border=\"1\" class=\"dataframe\">\n",
       "  <thead>\n",
       "    <tr style=\"text-align: right;\">\n",
       "      <th>rank_test_score</th>\n",
       "      <th>1</th>\n",
       "      <th>2</th>\n",
       "      <th>3</th>\n",
       "      <th>4</th>\n",
       "      <th>5</th>\n",
       "      <th>6</th>\n",
       "      <th>7</th>\n",
       "      <th>8</th>\n",
       "      <th>9</th>\n",
       "      <th>10</th>\n",
       "    </tr>\n",
       "  </thead>\n",
       "  <tbody>\n",
       "    <tr>\n",
       "      <th>mean_test_score</th>\n",
       "      <td>0.819381</td>\n",
       "      <td>0.818524</td>\n",
       "      <td>0.818381</td>\n",
       "      <td>0.817286</td>\n",
       "      <td>0.816381</td>\n",
       "      <td>0.814381</td>\n",
       "      <td>0.811143</td>\n",
       "      <td>0.807667</td>\n",
       "      <td>0.800571</td>\n",
       "      <td>0.795619</td>\n",
       "    </tr>\n",
       "    <tr>\n",
       "      <th>param_max_depth</th>\n",
       "      <td>4</td>\n",
       "      <td>2</td>\n",
       "      <td>1</td>\n",
       "      <td>5</td>\n",
       "      <td>6</td>\n",
       "      <td>8</td>\n",
       "      <td>9</td>\n",
       "      <td>10</td>\n",
       "      <td>11</td>\n",
       "      <td>12</td>\n",
       "    </tr>\n",
       "    <tr>\n",
       "      <th>mean_fit_time</th>\n",
       "      <td>0.119036</td>\n",
       "      <td>0.065715</td>\n",
       "      <td>0.038121</td>\n",
       "      <td>0.151065</td>\n",
       "      <td>0.178542</td>\n",
       "      <td>0.222156</td>\n",
       "      <td>0.23463</td>\n",
       "      <td>0.256964</td>\n",
       "      <td>0.285809</td>\n",
       "      <td>0.272187</td>\n",
       "    </tr>\n",
       "    <tr>\n",
       "      <th>std_test_score</th>\n",
       "      <td>0.004407</td>\n",
       "      <td>0.005045</td>\n",
       "      <td>0.005063</td>\n",
       "      <td>0.003399</td>\n",
       "      <td>0.004321</td>\n",
       "      <td>0.005571</td>\n",
       "      <td>0.004883</td>\n",
       "      <td>0.005967</td>\n",
       "      <td>0.005899</td>\n",
       "      <td>0.006481</td>\n",
       "    </tr>\n",
       "  </tbody>\n",
       "</table>\n",
       "</div>"
      ],
      "text/plain": [
       "rank_test_score        1         2         3         4         5         6   \\\n",
       "mean_test_score  0.819381  0.818524  0.818381  0.817286  0.816381  0.814381   \n",
       "param_max_depth         4         2         1         5         6         8   \n",
       "mean_fit_time    0.119036  0.065715  0.038121  0.151065  0.178542  0.222156   \n",
       "std_test_score   0.004407  0.005045  0.005063  0.003399  0.004321  0.005571   \n",
       "\n",
       "rank_test_score        7         8         9         10  \n",
       "mean_test_score  0.811143  0.807667  0.800571  0.795619  \n",
       "param_max_depth         9        10        11        12  \n",
       "mean_fit_time     0.23463  0.256964  0.285809  0.272187  \n",
       "std_test_score   0.004883  0.005967  0.005899  0.006481  "
      ]
     },
     "execution_count": 54,
     "metadata": {},
     "output_type": "execute_result"
    }
   ],
   "source": [
    "relevant = [\n",
    "    'mean_test_score',\n",
    "    'param_max_depth',\n",
    "    'mean_fit_time',\n",
    "    'rank_test_score',\n",
    "    'std_test_score',\n",
    "]\n",
    "pd.DataFrame(random_search.cv_results_)[relevant].set_index('rank_test_score').sort_index().T"
   ]
  },
  {
   "cell_type": "code",
   "execution_count": 55,
   "metadata": {
    "tags": []
   },
   "outputs": [
    {
     "data": {
      "text/plain": [
       "{'max_depth': 4}"
      ]
     },
     "execution_count": 55,
     "metadata": {},
     "output_type": "execute_result"
    }
   ],
   "source": [
    "best_params = random_search.best_params_\n",
    "best_params"
   ]
  },
  {
   "cell_type": "markdown",
   "metadata": {
    "tags": []
   },
   "source": [
    "The best hyperparameter found by random search is max_depth = 4, which is the same as what we found in question 8."
   ]
  },
  {
   "cell_type": "code",
   "execution_count": 56,
   "metadata": {
    "tags": []
   },
   "outputs": [
    {
     "name": "stdout",
     "output_type": "stream",
     "text": [
      "train data score:  0.8228095238095238\n"
     ]
    }
   ],
   "source": [
    "best_decision_tree = DecisionTreeClassifier(max_depth = 4)\n",
    "best_decision_tree.fit(X_train_transformed, y_train)\n",
    "print('train data score: ', best_decision_tree.score(X_train_transformed, y_train))"
   ]
  },
  {
   "cell_type": "markdown",
   "metadata": {
    "tags": []
   },
   "source": [
    "**KNN**"
   ]
  },
  {
   "cell_type": "code",
   "execution_count": 57,
   "metadata": {
    "tags": []
   },
   "outputs": [
    {
     "data": {
      "text/html": [
       "<div>\n",
       "<style scoped>\n",
       "    .dataframe tbody tr th:only-of-type {\n",
       "        vertical-align: middle;\n",
       "    }\n",
       "\n",
       "    .dataframe tbody tr th {\n",
       "        vertical-align: top;\n",
       "    }\n",
       "\n",
       "    .dataframe thead th {\n",
       "        text-align: right;\n",
       "    }\n",
       "</style>\n",
       "<table border=\"1\" class=\"dataframe\">\n",
       "  <thead>\n",
       "    <tr style=\"text-align: right;\">\n",
       "      <th>rank_test_score</th>\n",
       "      <th>1</th>\n",
       "      <th>2</th>\n",
       "      <th>3</th>\n",
       "      <th>4</th>\n",
       "      <th>5</th>\n",
       "      <th>5</th>\n",
       "      <th>7</th>\n",
       "      <th>8</th>\n",
       "      <th>9</th>\n",
       "      <th>10</th>\n",
       "    </tr>\n",
       "  </thead>\n",
       "  <tbody>\n",
       "    <tr>\n",
       "      <th>mean_fit_time</th>\n",
       "      <td>0.007668</td>\n",
       "      <td>0.006615</td>\n",
       "      <td>0.007613</td>\n",
       "      <td>0.006899</td>\n",
       "      <td>0.009405</td>\n",
       "      <td>0.011291</td>\n",
       "      <td>0.011277</td>\n",
       "      <td>0.006359</td>\n",
       "      <td>0.008319</td>\n",
       "      <td>0.008425</td>\n",
       "    </tr>\n",
       "    <tr>\n",
       "      <th>std_fit_time</th>\n",
       "      <td>0.000378</td>\n",
       "      <td>0.000979</td>\n",
       "      <td>0.001031</td>\n",
       "      <td>0.001013</td>\n",
       "      <td>0.003384</td>\n",
       "      <td>0.006014</td>\n",
       "      <td>0.00572</td>\n",
       "      <td>0.000508</td>\n",
       "      <td>0.000576</td>\n",
       "      <td>0.000813</td>\n",
       "    </tr>\n",
       "    <tr>\n",
       "      <th>mean_score_time</th>\n",
       "      <td>0.705366</td>\n",
       "      <td>0.759309</td>\n",
       "      <td>0.761995</td>\n",
       "      <td>0.782528</td>\n",
       "      <td>0.759493</td>\n",
       "      <td>0.796337</td>\n",
       "      <td>0.753966</td>\n",
       "      <td>0.846101</td>\n",
       "      <td>0.97042</td>\n",
       "      <td>0.964156</td>\n",
       "    </tr>\n",
       "    <tr>\n",
       "      <th>std_score_time</th>\n",
       "      <td>0.093423</td>\n",
       "      <td>0.033088</td>\n",
       "      <td>0.024773</td>\n",
       "      <td>0.021112</td>\n",
       "      <td>0.014637</td>\n",
       "      <td>0.012504</td>\n",
       "      <td>0.026336</td>\n",
       "      <td>0.127638</td>\n",
       "      <td>0.021572</td>\n",
       "      <td>0.019073</td>\n",
       "    </tr>\n",
       "    <tr>\n",
       "      <th>param_n_neighbors</th>\n",
       "      <td>46</td>\n",
       "      <td>36</td>\n",
       "      <td>16</td>\n",
       "      <td>41</td>\n",
       "      <td>21</td>\n",
       "      <td>31</td>\n",
       "      <td>26</td>\n",
       "      <td>11</td>\n",
       "      <td>6</td>\n",
       "      <td>1</td>\n",
       "    </tr>\n",
       "    <tr>\n",
       "      <th>params</th>\n",
       "      <td>{'n_neighbors': 46}</td>\n",
       "      <td>{'n_neighbors': 36}</td>\n",
       "      <td>{'n_neighbors': 16}</td>\n",
       "      <td>{'n_neighbors': 41}</td>\n",
       "      <td>{'n_neighbors': 21}</td>\n",
       "      <td>{'n_neighbors': 31}</td>\n",
       "      <td>{'n_neighbors': 26}</td>\n",
       "      <td>{'n_neighbors': 11}</td>\n",
       "      <td>{'n_neighbors': 6}</td>\n",
       "      <td>{'n_neighbors': 1}</td>\n",
       "    </tr>\n",
       "    <tr>\n",
       "      <th>split0_test_score</th>\n",
       "      <td>0.80619</td>\n",
       "      <td>0.807857</td>\n",
       "      <td>0.81</td>\n",
       "      <td>0.806429</td>\n",
       "      <td>0.807143</td>\n",
       "      <td>0.805952</td>\n",
       "      <td>0.807619</td>\n",
       "      <td>0.804762</td>\n",
       "      <td>0.802619</td>\n",
       "      <td>0.73119</td>\n",
       "    </tr>\n",
       "    <tr>\n",
       "      <th>split1_test_score</th>\n",
       "      <td>0.81</td>\n",
       "      <td>0.81119</td>\n",
       "      <td>0.808571</td>\n",
       "      <td>0.81119</td>\n",
       "      <td>0.810238</td>\n",
       "      <td>0.811429</td>\n",
       "      <td>0.812381</td>\n",
       "      <td>0.811429</td>\n",
       "      <td>0.802619</td>\n",
       "      <td>0.725</td>\n",
       "    </tr>\n",
       "    <tr>\n",
       "      <th>split2_test_score</th>\n",
       "      <td>0.816667</td>\n",
       "      <td>0.816429</td>\n",
       "      <td>0.81619</td>\n",
       "      <td>0.815952</td>\n",
       "      <td>0.814762</td>\n",
       "      <td>0.814762</td>\n",
       "      <td>0.813095</td>\n",
       "      <td>0.813333</td>\n",
       "      <td>0.807857</td>\n",
       "      <td>0.730476</td>\n",
       "    </tr>\n",
       "    <tr>\n",
       "      <th>split3_test_score</th>\n",
       "      <td>0.817619</td>\n",
       "      <td>0.815238</td>\n",
       "      <td>0.815238</td>\n",
       "      <td>0.814286</td>\n",
       "      <td>0.816429</td>\n",
       "      <td>0.814762</td>\n",
       "      <td>0.812857</td>\n",
       "      <td>0.82119</td>\n",
       "      <td>0.804524</td>\n",
       "      <td>0.723333</td>\n",
       "    </tr>\n",
       "    <tr>\n",
       "      <th>split4_test_score</th>\n",
       "      <td>0.812619</td>\n",
       "      <td>0.810952</td>\n",
       "      <td>0.811429</td>\n",
       "      <td>0.812857</td>\n",
       "      <td>0.810238</td>\n",
       "      <td>0.811905</td>\n",
       "      <td>0.810952</td>\n",
       "      <td>0.801667</td>\n",
       "      <td>0.802857</td>\n",
       "      <td>0.727381</td>\n",
       "    </tr>\n",
       "    <tr>\n",
       "      <th>mean_test_score</th>\n",
       "      <td>0.812619</td>\n",
       "      <td>0.812333</td>\n",
       "      <td>0.812286</td>\n",
       "      <td>0.812143</td>\n",
       "      <td>0.811762</td>\n",
       "      <td>0.811762</td>\n",
       "      <td>0.811381</td>\n",
       "      <td>0.810476</td>\n",
       "      <td>0.804095</td>\n",
       "      <td>0.727476</td>\n",
       "    </tr>\n",
       "    <tr>\n",
       "      <th>std_test_score</th>\n",
       "      <td>0.004232</td>\n",
       "      <td>0.003113</td>\n",
       "      <td>0.002957</td>\n",
       "      <td>0.003261</td>\n",
       "      <td>0.003369</td>\n",
       "      <td>0.003221</td>\n",
       "      <td>0.002023</td>\n",
       "      <td>0.006843</td>\n",
       "      <td>0.002011</td>\n",
       "      <td>0.003036</td>\n",
       "    </tr>\n",
       "  </tbody>\n",
       "</table>\n",
       "</div>"
      ],
      "text/plain": [
       "rank_test_score                     1                    2   \\\n",
       "mean_fit_time                 0.007668             0.006615   \n",
       "std_fit_time                  0.000378             0.000979   \n",
       "mean_score_time               0.705366             0.759309   \n",
       "std_score_time                0.093423             0.033088   \n",
       "param_n_neighbors                   46                   36   \n",
       "params             {'n_neighbors': 46}  {'n_neighbors': 36}   \n",
       "split0_test_score              0.80619             0.807857   \n",
       "split1_test_score                 0.81              0.81119   \n",
       "split2_test_score             0.816667             0.816429   \n",
       "split3_test_score             0.817619             0.815238   \n",
       "split4_test_score             0.812619             0.810952   \n",
       "mean_test_score               0.812619             0.812333   \n",
       "std_test_score                0.004232             0.003113   \n",
       "\n",
       "rank_test_score                     3                    4   \\\n",
       "mean_fit_time                 0.007613             0.006899   \n",
       "std_fit_time                  0.001031             0.001013   \n",
       "mean_score_time               0.761995             0.782528   \n",
       "std_score_time                0.024773             0.021112   \n",
       "param_n_neighbors                   16                   41   \n",
       "params             {'n_neighbors': 16}  {'n_neighbors': 41}   \n",
       "split0_test_score                 0.81             0.806429   \n",
       "split1_test_score             0.808571              0.81119   \n",
       "split2_test_score              0.81619             0.815952   \n",
       "split3_test_score             0.815238             0.814286   \n",
       "split4_test_score             0.811429             0.812857   \n",
       "mean_test_score               0.812286             0.812143   \n",
       "std_test_score                0.002957             0.003261   \n",
       "\n",
       "rank_test_score                     5                    5   \\\n",
       "mean_fit_time                 0.009405             0.011291   \n",
       "std_fit_time                  0.003384             0.006014   \n",
       "mean_score_time               0.759493             0.796337   \n",
       "std_score_time                0.014637             0.012504   \n",
       "param_n_neighbors                   21                   31   \n",
       "params             {'n_neighbors': 21}  {'n_neighbors': 31}   \n",
       "split0_test_score             0.807143             0.805952   \n",
       "split1_test_score             0.810238             0.811429   \n",
       "split2_test_score             0.814762             0.814762   \n",
       "split3_test_score             0.816429             0.814762   \n",
       "split4_test_score             0.810238             0.811905   \n",
       "mean_test_score               0.811762             0.811762   \n",
       "std_test_score                0.003369             0.003221   \n",
       "\n",
       "rank_test_score                     7                    8   \\\n",
       "mean_fit_time                 0.011277             0.006359   \n",
       "std_fit_time                   0.00572             0.000508   \n",
       "mean_score_time               0.753966             0.846101   \n",
       "std_score_time                0.026336             0.127638   \n",
       "param_n_neighbors                   26                   11   \n",
       "params             {'n_neighbors': 26}  {'n_neighbors': 11}   \n",
       "split0_test_score             0.807619             0.804762   \n",
       "split1_test_score             0.812381             0.811429   \n",
       "split2_test_score             0.813095             0.813333   \n",
       "split3_test_score             0.812857              0.82119   \n",
       "split4_test_score             0.810952             0.801667   \n",
       "mean_test_score               0.811381             0.810476   \n",
       "std_test_score                0.002023             0.006843   \n",
       "\n",
       "rank_test_score                    9                   10  \n",
       "mean_fit_time                0.008319            0.008425  \n",
       "std_fit_time                 0.000576            0.000813  \n",
       "mean_score_time               0.97042            0.964156  \n",
       "std_score_time               0.021572            0.019073  \n",
       "param_n_neighbors                   6                   1  \n",
       "params             {'n_neighbors': 6}  {'n_neighbors': 1}  \n",
       "split0_test_score            0.802619             0.73119  \n",
       "split1_test_score            0.802619               0.725  \n",
       "split2_test_score            0.807857            0.730476  \n",
       "split3_test_score            0.804524            0.723333  \n",
       "split4_test_score            0.802857            0.727381  \n",
       "mean_test_score              0.804095            0.727476  \n",
       "std_test_score               0.002011            0.003036  "
      ]
     },
     "execution_count": 57,
     "metadata": {},
     "output_type": "execute_result"
    }
   ],
   "source": [
    "knn = KNeighborsClassifier()\n",
    "param_grid = {\"n_neighbors\": np.arange(1, 50, 5)}\n",
    "\n",
    "random_search = RandomizedSearchCV(\n",
    "    knn, param_grid, n_jobs = -1, n_iter = 10, random_state = 123, \n",
    ")\n",
    "\n",
    "random_search.fit(X_train_transformed, y_train)\n",
    "pd.DataFrame(random_search.cv_results_).set_index('rank_test_score').sort_index().T"
   ]
  },
  {
   "cell_type": "code",
   "execution_count": 58,
   "metadata": {
    "tags": []
   },
   "outputs": [
    {
     "data": {
      "text/html": [
       "<div>\n",
       "<style scoped>\n",
       "    .dataframe tbody tr th:only-of-type {\n",
       "        vertical-align: middle;\n",
       "    }\n",
       "\n",
       "    .dataframe tbody tr th {\n",
       "        vertical-align: top;\n",
       "    }\n",
       "\n",
       "    .dataframe thead th {\n",
       "        text-align: right;\n",
       "    }\n",
       "</style>\n",
       "<table border=\"1\" class=\"dataframe\">\n",
       "  <thead>\n",
       "    <tr style=\"text-align: right;\">\n",
       "      <th>rank_test_score</th>\n",
       "      <th>1</th>\n",
       "      <th>2</th>\n",
       "      <th>3</th>\n",
       "      <th>4</th>\n",
       "      <th>5</th>\n",
       "      <th>5</th>\n",
       "      <th>7</th>\n",
       "      <th>8</th>\n",
       "      <th>9</th>\n",
       "      <th>10</th>\n",
       "    </tr>\n",
       "  </thead>\n",
       "  <tbody>\n",
       "    <tr>\n",
       "      <th>mean_test_score</th>\n",
       "      <td>0.812619</td>\n",
       "      <td>0.812333</td>\n",
       "      <td>0.812286</td>\n",
       "      <td>0.812143</td>\n",
       "      <td>0.811762</td>\n",
       "      <td>0.811762</td>\n",
       "      <td>0.811381</td>\n",
       "      <td>0.810476</td>\n",
       "      <td>0.804095</td>\n",
       "      <td>0.727476</td>\n",
       "    </tr>\n",
       "    <tr>\n",
       "      <th>param_n_neighbors</th>\n",
       "      <td>46</td>\n",
       "      <td>36</td>\n",
       "      <td>16</td>\n",
       "      <td>41</td>\n",
       "      <td>21</td>\n",
       "      <td>31</td>\n",
       "      <td>26</td>\n",
       "      <td>11</td>\n",
       "      <td>6</td>\n",
       "      <td>1</td>\n",
       "    </tr>\n",
       "    <tr>\n",
       "      <th>mean_fit_time</th>\n",
       "      <td>0.007668</td>\n",
       "      <td>0.006615</td>\n",
       "      <td>0.007613</td>\n",
       "      <td>0.006899</td>\n",
       "      <td>0.009405</td>\n",
       "      <td>0.011291</td>\n",
       "      <td>0.011277</td>\n",
       "      <td>0.006359</td>\n",
       "      <td>0.008319</td>\n",
       "      <td>0.008425</td>\n",
       "    </tr>\n",
       "    <tr>\n",
       "      <th>std_test_score</th>\n",
       "      <td>0.004232</td>\n",
       "      <td>0.003113</td>\n",
       "      <td>0.002957</td>\n",
       "      <td>0.003261</td>\n",
       "      <td>0.003369</td>\n",
       "      <td>0.003221</td>\n",
       "      <td>0.002023</td>\n",
       "      <td>0.006843</td>\n",
       "      <td>0.002011</td>\n",
       "      <td>0.003036</td>\n",
       "    </tr>\n",
       "  </tbody>\n",
       "</table>\n",
       "</div>"
      ],
      "text/plain": [
       "rank_test_score          1         2         3         4         5         5   \\\n",
       "mean_test_score    0.812619  0.812333  0.812286  0.812143  0.811762  0.811762   \n",
       "param_n_neighbors        46        36        16        41        21        31   \n",
       "mean_fit_time      0.007668  0.006615  0.007613  0.006899  0.009405  0.011291   \n",
       "std_test_score     0.004232  0.003113  0.002957  0.003261  0.003369  0.003221   \n",
       "\n",
       "rank_test_score          7         8         9         10  \n",
       "mean_test_score    0.811381  0.810476  0.804095  0.727476  \n",
       "param_n_neighbors        26        11         6         1  \n",
       "mean_fit_time      0.011277  0.006359  0.008319  0.008425  \n",
       "std_test_score     0.002023  0.006843  0.002011  0.003036  "
      ]
     },
     "execution_count": 58,
     "metadata": {},
     "output_type": "execute_result"
    }
   ],
   "source": [
    "relevant = [\n",
    "    'mean_test_score',\n",
    "    'param_n_neighbors',\n",
    "    'mean_fit_time',\n",
    "    'rank_test_score',\n",
    "    'std_test_score',\n",
    "]\n",
    "pd.DataFrame(random_search.cv_results_)[relevant].set_index('rank_test_score').sort_index().T"
   ]
  },
  {
   "cell_type": "code",
   "execution_count": 59,
   "metadata": {
    "tags": []
   },
   "outputs": [
    {
     "data": {
      "text/plain": [
       "{'n_neighbors': 46}"
      ]
     },
     "execution_count": 59,
     "metadata": {},
     "output_type": "execute_result"
    }
   ],
   "source": [
    "best_params = random_search.best_params_\n",
    "best_params"
   ]
  },
  {
   "cell_type": "markdown",
   "metadata": {},
   "source": [
    "The optimized hyperparameter for KNN is n_neighbors = 46, which is not the same as what we found in question 8. Retrain the model with the optimized hyperparameter."
   ]
  },
  {
   "cell_type": "code",
   "execution_count": 60,
   "metadata": {
    "tags": []
   },
   "outputs": [
    {
     "name": "stdout",
     "output_type": "stream",
     "text": [
      "train data score:  0.8166666666666667\n"
     ]
    }
   ],
   "source": [
    "best_knn = KNeighborsClassifier(n_neighbors = 46)\n",
    "best_knn.fit(X_train_transformed, y_train)\n",
    "print('train data score: ', best_knn.score(X_train_transformed, y_train))"
   ]
  },
  {
   "cell_type": "markdown",
   "metadata": {},
   "source": [
    "**Random Forest**"
   ]
  },
  {
   "cell_type": "markdown",
   "metadata": {},
   "source": [
    "Random forest does not require heavy hyperparameter tuning, so we kept default setting in question 8, now we will optimize hyperparameter."
   ]
  },
  {
   "cell_type": "code",
   "execution_count": 61,
   "metadata": {
    "tags": []
   },
   "outputs": [
    {
     "data": {
      "text/html": [
       "<div>\n",
       "<style scoped>\n",
       "    .dataframe tbody tr th:only-of-type {\n",
       "        vertical-align: middle;\n",
       "    }\n",
       "\n",
       "    .dataframe tbody tr th {\n",
       "        vertical-align: top;\n",
       "    }\n",
       "\n",
       "    .dataframe thead th {\n",
       "        text-align: right;\n",
       "    }\n",
       "</style>\n",
       "<table border=\"1\" class=\"dataframe\">\n",
       "  <thead>\n",
       "    <tr style=\"text-align: right;\">\n",
       "      <th>rank_test_score</th>\n",
       "      <th>1</th>\n",
       "      <th>2</th>\n",
       "      <th>3</th>\n",
       "      <th>4</th>\n",
       "      <th>5</th>\n",
       "      <th>6</th>\n",
       "      <th>7</th>\n",
       "      <th>8</th>\n",
       "      <th>9</th>\n",
       "      <th>10</th>\n",
       "    </tr>\n",
       "  </thead>\n",
       "  <tbody>\n",
       "    <tr>\n",
       "      <th>mean_fit_time</th>\n",
       "      <td>5.192032</td>\n",
       "      <td>11.927773</td>\n",
       "      <td>3.473707</td>\n",
       "      <td>7.257019</td>\n",
       "      <td>7.708828</td>\n",
       "      <td>2.308558</td>\n",
       "      <td>3.837192</td>\n",
       "      <td>3.689826</td>\n",
       "      <td>5.776224</td>\n",
       "      <td>2.410136</td>\n",
       "    </tr>\n",
       "    <tr>\n",
       "      <th>std_fit_time</th>\n",
       "      <td>0.700869</td>\n",
       "      <td>1.53622</td>\n",
       "      <td>0.779566</td>\n",
       "      <td>1.57899</td>\n",
       "      <td>0.238794</td>\n",
       "      <td>0.0912</td>\n",
       "      <td>0.395748</td>\n",
       "      <td>0.892159</td>\n",
       "      <td>0.765841</td>\n",
       "      <td>0.09288</td>\n",
       "    </tr>\n",
       "    <tr>\n",
       "      <th>mean_score_time</th>\n",
       "      <td>0.549218</td>\n",
       "      <td>2.510783</td>\n",
       "      <td>2.104064</td>\n",
       "      <td>2.068363</td>\n",
       "      <td>1.279576</td>\n",
       "      <td>1.555616</td>\n",
       "      <td>3.311296</td>\n",
       "      <td>1.943889</td>\n",
       "      <td>3.937608</td>\n",
       "      <td>1.683448</td>\n",
       "    </tr>\n",
       "    <tr>\n",
       "      <th>std_score_time</th>\n",
       "      <td>0.56783</td>\n",
       "      <td>0.794981</td>\n",
       "      <td>1.195304</td>\n",
       "      <td>0.197677</td>\n",
       "      <td>0.849421</td>\n",
       "      <td>0.378182</td>\n",
       "      <td>0.836075</td>\n",
       "      <td>0.617245</td>\n",
       "      <td>0.69572</td>\n",
       "      <td>0.357697</td>\n",
       "    </tr>\n",
       "    <tr>\n",
       "      <th>param_n_estimators</th>\n",
       "      <td>21</td>\n",
       "      <td>86</td>\n",
       "      <td>51</td>\n",
       "      <td>76</td>\n",
       "      <td>66</td>\n",
       "      <td>31</td>\n",
       "      <td>36</td>\n",
       "      <td>26</td>\n",
       "      <td>16</td>\n",
       "      <td>81</td>\n",
       "    </tr>\n",
       "    <tr>\n",
       "      <th>param_max_features</th>\n",
       "      <td>20</td>\n",
       "      <td>21</td>\n",
       "      <td>7</td>\n",
       "      <td>12</td>\n",
       "      <td>16</td>\n",
       "      <td>9</td>\n",
       "      <td>15</td>\n",
       "      <td>17</td>\n",
       "      <td>15</td>\n",
       "      <td>5</td>\n",
       "    </tr>\n",
       "    <tr>\n",
       "      <th>param_max_depth</th>\n",
       "      <td>13</td>\n",
       "      <td>35</td>\n",
       "      <td>41</td>\n",
       "      <td>31</td>\n",
       "      <td>47</td>\n",
       "      <td>46</td>\n",
       "      <td>47</td>\n",
       "      <td>36</td>\n",
       "      <td>18</td>\n",
       "      <td>1</td>\n",
       "    </tr>\n",
       "    <tr>\n",
       "      <th>params</th>\n",
       "      <td>{'n_estimators': 21, 'max_features': 20, 'max_...</td>\n",
       "      <td>{'n_estimators': 86, 'max_features': 21, 'max_...</td>\n",
       "      <td>{'n_estimators': 51, 'max_features': 7, 'max_d...</td>\n",
       "      <td>{'n_estimators': 76, 'max_features': 12, 'max_...</td>\n",
       "      <td>{'n_estimators': 66, 'max_features': 16, 'max_...</td>\n",
       "      <td>{'n_estimators': 31, 'max_features': 9, 'max_d...</td>\n",
       "      <td>{'n_estimators': 36, 'max_features': 15, 'max_...</td>\n",
       "      <td>{'n_estimators': 26, 'max_features': 17, 'max_...</td>\n",
       "      <td>{'n_estimators': 16, 'max_features': 15, 'max_...</td>\n",
       "      <td>{'n_estimators': 81, 'max_features': 5, 'max_d...</td>\n",
       "    </tr>\n",
       "    <tr>\n",
       "      <th>split0_test_score</th>\n",
       "      <td>0.812143</td>\n",
       "      <td>0.807619</td>\n",
       "      <td>0.804524</td>\n",
       "      <td>0.808333</td>\n",
       "      <td>0.806667</td>\n",
       "      <td>0.805952</td>\n",
       "      <td>0.80381</td>\n",
       "      <td>0.807143</td>\n",
       "      <td>0.79881</td>\n",
       "      <td>0.797143</td>\n",
       "    </tr>\n",
       "    <tr>\n",
       "      <th>split1_test_score</th>\n",
       "      <td>0.812143</td>\n",
       "      <td>0.811905</td>\n",
       "      <td>0.815714</td>\n",
       "      <td>0.810952</td>\n",
       "      <td>0.81</td>\n",
       "      <td>0.809286</td>\n",
       "      <td>0.817143</td>\n",
       "      <td>0.808095</td>\n",
       "      <td>0.808571</td>\n",
       "      <td>0.79881</td>\n",
       "    </tr>\n",
       "    <tr>\n",
       "      <th>split2_test_score</th>\n",
       "      <td>0.818095</td>\n",
       "      <td>0.821429</td>\n",
       "      <td>0.816429</td>\n",
       "      <td>0.818571</td>\n",
       "      <td>0.81881</td>\n",
       "      <td>0.815238</td>\n",
       "      <td>0.811667</td>\n",
       "      <td>0.815714</td>\n",
       "      <td>0.817143</td>\n",
       "      <td>0.801429</td>\n",
       "    </tr>\n",
       "    <tr>\n",
       "      <th>split3_test_score</th>\n",
       "      <td>0.822381</td>\n",
       "      <td>0.818095</td>\n",
       "      <td>0.817619</td>\n",
       "      <td>0.818571</td>\n",
       "      <td>0.819286</td>\n",
       "      <td>0.816905</td>\n",
       "      <td>0.813333</td>\n",
       "      <td>0.81381</td>\n",
       "      <td>0.815476</td>\n",
       "      <td>0.799048</td>\n",
       "    </tr>\n",
       "    <tr>\n",
       "      <th>split4_test_score</th>\n",
       "      <td>0.816667</td>\n",
       "      <td>0.813571</td>\n",
       "      <td>0.815</td>\n",
       "      <td>0.812619</td>\n",
       "      <td>0.812143</td>\n",
       "      <td>0.812143</td>\n",
       "      <td>0.812143</td>\n",
       "      <td>0.811429</td>\n",
       "      <td>0.813571</td>\n",
       "      <td>0.791667</td>\n",
       "    </tr>\n",
       "    <tr>\n",
       "      <th>mean_test_score</th>\n",
       "      <td>0.816286</td>\n",
       "      <td>0.814524</td>\n",
       "      <td>0.813857</td>\n",
       "      <td>0.81381</td>\n",
       "      <td>0.813381</td>\n",
       "      <td>0.811905</td>\n",
       "      <td>0.811619</td>\n",
       "      <td>0.811238</td>\n",
       "      <td>0.810714</td>\n",
       "      <td>0.797619</td>\n",
       "    </tr>\n",
       "    <tr>\n",
       "      <th>std_test_score</th>\n",
       "      <td>0.00387</td>\n",
       "      <td>0.004814</td>\n",
       "      <td>0.004746</td>\n",
       "      <td>0.004121</td>\n",
       "      <td>0.004947</td>\n",
       "      <td>0.003961</td>\n",
       "      <td>0.004352</td>\n",
       "      <td>0.003266</td>\n",
       "      <td>0.00661</td>\n",
       "      <td>0.003275</td>\n",
       "    </tr>\n",
       "  </tbody>\n",
       "</table>\n",
       "</div>"
      ],
      "text/plain": [
       "rank_test_score                                                    1   \\\n",
       "mean_fit_time                                                5.192032   \n",
       "std_fit_time                                                 0.700869   \n",
       "mean_score_time                                              0.549218   \n",
       "std_score_time                                                0.56783   \n",
       "param_n_estimators                                                 21   \n",
       "param_max_features                                                 20   \n",
       "param_max_depth                                                    13   \n",
       "params              {'n_estimators': 21, 'max_features': 20, 'max_...   \n",
       "split0_test_score                                            0.812143   \n",
       "split1_test_score                                            0.812143   \n",
       "split2_test_score                                            0.818095   \n",
       "split3_test_score                                            0.822381   \n",
       "split4_test_score                                            0.816667   \n",
       "mean_test_score                                              0.816286   \n",
       "std_test_score                                                0.00387   \n",
       "\n",
       "rank_test_score                                                    2   \\\n",
       "mean_fit_time                                               11.927773   \n",
       "std_fit_time                                                  1.53622   \n",
       "mean_score_time                                              2.510783   \n",
       "std_score_time                                               0.794981   \n",
       "param_n_estimators                                                 86   \n",
       "param_max_features                                                 21   \n",
       "param_max_depth                                                    35   \n",
       "params              {'n_estimators': 86, 'max_features': 21, 'max_...   \n",
       "split0_test_score                                            0.807619   \n",
       "split1_test_score                                            0.811905   \n",
       "split2_test_score                                            0.821429   \n",
       "split3_test_score                                            0.818095   \n",
       "split4_test_score                                            0.813571   \n",
       "mean_test_score                                              0.814524   \n",
       "std_test_score                                               0.004814   \n",
       "\n",
       "rank_test_score                                                    3   \\\n",
       "mean_fit_time                                                3.473707   \n",
       "std_fit_time                                                 0.779566   \n",
       "mean_score_time                                              2.104064   \n",
       "std_score_time                                               1.195304   \n",
       "param_n_estimators                                                 51   \n",
       "param_max_features                                                  7   \n",
       "param_max_depth                                                    41   \n",
       "params              {'n_estimators': 51, 'max_features': 7, 'max_d...   \n",
       "split0_test_score                                            0.804524   \n",
       "split1_test_score                                            0.815714   \n",
       "split2_test_score                                            0.816429   \n",
       "split3_test_score                                            0.817619   \n",
       "split4_test_score                                               0.815   \n",
       "mean_test_score                                              0.813857   \n",
       "std_test_score                                               0.004746   \n",
       "\n",
       "rank_test_score                                                    4   \\\n",
       "mean_fit_time                                                7.257019   \n",
       "std_fit_time                                                  1.57899   \n",
       "mean_score_time                                              2.068363   \n",
       "std_score_time                                               0.197677   \n",
       "param_n_estimators                                                 76   \n",
       "param_max_features                                                 12   \n",
       "param_max_depth                                                    31   \n",
       "params              {'n_estimators': 76, 'max_features': 12, 'max_...   \n",
       "split0_test_score                                            0.808333   \n",
       "split1_test_score                                            0.810952   \n",
       "split2_test_score                                            0.818571   \n",
       "split3_test_score                                            0.818571   \n",
       "split4_test_score                                            0.812619   \n",
       "mean_test_score                                               0.81381   \n",
       "std_test_score                                               0.004121   \n",
       "\n",
       "rank_test_score                                                    5   \\\n",
       "mean_fit_time                                                7.708828   \n",
       "std_fit_time                                                 0.238794   \n",
       "mean_score_time                                              1.279576   \n",
       "std_score_time                                               0.849421   \n",
       "param_n_estimators                                                 66   \n",
       "param_max_features                                                 16   \n",
       "param_max_depth                                                    47   \n",
       "params              {'n_estimators': 66, 'max_features': 16, 'max_...   \n",
       "split0_test_score                                            0.806667   \n",
       "split1_test_score                                                0.81   \n",
       "split2_test_score                                             0.81881   \n",
       "split3_test_score                                            0.819286   \n",
       "split4_test_score                                            0.812143   \n",
       "mean_test_score                                              0.813381   \n",
       "std_test_score                                               0.004947   \n",
       "\n",
       "rank_test_score                                                    6   \\\n",
       "mean_fit_time                                                2.308558   \n",
       "std_fit_time                                                   0.0912   \n",
       "mean_score_time                                              1.555616   \n",
       "std_score_time                                               0.378182   \n",
       "param_n_estimators                                                 31   \n",
       "param_max_features                                                  9   \n",
       "param_max_depth                                                    46   \n",
       "params              {'n_estimators': 31, 'max_features': 9, 'max_d...   \n",
       "split0_test_score                                            0.805952   \n",
       "split1_test_score                                            0.809286   \n",
       "split2_test_score                                            0.815238   \n",
       "split3_test_score                                            0.816905   \n",
       "split4_test_score                                            0.812143   \n",
       "mean_test_score                                              0.811905   \n",
       "std_test_score                                               0.003961   \n",
       "\n",
       "rank_test_score                                                    7   \\\n",
       "mean_fit_time                                                3.837192   \n",
       "std_fit_time                                                 0.395748   \n",
       "mean_score_time                                              3.311296   \n",
       "std_score_time                                               0.836075   \n",
       "param_n_estimators                                                 36   \n",
       "param_max_features                                                 15   \n",
       "param_max_depth                                                    47   \n",
       "params              {'n_estimators': 36, 'max_features': 15, 'max_...   \n",
       "split0_test_score                                             0.80381   \n",
       "split1_test_score                                            0.817143   \n",
       "split2_test_score                                            0.811667   \n",
       "split3_test_score                                            0.813333   \n",
       "split4_test_score                                            0.812143   \n",
       "mean_test_score                                              0.811619   \n",
       "std_test_score                                               0.004352   \n",
       "\n",
       "rank_test_score                                                    8   \\\n",
       "mean_fit_time                                                3.689826   \n",
       "std_fit_time                                                 0.892159   \n",
       "mean_score_time                                              1.943889   \n",
       "std_score_time                                               0.617245   \n",
       "param_n_estimators                                                 26   \n",
       "param_max_features                                                 17   \n",
       "param_max_depth                                                    36   \n",
       "params              {'n_estimators': 26, 'max_features': 17, 'max_...   \n",
       "split0_test_score                                            0.807143   \n",
       "split1_test_score                                            0.808095   \n",
       "split2_test_score                                            0.815714   \n",
       "split3_test_score                                             0.81381   \n",
       "split4_test_score                                            0.811429   \n",
       "mean_test_score                                              0.811238   \n",
       "std_test_score                                               0.003266   \n",
       "\n",
       "rank_test_score                                                    9   \\\n",
       "mean_fit_time                                                5.776224   \n",
       "std_fit_time                                                 0.765841   \n",
       "mean_score_time                                              3.937608   \n",
       "std_score_time                                                0.69572   \n",
       "param_n_estimators                                                 16   \n",
       "param_max_features                                                 15   \n",
       "param_max_depth                                                    18   \n",
       "params              {'n_estimators': 16, 'max_features': 15, 'max_...   \n",
       "split0_test_score                                             0.79881   \n",
       "split1_test_score                                            0.808571   \n",
       "split2_test_score                                            0.817143   \n",
       "split3_test_score                                            0.815476   \n",
       "split4_test_score                                            0.813571   \n",
       "mean_test_score                                              0.810714   \n",
       "std_test_score                                                0.00661   \n",
       "\n",
       "rank_test_score                                                    10  \n",
       "mean_fit_time                                                2.410136  \n",
       "std_fit_time                                                  0.09288  \n",
       "mean_score_time                                              1.683448  \n",
       "std_score_time                                               0.357697  \n",
       "param_n_estimators                                                 81  \n",
       "param_max_features                                                  5  \n",
       "param_max_depth                                                     1  \n",
       "params              {'n_estimators': 81, 'max_features': 5, 'max_d...  \n",
       "split0_test_score                                            0.797143  \n",
       "split1_test_score                                             0.79881  \n",
       "split2_test_score                                            0.801429  \n",
       "split3_test_score                                            0.799048  \n",
       "split4_test_score                                            0.791667  \n",
       "mean_test_score                                              0.797619  \n",
       "std_test_score                                               0.003275  "
      ]
     },
     "execution_count": 61,
     "metadata": {},
     "output_type": "execute_result"
    }
   ],
   "source": [
    "rf = RandomForestClassifier(random_state = 123, n_jobs = -1)\n",
    "param_grid = {\n",
    "    \"n_estimators\": np.arange(1, 100, 5),\n",
    "    \"max_depth\": np.arange(1, 50),\n",
    "    \"max_features\": np.arange(1, 23),\n",
    "}\n",
    "\n",
    "random_search = RandomizedSearchCV(\n",
    "    rf, param_grid, n_jobs = -1, n_iter = 10, random_state = 123, \n",
    ")\n",
    "\n",
    "random_search.fit(X_train_transformed, y_train)\n",
    "pd.DataFrame(random_search.cv_results_).set_index('rank_test_score').sort_index().T"
   ]
  },
  {
   "cell_type": "code",
   "execution_count": 62,
   "metadata": {
    "tags": []
   },
   "outputs": [
    {
     "data": {
      "text/html": [
       "<div>\n",
       "<style scoped>\n",
       "    .dataframe tbody tr th:only-of-type {\n",
       "        vertical-align: middle;\n",
       "    }\n",
       "\n",
       "    .dataframe tbody tr th {\n",
       "        vertical-align: top;\n",
       "    }\n",
       "\n",
       "    .dataframe thead th {\n",
       "        text-align: right;\n",
       "    }\n",
       "</style>\n",
       "<table border=\"1\" class=\"dataframe\">\n",
       "  <thead>\n",
       "    <tr style=\"text-align: right;\">\n",
       "      <th>rank_test_score</th>\n",
       "      <th>1</th>\n",
       "      <th>2</th>\n",
       "      <th>3</th>\n",
       "      <th>4</th>\n",
       "      <th>5</th>\n",
       "      <th>6</th>\n",
       "      <th>7</th>\n",
       "      <th>8</th>\n",
       "      <th>9</th>\n",
       "      <th>10</th>\n",
       "    </tr>\n",
       "  </thead>\n",
       "  <tbody>\n",
       "    <tr>\n",
       "      <th>mean_test_score</th>\n",
       "      <td>0.816286</td>\n",
       "      <td>0.814524</td>\n",
       "      <td>0.813857</td>\n",
       "      <td>0.81381</td>\n",
       "      <td>0.813381</td>\n",
       "      <td>0.811905</td>\n",
       "      <td>0.811619</td>\n",
       "      <td>0.811238</td>\n",
       "      <td>0.810714</td>\n",
       "      <td>0.797619</td>\n",
       "    </tr>\n",
       "    <tr>\n",
       "      <th>param_n_estimators</th>\n",
       "      <td>21</td>\n",
       "      <td>86</td>\n",
       "      <td>51</td>\n",
       "      <td>76</td>\n",
       "      <td>66</td>\n",
       "      <td>31</td>\n",
       "      <td>36</td>\n",
       "      <td>26</td>\n",
       "      <td>16</td>\n",
       "      <td>81</td>\n",
       "    </tr>\n",
       "    <tr>\n",
       "      <th>param_max_depth</th>\n",
       "      <td>13</td>\n",
       "      <td>35</td>\n",
       "      <td>41</td>\n",
       "      <td>31</td>\n",
       "      <td>47</td>\n",
       "      <td>46</td>\n",
       "      <td>47</td>\n",
       "      <td>36</td>\n",
       "      <td>18</td>\n",
       "      <td>1</td>\n",
       "    </tr>\n",
       "    <tr>\n",
       "      <th>param_max_features</th>\n",
       "      <td>20</td>\n",
       "      <td>21</td>\n",
       "      <td>7</td>\n",
       "      <td>12</td>\n",
       "      <td>16</td>\n",
       "      <td>9</td>\n",
       "      <td>15</td>\n",
       "      <td>17</td>\n",
       "      <td>15</td>\n",
       "      <td>5</td>\n",
       "    </tr>\n",
       "    <tr>\n",
       "      <th>mean_fit_time</th>\n",
       "      <td>5.192032</td>\n",
       "      <td>11.927773</td>\n",
       "      <td>3.473707</td>\n",
       "      <td>7.257019</td>\n",
       "      <td>7.708828</td>\n",
       "      <td>2.308558</td>\n",
       "      <td>3.837192</td>\n",
       "      <td>3.689826</td>\n",
       "      <td>5.776224</td>\n",
       "      <td>2.410136</td>\n",
       "    </tr>\n",
       "    <tr>\n",
       "      <th>std_test_score</th>\n",
       "      <td>0.00387</td>\n",
       "      <td>0.004814</td>\n",
       "      <td>0.004746</td>\n",
       "      <td>0.004121</td>\n",
       "      <td>0.004947</td>\n",
       "      <td>0.003961</td>\n",
       "      <td>0.004352</td>\n",
       "      <td>0.003266</td>\n",
       "      <td>0.00661</td>\n",
       "      <td>0.003275</td>\n",
       "    </tr>\n",
       "  </tbody>\n",
       "</table>\n",
       "</div>"
      ],
      "text/plain": [
       "rank_test_score           1          2         3         4         5   \\\n",
       "mean_test_score     0.816286   0.814524  0.813857   0.81381  0.813381   \n",
       "param_n_estimators        21         86        51        76        66   \n",
       "param_max_depth           13         35        41        31        47   \n",
       "param_max_features        20         21         7        12        16   \n",
       "mean_fit_time       5.192032  11.927773  3.473707  7.257019  7.708828   \n",
       "std_test_score       0.00387   0.004814  0.004746  0.004121  0.004947   \n",
       "\n",
       "rank_test_score           6         7         8         9         10  \n",
       "mean_test_score     0.811905  0.811619  0.811238  0.810714  0.797619  \n",
       "param_n_estimators        31        36        26        16        81  \n",
       "param_max_depth           46        47        36        18         1  \n",
       "param_max_features         9        15        17        15         5  \n",
       "mean_fit_time       2.308558  3.837192  3.689826  5.776224  2.410136  \n",
       "std_test_score      0.003961  0.004352  0.003266   0.00661  0.003275  "
      ]
     },
     "execution_count": 62,
     "metadata": {},
     "output_type": "execute_result"
    }
   ],
   "source": [
    "relevant = [\n",
    "    'mean_test_score',\n",
    "    'param_n_estimators',\n",
    "    'param_max_depth',\n",
    "    'param_max_features',\n",
    "    'mean_fit_time',\n",
    "    'rank_test_score',\n",
    "    'std_test_score',\n",
    "]\n",
    "pd.DataFrame(random_search.cv_results_)[relevant].set_index('rank_test_score').sort_index().T"
   ]
  },
  {
   "cell_type": "code",
   "execution_count": 63,
   "metadata": {
    "tags": []
   },
   "outputs": [
    {
     "data": {
      "text/plain": [
       "{'n_estimators': 21, 'max_features': 20, 'max_depth': 13}"
      ]
     },
     "execution_count": 63,
     "metadata": {},
     "output_type": "execute_result"
    }
   ],
   "source": [
    "best_params = random_search.best_params_\n",
    "best_params"
   ]
  },
  {
   "cell_type": "markdown",
   "metadata": {},
   "source": [
    "The best hyperparameter is at when n_estimators is 21, max_depth is 13, and max_features is 20,retrain the model."
   ]
  },
  {
   "cell_type": "code",
   "execution_count": 64,
   "metadata": {
    "tags": []
   },
   "outputs": [
    {
     "name": "stdout",
     "output_type": "stream",
     "text": [
      "train data score:  0.8905238095238095\n"
     ]
    }
   ],
   "source": [
    "best_rf = RandomForestClassifier(n_estimators = 21, max_depth = 13, max_features = 20, n_jobs = -1, random_state = 123)\n",
    "best_rf.fit(X_train_transformed, y_train)\n",
    "print('train data score: ', best_rf.score(X_train_transformed, y_train))"
   ]
  },
  {
   "cell_type": "markdown",
   "metadata": {},
   "source": []
  },
  {
   "cell_type": "markdown",
   "metadata": {},
   "source": [
    "<!-- END QUESTION -->\n",
    "\n",
    "<br><br>"
   ]
  },
  {
   "cell_type": "markdown",
   "metadata": {},
   "source": [
    "<!-- BEGIN QUESTION -->\n",
    "\n",
    "## 11. Interpretation and feature importances <a name=\"1\"></a>\n",
    "<hr>\n",
    "rubric={points:10}\n",
    "\n",
    "**Your tasks:**\n",
    "\n",
    "1. Use the methods we saw in class (e.g., `eli5`, `shap`) (or any other methods of your choice) to examine the most important features of one of the non-linear models. \n",
    "2. Summarize your observations. "
   ]
  },
  {
   "cell_type": "markdown",
   "metadata": {},
   "source": [
    "<div class=\"alert alert-warning\">\n",
    "    \n",
    "Solution_11\n",
    "    \n",
    "</div>"
   ]
  },
  {
   "cell_type": "markdown",
   "metadata": {},
   "source": [
    "We will use eli5 to examine the most important features of RandomForestClassifier() model."
   ]
  },
  {
   "cell_type": "code",
   "execution_count": 65,
   "metadata": {
    "tags": []
   },
   "outputs": [
    {
     "data": {
      "text/html": [
       "\n",
       "    <style>\n",
       "    table.eli5-weights tr:hover {\n",
       "        filter: brightness(85%);\n",
       "    }\n",
       "</style>\n",
       "\n",
       "\n",
       "\n",
       "    \n",
       "\n",
       "    \n",
       "\n",
       "    \n",
       "\n",
       "    \n",
       "\n",
       "    \n",
       "\n",
       "    \n",
       "\n",
       "\n",
       "    \n",
       "\n",
       "    \n",
       "\n",
       "    \n",
       "\n",
       "    \n",
       "\n",
       "    \n",
       "\n",
       "    \n",
       "\n",
       "\n",
       "    \n",
       "\n",
       "    \n",
       "\n",
       "    \n",
       "\n",
       "    \n",
       "\n",
       "    \n",
       "        <table class=\"eli5-weights eli5-feature-importances\" style=\"border-collapse: collapse; border: none; margin-top: 0em; table-layout: auto;\">\n",
       "    <thead>\n",
       "    <tr style=\"border: none;\">\n",
       "        <th style=\"padding: 0 1em 0 0.5em; text-align: right; border: none;\">Weight</th>\n",
       "        <th style=\"padding: 0 0.5em 0 0.5em; text-align: left; border: none;\">Feature</th>\n",
       "    </tr>\n",
       "    </thead>\n",
       "    <tbody>\n",
       "    \n",
       "        <tr style=\"background-color: hsl(120, 100.00%, 80.00%); border: none;\">\n",
       "            <td style=\"padding: 0 1em 0 0.5em; text-align: right; border: none;\">\n",
       "                0.2777\n",
       "                \n",
       "                    &plusmn; 0.1362\n",
       "                \n",
       "            </td>\n",
       "            <td style=\"padding: 0 0.5em 0 0.5em; text-align: left; border: none;\">\n",
       "                PAY_0\n",
       "            </td>\n",
       "        </tr>\n",
       "    \n",
       "        <tr style=\"background-color: hsl(120, 100.00%, 92.00%); border: none;\">\n",
       "            <td style=\"padding: 0 1em 0 0.5em; text-align: right; border: none;\">\n",
       "                0.0749\n",
       "                \n",
       "                    &plusmn; 0.1231\n",
       "                \n",
       "            </td>\n",
       "            <td style=\"padding: 0 0.5em 0 0.5em; text-align: left; border: none;\">\n",
       "                PAY_2\n",
       "            </td>\n",
       "        </tr>\n",
       "    \n",
       "        <tr style=\"background-color: hsl(120, 100.00%, 93.64%); border: none;\">\n",
       "            <td style=\"padding: 0 1em 0 0.5em; text-align: right; border: none;\">\n",
       "                0.0541\n",
       "                \n",
       "                    &plusmn; 0.0173\n",
       "                \n",
       "            </td>\n",
       "            <td style=\"padding: 0 0.5em 0 0.5em; text-align: left; border: none;\">\n",
       "                AGE\n",
       "            </td>\n",
       "        </tr>\n",
       "    \n",
       "        <tr style=\"background-color: hsl(120, 100.00%, 93.93%); border: none;\">\n",
       "            <td style=\"padding: 0 1em 0 0.5em; text-align: right; border: none;\">\n",
       "                0.0506\n",
       "                \n",
       "                    &plusmn; 0.0179\n",
       "                \n",
       "            </td>\n",
       "            <td style=\"padding: 0 0.5em 0 0.5em; text-align: left; border: none;\">\n",
       "                BILL_AMT1\n",
       "            </td>\n",
       "        </tr>\n",
       "    \n",
       "        <tr style=\"background-color: hsl(120, 100.00%, 94.45%); border: none;\">\n",
       "            <td style=\"padding: 0 1em 0 0.5em; text-align: right; border: none;\">\n",
       "                0.0445\n",
       "                \n",
       "                    &plusmn; 0.0185\n",
       "                \n",
       "            </td>\n",
       "            <td style=\"padding: 0 0.5em 0 0.5em; text-align: left; border: none;\">\n",
       "                PAY_AMT3\n",
       "            </td>\n",
       "        </tr>\n",
       "    \n",
       "        <tr style=\"background-color: hsl(120, 100.00%, 94.47%); border: none;\">\n",
       "            <td style=\"padding: 0 1em 0 0.5em; text-align: right; border: none;\">\n",
       "                0.0442\n",
       "                \n",
       "                    &plusmn; 0.0146\n",
       "                \n",
       "            </td>\n",
       "            <td style=\"padding: 0 0.5em 0 0.5em; text-align: left; border: none;\">\n",
       "                LIMIT_BAL\n",
       "            </td>\n",
       "        </tr>\n",
       "    \n",
       "        <tr style=\"background-color: hsl(120, 100.00%, 94.86%); border: none;\">\n",
       "            <td style=\"padding: 0 1em 0 0.5em; text-align: right; border: none;\">\n",
       "                0.0399\n",
       "                \n",
       "                    &plusmn; 0.0210\n",
       "                \n",
       "            </td>\n",
       "            <td style=\"padding: 0 0.5em 0 0.5em; text-align: left; border: none;\">\n",
       "                PAY_AMT2\n",
       "            </td>\n",
       "        </tr>\n",
       "    \n",
       "        <tr style=\"background-color: hsl(120, 100.00%, 94.96%); border: none;\">\n",
       "            <td style=\"padding: 0 1em 0 0.5em; text-align: right; border: none;\">\n",
       "                0.0388\n",
       "                \n",
       "                    &plusmn; 0.0133\n",
       "                \n",
       "            </td>\n",
       "            <td style=\"padding: 0 0.5em 0 0.5em; text-align: left; border: none;\">\n",
       "                PAY_AMT6\n",
       "            </td>\n",
       "        </tr>\n",
       "    \n",
       "        <tr style=\"background-color: hsl(120, 100.00%, 94.96%); border: none;\">\n",
       "            <td style=\"padding: 0 1em 0 0.5em; text-align: right; border: none;\">\n",
       "                0.0388\n",
       "                \n",
       "                    &plusmn; 0.0184\n",
       "                \n",
       "            </td>\n",
       "            <td style=\"padding: 0 0.5em 0 0.5em; text-align: left; border: none;\">\n",
       "                PAY_AMT1\n",
       "            </td>\n",
       "        </tr>\n",
       "    \n",
       "        <tr style=\"background-color: hsl(120, 100.00%, 94.96%); border: none;\">\n",
       "            <td style=\"padding: 0 1em 0 0.5em; text-align: right; border: none;\">\n",
       "                0.0387\n",
       "                \n",
       "                    &plusmn; 0.0122\n",
       "                \n",
       "            </td>\n",
       "            <td style=\"padding: 0 0.5em 0 0.5em; text-align: left; border: none;\">\n",
       "                PAY_AMT5\n",
       "            </td>\n",
       "        </tr>\n",
       "    \n",
       "        <tr style=\"background-color: hsl(120, 100.00%, 95.00%); border: none;\">\n",
       "            <td style=\"padding: 0 1em 0 0.5em; text-align: right; border: none;\">\n",
       "                0.0383\n",
       "                \n",
       "                    &plusmn; 0.0183\n",
       "                \n",
       "            </td>\n",
       "            <td style=\"padding: 0 0.5em 0 0.5em; text-align: left; border: none;\">\n",
       "                PAY_AMT4\n",
       "            </td>\n",
       "        </tr>\n",
       "    \n",
       "        <tr style=\"background-color: hsl(120, 100.00%, 95.16%); border: none;\">\n",
       "            <td style=\"padding: 0 1em 0 0.5em; text-align: right; border: none;\">\n",
       "                0.0365\n",
       "                \n",
       "                    &plusmn; 0.0152\n",
       "                \n",
       "            </td>\n",
       "            <td style=\"padding: 0 0.5em 0 0.5em; text-align: left; border: none;\">\n",
       "                BILL_AMT6\n",
       "            </td>\n",
       "        </tr>\n",
       "    \n",
       "        <tr style=\"background-color: hsl(120, 100.00%, 95.23%); border: none;\">\n",
       "            <td style=\"padding: 0 1em 0 0.5em; text-align: right; border: none;\">\n",
       "                0.0358\n",
       "                \n",
       "                    &plusmn; 0.0136\n",
       "                \n",
       "            </td>\n",
       "            <td style=\"padding: 0 0.5em 0 0.5em; text-align: left; border: none;\">\n",
       "                BILL_AMT2\n",
       "            </td>\n",
       "        </tr>\n",
       "    \n",
       "        <tr style=\"background-color: hsl(120, 100.00%, 95.53%); border: none;\">\n",
       "            <td style=\"padding: 0 1em 0 0.5em; text-align: right; border: none;\">\n",
       "                0.0327\n",
       "                \n",
       "                    &plusmn; 0.0131\n",
       "                \n",
       "            </td>\n",
       "            <td style=\"padding: 0 0.5em 0 0.5em; text-align: left; border: none;\">\n",
       "                BILL_AMT4\n",
       "            </td>\n",
       "        </tr>\n",
       "    \n",
       "        <tr style=\"background-color: hsl(120, 100.00%, 95.74%); border: none;\">\n",
       "            <td style=\"padding: 0 1em 0 0.5em; text-align: right; border: none;\">\n",
       "                0.0304\n",
       "                \n",
       "                    &plusmn; 0.0096\n",
       "                \n",
       "            </td>\n",
       "            <td style=\"padding: 0 0.5em 0 0.5em; text-align: left; border: none;\">\n",
       "                BILL_AMT3\n",
       "            </td>\n",
       "        </tr>\n",
       "    \n",
       "        <tr style=\"background-color: hsl(120, 100.00%, 95.77%); border: none;\">\n",
       "            <td style=\"padding: 0 1em 0 0.5em; text-align: right; border: none;\">\n",
       "                0.0302\n",
       "                \n",
       "                    &plusmn; 0.0136\n",
       "                \n",
       "            </td>\n",
       "            <td style=\"padding: 0 0.5em 0 0.5em; text-align: left; border: none;\">\n",
       "                BILL_AMT5\n",
       "            </td>\n",
       "        </tr>\n",
       "    \n",
       "        <tr style=\"background-color: hsl(120, 100.00%, 96.88%); border: none;\">\n",
       "            <td style=\"padding: 0 1em 0 0.5em; text-align: right; border: none;\">\n",
       "                0.0195\n",
       "                \n",
       "                    &plusmn; 0.0303\n",
       "                \n",
       "            </td>\n",
       "            <td style=\"padding: 0 0.5em 0 0.5em; text-align: left; border: none;\">\n",
       "                PAY_3\n",
       "            </td>\n",
       "        </tr>\n",
       "    \n",
       "        <tr style=\"background-color: hsl(120, 100.00%, 97.13%); border: none;\">\n",
       "            <td style=\"padding: 0 1em 0 0.5em; text-align: right; border: none;\">\n",
       "                0.0173\n",
       "                \n",
       "                    &plusmn; 0.0152\n",
       "                \n",
       "            </td>\n",
       "            <td style=\"padding: 0 0.5em 0 0.5em; text-align: left; border: none;\">\n",
       "                PAY_4\n",
       "            </td>\n",
       "        </tr>\n",
       "    \n",
       "        <tr style=\"background-color: hsl(120, 100.00%, 97.50%); border: none;\">\n",
       "            <td style=\"padding: 0 1em 0 0.5em; text-align: right; border: none;\">\n",
       "                0.0143\n",
       "                \n",
       "                    &plusmn; 0.0100\n",
       "                \n",
       "            </td>\n",
       "            <td style=\"padding: 0 0.5em 0 0.5em; text-align: left; border: none;\">\n",
       "                PAY_5\n",
       "            </td>\n",
       "        </tr>\n",
       "    \n",
       "        <tr style=\"background-color: hsl(120, 100.00%, 97.52%); border: none;\">\n",
       "            <td style=\"padding: 0 1em 0 0.5em; text-align: right; border: none;\">\n",
       "                0.0140\n",
       "                \n",
       "                    &plusmn; 0.0070\n",
       "                \n",
       "            </td>\n",
       "            <td style=\"padding: 0 0.5em 0 0.5em; text-align: left; border: none;\">\n",
       "                EDUCATION\n",
       "            </td>\n",
       "        </tr>\n",
       "    \n",
       "    \n",
       "        \n",
       "            <tr style=\"background-color: hsl(120, 100.00%, 97.52%); border: none;\">\n",
       "                <td colspan=\"2\" style=\"padding: 0 0.5em 0 0.5em; text-align: center; border: none; white-space: nowrap;\">\n",
       "                    <i>&hellip; 3 more &hellip;</i>\n",
       "                </td>\n",
       "            </tr>\n",
       "        \n",
       "    \n",
       "    </tbody>\n",
       "</table>\n",
       "    \n",
       "\n",
       "    \n",
       "\n",
       "\n",
       "    \n",
       "\n",
       "    \n",
       "\n",
       "    \n",
       "\n",
       "    \n",
       "\n",
       "    \n",
       "\n",
       "    \n",
       "\n",
       "\n",
       "\n"
      ],
      "text/plain": [
       "Explanation(estimator='RandomForestClassifier(max_depth=13, max_features=20, n_estimators=21,\\n                       n_jobs=-1, random_state=123)', description='\\nRandom forest feature importances; values are numbers 0 <= x <= 1;\\nall values sum to 1.\\n', error=None, method='feature importances', is_regression=False, targets=None, feature_importances=FeatureImportances(importances=[FeatureWeight(feature='PAY_0', weight=0.2776699232202743, std=0.06810032435555476, value=None), FeatureWeight(feature='PAY_2', weight=0.07493447571588026, std=0.06154717140828459, value=None), FeatureWeight(feature='AGE', weight=0.054091535665533444, std=0.008662324044254072, value=None), FeatureWeight(feature='BILL_AMT1', weight=0.05056697017023362, std=0.008961290587542917, value=None), FeatureWeight(feature='PAY_AMT3', weight=0.04452306911492584, std=0.009250891579568975, value=None), FeatureWeight(feature='LIMIT_BAL', weight=0.044231398318184116, std=0.007278074180220042, value=None), FeatureWeight(feature='PAY_AMT2', weight=0.039900992339028406, std=0.010491534020772002, value=None), FeatureWeight(feature='PAY_AMT6', weight=0.03881351116831083, std=0.006634022708587232, value=None), FeatureWeight(feature='PAY_AMT1', weight=0.03878843617511431, std=0.009221297151992892, value=None), FeatureWeight(feature='PAY_AMT5', weight=0.038713368082496466, std=0.006107270252817563, value=None), FeatureWeight(feature='PAY_AMT4', weight=0.03830161022582347, std=0.009157731068678268, value=None), FeatureWeight(feature='BILL_AMT6', weight=0.03653307545344126, std=0.007582560453589932, value=None), FeatureWeight(feature='BILL_AMT2', weight=0.03579016110817539, std=0.006813923447325326, value=None), FeatureWeight(feature='BILL_AMT4', weight=0.03268691442162273, std=0.006552785736031817, value=None), FeatureWeight(feature='BILL_AMT3', weight=0.03044934267537619, std=0.004792091468893359, value=None), FeatureWeight(feature='BILL_AMT5', weight=0.030151833164585327, std=0.006805948588237134, value=None), FeatureWeight(feature='PAY_3', weight=0.019504291834572748, std=0.015140677875684726, value=None), FeatureWeight(feature='PAY_4', weight=0.01732140329125628, std=0.0075911110351136865, value=None), FeatureWeight(feature='PAY_5', weight=0.014252663669523932, std=0.005012797515505385, value=None), FeatureWeight(feature='EDUCATION', weight=0.01404936999789929, std=0.0035127954762647537, value=None)], remaining=3), decision_tree=None, highlight_spaces=None, transition_features=None, image=None)"
      ]
     },
     "execution_count": 65,
     "metadata": {},
     "output_type": "execute_result"
    }
   ],
   "source": [
    "# Adopted from lecture 12\n",
    "import eli5\n",
    "pipe_rf = make_pipeline(ct, RandomForestClassifier(n_estimators = 21, max_depth = 13, max_features = 20, n_jobs = -1, random_state = 123))\n",
    "pipe_rf.fit(X_train, y_train)\n",
    "\n",
    "eli5_rf = eli5.explain_weights(\n",
    "    pipe_rf.named_steps['randomforestclassifier'], feature_names = column_names\n",
    ")\n",
    "\n",
    "eli5_rf"
   ]
  },
  {
   "cell_type": "markdown",
   "metadata": {
    "tags": []
   },
   "source": [
    "Based on the printed result, we can see PAY_0 is the most important feature with weight of 0.277 +/-0.1362. Followed by PAY_2, AGE. Recall that PAY_0 is the payment status of September, PAY_2 is the payment status of August, which are the most recent payment months. This makes sense that they are important in predicting default payment next month. Age is also important in determine one's creditworthiness, it also makes sense to be at top 3 important features of predicting default payment."
   ]
  },
  {
   "cell_type": "markdown",
   "metadata": {},
   "source": [
    "<!-- END QUESTION -->\n",
    "\n",
    "<br><br>"
   ]
  },
  {
   "cell_type": "markdown",
   "metadata": {
    "tags": []
   },
   "source": [
    "<!-- BEGIN QUESTION -->\n",
    "\n",
    "## 12. Results on the test set <a name=\"12\"></a>\n",
    "<hr>\n",
    "\n",
    "rubric={points:10}\n",
    "\n",
    "**Your tasks:**\n",
    "\n",
    "1. Try your best performing model on the test data and report test scores. \n",
    "2. Do the test scores agree with the validation scores from before? To what extent do you trust your results? Do you think you've had issues with optimization bias? \n",
    "3. Take one or two test predictions and explain these individual predictions (e.g., with SHAP force plots).  "
   ]
  },
  {
   "cell_type": "markdown",
   "metadata": {},
   "source": [
    "<div class=\"alert alert-warning\">\n",
    "    \n",
    "Solution_12\n",
    "    \n",
    "</div>"
   ]
  },
  {
   "cell_type": "markdown",
   "metadata": {},
   "source": [
    "Our best performing model found is random forest model, so we will use random forest to assess the data."
   ]
  },
  {
   "cell_type": "code",
   "execution_count": 66,
   "metadata": {
    "tags": []
   },
   "outputs": [
    {
     "data": {
      "text/plain": [
       "array([0, 0, 1, ..., 0, 0, 1], dtype=int64)"
      ]
     },
     "execution_count": 66,
     "metadata": {},
     "output_type": "execute_result"
    }
   ],
   "source": [
    "predictions = pipe_rf.predict(X_test)\n",
    "predictions"
   ]
  },
  {
   "cell_type": "code",
   "execution_count": 67,
   "metadata": {
    "tags": []
   },
   "outputs": [
    {
     "data": {
      "text/html": [
       "<div>\n",
       "<style scoped>\n",
       "    .dataframe tbody tr th:only-of-type {\n",
       "        vertical-align: middle;\n",
       "    }\n",
       "\n",
       "    .dataframe tbody tr th {\n",
       "        vertical-align: top;\n",
       "    }\n",
       "\n",
       "    .dataframe thead th {\n",
       "        text-align: right;\n",
       "    }\n",
       "</style>\n",
       "<table border=\"1\" class=\"dataframe\">\n",
       "  <thead>\n",
       "    <tr style=\"text-align: right;\">\n",
       "      <th></th>\n",
       "      <th>accuracy</th>\n",
       "      <th>error</th>\n",
       "      <th>precision</th>\n",
       "      <th>recall</th>\n",
       "      <th>f1 score</th>\n",
       "      <th>roc-auc score</th>\n",
       "    </tr>\n",
       "  </thead>\n",
       "  <tbody>\n",
       "    <tr>\n",
       "      <th>0</th>\n",
       "      <td>0.816333</td>\n",
       "      <td>0.183667</td>\n",
       "      <td>0.627046</td>\n",
       "      <td>0.373717</td>\n",
       "      <td>0.468318</td>\n",
       "      <td>0.656158</td>\n",
       "    </tr>\n",
       "  </tbody>\n",
       "</table>\n",
       "</div>"
      ],
      "text/plain": [
       "   accuracy     error  precision    recall  f1 score  roc-auc score\n",
       "0  0.816333  0.183667   0.627046  0.373717  0.468318       0.656158"
      ]
     },
     "execution_count": 67,
     "metadata": {},
     "output_type": "execute_result"
    }
   ],
   "source": [
    "from sklearn.metrics import roc_auc_score\n",
    "# Adopted from lecture 9\n",
    "data = {\n",
    "    \"accuracy\": [],\n",
    "    \"error\": [],\n",
    "    \"precision\": [],\n",
    "    \"recall\": [],\n",
    "    \"f1 score\": [],\n",
    "    \"roc-auc score\": [],\n",
    "}\n",
    "data[\"accuracy\"].append(accuracy_score(y_test, predictions))\n",
    "data[\"error\"].append(1 - accuracy_score(y_test, predictions))\n",
    "data[\"precision\"].append(\n",
    "    precision_score(y_test, predictions, zero_division=1)\n",
    ")\n",
    "data[\"recall\"].append(recall_score(y_test, predictions))\n",
    "data[\"f1 score\"].append(f1_score(y_test, predictions))\n",
    "data[\"roc-auc score\"].append(roc_auc_score(y_test, predictions))\n",
    "df = pd.DataFrame(data)\n",
    "df"
   ]
  },
  {
   "cell_type": "markdown",
   "metadata": {},
   "source": [
    "The printed results above are metrics scores of test data. The test score in terms of accuracy is 0.81633, precision is 0.627046, recall is 0.3737, f1 score is 0.4683, roc-auc score is 0.656158."
   ]
  },
  {
   "cell_type": "code",
   "execution_count": 68,
   "metadata": {
    "tags": []
   },
   "outputs": [
    {
     "data": {
      "text/plain": [
       "fit_time          0.500289\n",
       "score_time        0.056094\n",
       "test_accuracy     0.816429\n",
       "test_f1           0.473595\n",
       "test_precision    0.658545\n",
       "test_recall       0.369881\n",
       "test_roc_auc      0.769239\n",
       "dtype: float64"
      ]
     },
     "execution_count": 68,
     "metadata": {},
     "output_type": "execute_result"
    }
   ],
   "source": [
    "scoring = ['accuracy', 'f1', 'precision', 'recall', 'roc_auc']\n",
    "scores = cross_validate(pipe_rf, X_train, y_train, scoring = scoring)\n",
    "pd.DataFrame(scores).mean()"
   ]
  },
  {
   "cell_type": "markdown",
   "metadata": {
    "tags": []
   },
   "source": [
    "The printed results above is cross validation scores. Accuracy is 0.8164, precision is 0.6585, recall is 0.3698, f1 is 0.4736, roc-auc score is 0.7692."
   ]
  },
  {
   "cell_type": "markdown",
   "metadata": {
    "tags": []
   },
   "source": [
    "Both test accuracy and validation accuracy is around 0.814, which agrees each other; test precision is 0.6270, which is slightly lower than validation precision 0.6585; test recall is 0.3737, which is slightly higher than validation recall 0.3698; test f1 score is 0.4683, which is slightly lower than validation f1 score 0.4736; test roc-auc score is 0.6561, which is lower than validation roc-auc score 0.7692. Overall, our test scores agree with validation scores. This result is trustworthy as we compared multiple metrics and both test and validation scores are reasonably consistent. In addition, we used random search on hyperparameter optimization, this help us to reduce the optimization bias and increased the confidence in the results. The model can generalize well on unseen data. However, the recall score can still be improved."
   ]
  },
  {
   "cell_type": "code",
   "execution_count": 69,
   "metadata": {
    "tags": []
   },
   "outputs": [
    {
     "data": {
      "text/plain": [
       "0       0\n",
       "1       0\n",
       "2       1\n",
       "3       1\n",
       "4       0\n",
       "       ..\n",
       "8995    1\n",
       "8996    0\n",
       "8997    0\n",
       "8998    1\n",
       "8999    0\n",
       "Name: default.payment.next.month, Length: 9000, dtype: int64"
      ]
     },
     "execution_count": 69,
     "metadata": {},
     "output_type": "execute_result"
    }
   ],
   "source": [
    "y_test_reset = y_test.reset_index(drop = True)\n",
    "y_test_reset"
   ]
  },
  {
   "cell_type": "code",
   "execution_count": 70,
   "metadata": {
    "tags": []
   },
   "outputs": [],
   "source": [
    "class0_ind = y_test_reset[y_test_reset == 0].index.tolist()\n",
    "class1_ind = y_test_reset[y_test_reset == 1].index.tolist()\n",
    "ex_0_index = class0_ind[2]\n",
    "ex_1_index = class1_ind[2]"
   ]
  },
  {
   "cell_type": "code",
   "execution_count": 71,
   "metadata": {
    "tags": []
   },
   "outputs": [
    {
     "data": {
      "text/plain": [
       "array([0.84173448, 0.15826552])"
      ]
     },
     "execution_count": 71,
     "metadata": {},
     "output_type": "execute_result"
    }
   ],
   "source": [
    "pipe_rf.named_steps['randomforestclassifier'].predict_proba(X_test_transformed)[ex_0_index]"
   ]
  },
  {
   "cell_type": "code",
   "execution_count": 72,
   "metadata": {
    "tags": []
   },
   "outputs": [
    {
     "data": {
      "text/plain": [
       "array([0.25849671, 0.74150329])"
      ]
     },
     "execution_count": 72,
     "metadata": {},
     "output_type": "execute_result"
    }
   ],
   "source": [
    "pipe_rf.named_steps['randomforestclassifier'].predict_proba(X_test_transformed)[ex_1_index]"
   ]
  },
  {
   "cell_type": "code",
   "execution_count": 73,
   "metadata": {
    "tags": []
   },
   "outputs": [],
   "source": [
    "import warnings\n",
    "\n",
    "# Reactivate default warning settings after disabling them\n",
    "\n",
    "# As a best practice, try not to suppress warnings without a good reason and\n",
    "# be sure to reactivate them when suppressing them is not needed anymore.\n",
    "\n",
    "# To ignore warnings:\n",
    "# warnings.simplefilter(action=\"ignore\", category=UserWarning)\n",
    "\n",
    "# To reactivate warnings:\n",
    "# warnings.simplefilter(action=\"default\", category=UserWarning)\n",
    "from numba import NumbaDeprecationWarning\n",
    "\n",
    "warnings.simplefilter(action=\"ignore\", category=NumbaDeprecationWarning)  # ignore warnings\n",
    "warnings.simplefilter(action=\"ignore\", category=UserWarning)"
   ]
  },
  {
   "cell_type": "code",
   "execution_count": 74,
   "metadata": {
    "tags": []
   },
   "outputs": [
    {
     "data": {
      "text/plain": [
       "[array([[ 0.02628147,  0.00133167,  0.01767725, ...,  0.00557245,\n",
       "          0.0029039 ,  0.00259459],\n",
       "        [ 0.05555737,  0.00178562, -0.03209548, ...,  0.00227353,\n",
       "          0.00576696,  0.00345374],\n",
       "        [ 0.01564758,  0.01027959, -0.02458749, ...,  0.00915097,\n",
       "          0.00507268,  0.00468981],\n",
       "        ...,\n",
       "        [-0.04603029,  0.00111102,  0.01627301, ...,  0.0049634 ,\n",
       "          0.00192074,  0.00294027],\n",
       "        [-0.02823928, -0.01082759,  0.01922289, ...,  0.00596653,\n",
       "          0.00340425,  0.00383782],\n",
       "        [ 0.03363341,  0.00068825,  0.00380664, ...,  0.002792  ,\n",
       "          0.00454597,  0.0036879 ]]),\n",
       " array([[-0.02628147, -0.00133167, -0.01767725, ..., -0.00557245,\n",
       "         -0.0029039 , -0.00259459],\n",
       "        [-0.05555737, -0.00178562,  0.03209548, ..., -0.00227353,\n",
       "         -0.00576696, -0.00345374],\n",
       "        [-0.01564758, -0.01027959,  0.02458749, ..., -0.00915097,\n",
       "         -0.00507268, -0.00468981],\n",
       "        ...,\n",
       "        [ 0.04603029, -0.00111102, -0.01627301, ..., -0.0049634 ,\n",
       "         -0.00192074, -0.00294027],\n",
       "        [ 0.02823928,  0.01082759, -0.01922289, ..., -0.00596653,\n",
       "         -0.00340425, -0.00383782],\n",
       "        [-0.03363341, -0.00068825, -0.00380664, ..., -0.002792  ,\n",
       "         -0.00454597, -0.0036879 ]])]"
      ]
     },
     "execution_count": 74,
     "metadata": {},
     "output_type": "execute_result"
    }
   ],
   "source": [
    "import shap\n",
    "\n",
    "rf_explainer = shap.TreeExplainer(pipe_rf.named_steps[\"randomforestclassifier\"])\n",
    "train_rf_shap_values = rf_explainer.shap_values(X_train_transformed)\n",
    "warnings.simplefilter(action=\"default\", category=NumbaDeprecationWarning)  # reactivate warnings\n",
    "warnings.simplefilter(action=\"default\", category=UserWarning)\n",
    "train_rf_shap_values"
   ]
  },
  {
   "cell_type": "code",
   "execution_count": 75,
   "metadata": {
    "tags": []
   },
   "outputs": [],
   "source": [
    "warnings.simplefilter(action=\"ignore\", category=UserWarning) \n",
    "test_rf_shap_values = rf_explainer.shap_values(X_test_transformed)\n",
    "warnings.simplefilter(action=\"default\", category=UserWarning)"
   ]
  },
  {
   "cell_type": "code",
   "execution_count": 76,
   "metadata": {
    "tags": []
   },
   "outputs": [
    {
     "data": {
      "text/plain": [
       "array([0, 1], dtype=int64)"
      ]
     },
     "execution_count": 76,
     "metadata": {},
     "output_type": "execute_result"
    }
   ],
   "source": [
    "pipe_rf.named_steps['randomforestclassifier'].classes_"
   ]
  },
  {
   "cell_type": "code",
   "execution_count": 77,
   "metadata": {
    "tags": []
   },
   "outputs": [
    {
     "data": {
      "text/html": [
       "<div>\n",
       "<style scoped>\n",
       "    .dataframe tbody tr th:only-of-type {\n",
       "        vertical-align: middle;\n",
       "    }\n",
       "\n",
       "    .dataframe tbody tr th {\n",
       "        vertical-align: top;\n",
       "    }\n",
       "\n",
       "    .dataframe thead th {\n",
       "        text-align: right;\n",
       "    }\n",
       "</style>\n",
       "<table border=\"1\" class=\"dataframe\">\n",
       "  <thead>\n",
       "    <tr style=\"text-align: right;\">\n",
       "      <th></th>\n",
       "      <th>SHAP values</th>\n",
       "    </tr>\n",
       "  </thead>\n",
       "  <tbody>\n",
       "    <tr>\n",
       "      <th>PAY_AMT3</th>\n",
       "      <td>0.019415</td>\n",
       "    </tr>\n",
       "    <tr>\n",
       "      <th>LIMIT_BAL</th>\n",
       "      <td>0.019311</td>\n",
       "    </tr>\n",
       "    <tr>\n",
       "      <th>PAY_AMT2</th>\n",
       "      <td>0.011930</td>\n",
       "    </tr>\n",
       "    <tr>\n",
       "      <th>PAY_AMT1</th>\n",
       "      <td>0.006408</td>\n",
       "    </tr>\n",
       "    <tr>\n",
       "      <th>PAY_AMT4</th>\n",
       "      <td>0.003764</td>\n",
       "    </tr>\n",
       "    <tr>\n",
       "      <th>MARRIAGE</th>\n",
       "      <td>0.003262</td>\n",
       "    </tr>\n",
       "    <tr>\n",
       "      <th>SEX</th>\n",
       "      <td>0.002955</td>\n",
       "    </tr>\n",
       "    <tr>\n",
       "      <th>PAY_AMT6</th>\n",
       "      <td>0.000336</td>\n",
       "    </tr>\n",
       "    <tr>\n",
       "      <th>AGE</th>\n",
       "      <td>0.000233</td>\n",
       "    </tr>\n",
       "    <tr>\n",
       "      <th>BILL_AMT4</th>\n",
       "      <td>0.000146</td>\n",
       "    </tr>\n",
       "    <tr>\n",
       "      <th>PAY_AMT5</th>\n",
       "      <td>-0.000107</td>\n",
       "    </tr>\n",
       "    <tr>\n",
       "      <th>EDUCATION</th>\n",
       "      <td>-0.000218</td>\n",
       "    </tr>\n",
       "    <tr>\n",
       "      <th>BILL_AMT5</th>\n",
       "      <td>-0.001388</td>\n",
       "    </tr>\n",
       "    <tr>\n",
       "      <th>PAY_5</th>\n",
       "      <td>-0.002497</td>\n",
       "    </tr>\n",
       "    <tr>\n",
       "      <th>PAY_6</th>\n",
       "      <td>-0.002943</td>\n",
       "    </tr>\n",
       "    <tr>\n",
       "      <th>BILL_AMT6</th>\n",
       "      <td>-0.003372</td>\n",
       "    </tr>\n",
       "    <tr>\n",
       "      <th>PAY_3</th>\n",
       "      <td>-0.005475</td>\n",
       "    </tr>\n",
       "    <tr>\n",
       "      <th>BILL_AMT2</th>\n",
       "      <td>-0.005593</td>\n",
       "    </tr>\n",
       "    <tr>\n",
       "      <th>BILL_AMT1</th>\n",
       "      <td>-0.008559</td>\n",
       "    </tr>\n",
       "    <tr>\n",
       "      <th>BILL_AMT3</th>\n",
       "      <td>-0.009694</td>\n",
       "    </tr>\n",
       "    <tr>\n",
       "      <th>PAY_4</th>\n",
       "      <td>-0.009857</td>\n",
       "    </tr>\n",
       "    <tr>\n",
       "      <th>PAY_2</th>\n",
       "      <td>-0.019604</td>\n",
       "    </tr>\n",
       "    <tr>\n",
       "      <th>PAY_0</th>\n",
       "      <td>-0.063700</td>\n",
       "    </tr>\n",
       "  </tbody>\n",
       "</table>\n",
       "</div>"
      ],
      "text/plain": [
       "           SHAP values\n",
       "PAY_AMT3      0.019415\n",
       "LIMIT_BAL     0.019311\n",
       "PAY_AMT2      0.011930\n",
       "PAY_AMT1      0.006408\n",
       "PAY_AMT4      0.003764\n",
       "MARRIAGE      0.003262\n",
       "SEX           0.002955\n",
       "PAY_AMT6      0.000336\n",
       "AGE           0.000233\n",
       "BILL_AMT4     0.000146\n",
       "PAY_AMT5     -0.000107\n",
       "EDUCATION    -0.000218\n",
       "BILL_AMT5    -0.001388\n",
       "PAY_5        -0.002497\n",
       "PAY_6        -0.002943\n",
       "BILL_AMT6    -0.003372\n",
       "PAY_3        -0.005475\n",
       "BILL_AMT2    -0.005593\n",
       "BILL_AMT1    -0.008559\n",
       "BILL_AMT3    -0.009694\n",
       "PAY_4        -0.009857\n",
       "PAY_2        -0.019604\n",
       "PAY_0        -0.063700"
      ]
     },
     "execution_count": 77,
     "metadata": {},
     "output_type": "execute_result"
    }
   ],
   "source": [
    "pd.DataFrame(\n",
    "    test_rf_shap_values[1][ex_0_index, :],\n",
    "    index = column_names,\n",
    "    columns = ['SHAP values'],\n",
    ").sort_values('SHAP values', ascending = False)"
   ]
  },
  {
   "cell_type": "code",
   "execution_count": 78,
   "metadata": {
    "tags": []
   },
   "outputs": [
    {
     "data": {
      "image/png": "[encoded data removed]",
      "text/plain": [
       "<Figure size 2000x300 with 1 Axes>"
      ]
     },
     "metadata": {},
     "output_type": "display_data"
    }
   ],
   "source": [
    "shap.force_plot(\n",
    "    rf_explainer.expected_value[1],\n",
    "    test_rf_shap_values[1][ex_0_index, :],\n",
    "    X_test_transformed[ex_0_index, :],\n",
    "    matplotlib=True,\n",
    ")"
   ]
  },
  {
   "cell_type": "markdown",
   "metadata": {},
   "source": [
    "The model score is smaller than the base value, which is reflected in the prediction of class 0."
   ]
  },
  {
   "cell_type": "code",
   "execution_count": 79,
   "metadata": {
    "tags": []
   },
   "outputs": [
    {
     "data": {
      "text/html": [
       "<div>\n",
       "<style scoped>\n",
       "    .dataframe tbody tr th:only-of-type {\n",
       "        vertical-align: middle;\n",
       "    }\n",
       "\n",
       "    .dataframe tbody tr th {\n",
       "        vertical-align: top;\n",
       "    }\n",
       "\n",
       "    .dataframe thead th {\n",
       "        text-align: right;\n",
       "    }\n",
       "</style>\n",
       "<table border=\"1\" class=\"dataframe\">\n",
       "  <thead>\n",
       "    <tr style=\"text-align: right;\">\n",
       "      <th></th>\n",
       "      <th>SHAP values</th>\n",
       "    </tr>\n",
       "  </thead>\n",
       "  <tbody>\n",
       "    <tr>\n",
       "      <th>LIMIT_BAL</th>\n",
       "      <td>-0.000989</td>\n",
       "    </tr>\n",
       "    <tr>\n",
       "      <th>AGE</th>\n",
       "      <td>0.015401</td>\n",
       "    </tr>\n",
       "    <tr>\n",
       "      <th>BILL_AMT1</th>\n",
       "      <td>-0.010761</td>\n",
       "    </tr>\n",
       "    <tr>\n",
       "      <th>BILL_AMT2</th>\n",
       "      <td>-0.005284</td>\n",
       "    </tr>\n",
       "    <tr>\n",
       "      <th>BILL_AMT3</th>\n",
       "      <td>-0.009267</td>\n",
       "    </tr>\n",
       "    <tr>\n",
       "      <th>BILL_AMT4</th>\n",
       "      <td>0.005993</td>\n",
       "    </tr>\n",
       "    <tr>\n",
       "      <th>BILL_AMT5</th>\n",
       "      <td>0.000950</td>\n",
       "    </tr>\n",
       "    <tr>\n",
       "      <th>BILL_AMT6</th>\n",
       "      <td>-0.014785</td>\n",
       "    </tr>\n",
       "    <tr>\n",
       "      <th>PAY_AMT1</th>\n",
       "      <td>0.017286</td>\n",
       "    </tr>\n",
       "    <tr>\n",
       "      <th>PAY_AMT2</th>\n",
       "      <td>-0.008198</td>\n",
       "    </tr>\n",
       "    <tr>\n",
       "      <th>PAY_AMT3</th>\n",
       "      <td>-0.014784</td>\n",
       "    </tr>\n",
       "    <tr>\n",
       "      <th>PAY_AMT4</th>\n",
       "      <td>0.002614</td>\n",
       "    </tr>\n",
       "    <tr>\n",
       "      <th>PAY_AMT5</th>\n",
       "      <td>0.011277</td>\n",
       "    </tr>\n",
       "    <tr>\n",
       "      <th>PAY_AMT6</th>\n",
       "      <td>0.008682</td>\n",
       "    </tr>\n",
       "    <tr>\n",
       "      <th>SEX</th>\n",
       "      <td>-0.000607</td>\n",
       "    </tr>\n",
       "    <tr>\n",
       "      <th>EDUCATION</th>\n",
       "      <td>0.000621</td>\n",
       "    </tr>\n",
       "    <tr>\n",
       "      <th>MARRIAGE</th>\n",
       "      <td>-0.007486</td>\n",
       "    </tr>\n",
       "    <tr>\n",
       "      <th>PAY_0</th>\n",
       "      <td>0.322196</td>\n",
       "    </tr>\n",
       "    <tr>\n",
       "      <th>PAY_2</th>\n",
       "      <td>0.092427</td>\n",
       "    </tr>\n",
       "    <tr>\n",
       "      <th>PAY_3</th>\n",
       "      <td>0.022702</td>\n",
       "    </tr>\n",
       "    <tr>\n",
       "      <th>PAY_4</th>\n",
       "      <td>0.029943</td>\n",
       "    </tr>\n",
       "    <tr>\n",
       "      <th>PAY_5</th>\n",
       "      <td>0.035147</td>\n",
       "    </tr>\n",
       "    <tr>\n",
       "      <th>PAY_6</th>\n",
       "      <td>0.024911</td>\n",
       "    </tr>\n",
       "  </tbody>\n",
       "</table>\n",
       "</div>"
      ],
      "text/plain": [
       "           SHAP values\n",
       "LIMIT_BAL    -0.000989\n",
       "AGE           0.015401\n",
       "BILL_AMT1    -0.010761\n",
       "BILL_AMT2    -0.005284\n",
       "BILL_AMT3    -0.009267\n",
       "BILL_AMT4     0.005993\n",
       "BILL_AMT5     0.000950\n",
       "BILL_AMT6    -0.014785\n",
       "PAY_AMT1      0.017286\n",
       "PAY_AMT2     -0.008198\n",
       "PAY_AMT3     -0.014784\n",
       "PAY_AMT4      0.002614\n",
       "PAY_AMT5      0.011277\n",
       "PAY_AMT6      0.008682\n",
       "SEX          -0.000607\n",
       "EDUCATION     0.000621\n",
       "MARRIAGE     -0.007486\n",
       "PAY_0         0.322196\n",
       "PAY_2         0.092427\n",
       "PAY_3         0.022702\n",
       "PAY_4         0.029943\n",
       "PAY_5         0.035147\n",
       "PAY_6         0.024911"
      ]
     },
     "execution_count": 79,
     "metadata": {},
     "output_type": "execute_result"
    }
   ],
   "source": [
    "pd.DataFrame(\n",
    "    test_rf_shap_values[1][ex_1_index, :],\n",
    "    index = column_names,\n",
    "    columns = ['SHAP values'],\n",
    ")"
   ]
  },
  {
   "cell_type": "code",
   "execution_count": 80,
   "metadata": {
    "tags": []
   },
   "outputs": [
    {
     "data": {
      "image/png": "[encoded data removed]",
      "text/plain": [
       "<Figure size 2000x300 with 1 Axes>"
      ]
     },
     "metadata": {},
     "output_type": "display_data"
    }
   ],
   "source": [
    "shap.force_plot(\n",
    "    rf_explainer.expected_value[1],\n",
    "    test_rf_shap_values[1][ex_1_index, :],\n",
    "    X_test_transformed[ex_1_index, :],\n",
    "    matplotlib=True,\n",
    ")"
   ]
  },
  {
   "cell_type": "markdown",
   "metadata": {},
   "source": [
    "The score is with respect to class 1, higher than the base value, base value is at 0.2, we can see most features pushing the prediction to higher value."
   ]
  },
  {
   "cell_type": "markdown",
   "metadata": {},
   "source": [
    "<!-- END QUESTION -->\n",
    "\n",
    "<br><br>"
   ]
  },
  {
   "cell_type": "markdown",
   "metadata": {},
   "source": [
    "<!-- BEGIN QUESTION -->\n",
    "\n",
    "## 13. Summary of results <a name=\"13\"></a>\n",
    "<hr>\n",
    "rubric={points:12}\n",
    "\n",
    "Imagine that you want to present the summary of these results to your boss and co-workers. \n",
    "\n",
    "**Your tasks:**\n",
    "\n",
    "1. Create a table summarizing important results. \n",
    "2. Write concluding remarks.\n",
    "3. Discuss other ideas that you did not try but could potentially improve the performance/interpretability . \n",
    "3. Report your final test score along with the metric you used at the top of this notebook in the [Submission instructions section](#si)."
   ]
  },
  {
   "cell_type": "markdown",
   "metadata": {},
   "source": [
    "<div class=\"alert alert-warning\">\n",
    "    \n",
    "Solution_13\n",
    "    \n",
    "</div>"
   ]
  },
  {
   "cell_type": "markdown",
   "metadata": {},
   "source": [
    "Table of important results found in this project"
   ]
  },
  {
   "cell_type": "code",
   "execution_count": 81,
   "metadata": {
    "tags": []
   },
   "outputs": [
    {
     "data": {
      "text/html": [
       "<div>\n",
       "<style scoped>\n",
       "    .dataframe tbody tr th:only-of-type {\n",
       "        vertical-align: middle;\n",
       "    }\n",
       "\n",
       "    .dataframe tbody tr th {\n",
       "        vertical-align: top;\n",
       "    }\n",
       "\n",
       "    .dataframe thead th {\n",
       "        text-align: right;\n",
       "    }\n",
       "</style>\n",
       "<table border=\"1\" class=\"dataframe\">\n",
       "  <thead>\n",
       "    <tr style=\"text-align: right;\">\n",
       "      <th></th>\n",
       "      <th>0</th>\n",
       "    </tr>\n",
       "  </thead>\n",
       "  <tbody>\n",
       "    <tr>\n",
       "      <th>Best Model</th>\n",
       "      <td>Random Forest</td>\n",
       "    </tr>\n",
       "    <tr>\n",
       "      <th>Optimized Hyperparameters</th>\n",
       "      <td>n_estimators = 21, max_depth = 13, max_feature...</td>\n",
       "    </tr>\n",
       "    <tr>\n",
       "      <th>Validation Accuracy</th>\n",
       "      <td>0.8164</td>\n",
       "    </tr>\n",
       "    <tr>\n",
       "      <th>Validation Recall</th>\n",
       "      <td>0.37</td>\n",
       "    </tr>\n",
       "    <tr>\n",
       "      <th>Validation Precision</th>\n",
       "      <td>0.6585</td>\n",
       "    </tr>\n",
       "    <tr>\n",
       "      <th>Validation F1 Score</th>\n",
       "      <td>0.4736</td>\n",
       "    </tr>\n",
       "    <tr>\n",
       "      <th>Validation ROC-AUC</th>\n",
       "      <td>0.7692</td>\n",
       "    </tr>\n",
       "    <tr>\n",
       "      <th>Test Accuracy</th>\n",
       "      <td>0.8163</td>\n",
       "    </tr>\n",
       "    <tr>\n",
       "      <th>Test Precision</th>\n",
       "      <td>0.627</td>\n",
       "    </tr>\n",
       "    <tr>\n",
       "      <th>Test Recall</th>\n",
       "      <td>0.3737</td>\n",
       "    </tr>\n",
       "    <tr>\n",
       "      <th>Test F1 Score</th>\n",
       "      <td>0.4683</td>\n",
       "    </tr>\n",
       "    <tr>\n",
       "      <th>Test ROC-AUC</th>\n",
       "      <td>0.6561</td>\n",
       "    </tr>\n",
       "    <tr>\n",
       "      <th>Most Important Feature</th>\n",
       "      <td>PAY_0</td>\n",
       "    </tr>\n",
       "  </tbody>\n",
       "</table>\n",
       "</div>"
      ],
      "text/plain": [
       "                                                                           0\n",
       "Best Model                                                     Random Forest\n",
       "Optimized Hyperparameters  n_estimators = 21, max_depth = 13, max_feature...\n",
       "Validation Accuracy                                                   0.8164\n",
       "Validation Recall                                                       0.37\n",
       "Validation Precision                                                  0.6585\n",
       "Validation F1 Score                                                   0.4736\n",
       "Validation ROC-AUC                                                    0.7692\n",
       "Test Accuracy                                                         0.8163\n",
       "Test Precision                                                         0.627\n",
       "Test Recall                                                           0.3737\n",
       "Test F1 Score                                                         0.4683\n",
       "Test ROC-AUC                                                          0.6561\n",
       "Most Important Feature                                                 PAY_0"
      ]
     },
     "execution_count": 81,
     "metadata": {},
     "output_type": "execute_result"
    }
   ],
   "source": [
    "results = {\n",
    "    'Best Model': ['Random Forest'],\n",
    "    'Optimized Hyperparameters': ['n_estimators = 21, max_depth = 13, max_features = 20'],\n",
    "    'Validation Accuracy': [0.8164],\n",
    "    'Validation Recall': [0.370],\n",
    "    'Validation Precision': [0.6585],\n",
    "    'Validation F1 Score': [0.4736],\n",
    "    'Validation ROC-AUC': [0.7692],\n",
    "    'Test Accuracy': [0.8163],\n",
    "    'Test Precision': [0.6270],\n",
    "    'Test Recall': [0.3737],\n",
    "    'Test F1 Score': [0.4683],\n",
    "    'Test ROC-AUC': [0.6561],\n",
    "    'Most Important Feature': ['PAY_0'],\n",
    "}\n",
    "pd.DataFrame(results).T\n"
   ]
  },
  {
   "cell_type": "markdown",
   "metadata": {},
   "source": [
    "In this project, we used different machine learning models to predict the default payment with personal information and payment history of the client. By training different ML models and compared different metrics including accuracy, precision, recall, f1 score, and roc-auc score to determine the best ML model for the specific dataset. We found that random forest model has the best overall metrics, and the random forest model shows the good generalization on unseen data. Then we adjusted its hyperparameters with random search. \n",
    "We used eli5 and SHAP values to explore the important features in the prediction and noticed that most recent payment status and age are the key factors affect the default payment.\n",
    "Other idea that I did not try but could potentially the performance and interpretability are feature engineering, use class weight to address class imbalance, try other ML models and make comparison, and so on."
   ]
  },
  {
   "cell_type": "code",
   "execution_count": 82,
   "metadata": {
    "tags": []
   },
   "outputs": [
    {
     "data": {
      "text/plain": [
       "Ellipsis"
      ]
     },
     "execution_count": 82,
     "metadata": {},
     "output_type": "execute_result"
    }
   ],
   "source": [
    "..."
   ]
  },
  {
   "cell_type": "markdown",
   "metadata": {},
   "source": [
    "<!-- END QUESTION -->\n",
    "\n",
    "<br><br>"
   ]
  },
  {
   "cell_type": "markdown",
   "metadata": {},
   "source": [
    "<br><br>"
   ]
  },
  {
   "cell_type": "markdown",
   "metadata": {},
   "source": [
    "<!-- BEGIN QUESTION -->\n",
    "\n",
    "## (Optional) 14. Your takeaway <a name=\"15\"></a>\n",
    "<hr>\n",
    "rubric={points:2}\n",
    "\n",
    "**Your tasks:**\n",
    "\n",
    "What is your biggest takeaway from the supervised machine learning material we have learned so far? Please write thoughtful answers.  "
   ]
  },
  {
   "cell_type": "markdown",
   "metadata": {},
   "source": [
    "<div class=\"alert alert-warning\">\n",
    "    \n",
    "Solution_14\n",
    "    \n",
    "</div>"
   ]
  },
  {
   "cell_type": "markdown",
   "metadata": {},
   "source": [
    "<!-- END QUESTION -->\n",
    "\n",
    "<br><br>"
   ]
  },
  {
   "cell_type": "markdown",
   "metadata": {},
   "source": [
    "**PLEASE READ BEFORE YOU SUBMIT:** \n",
    "\n",
    "When you are ready to submit your assignment do the following:\n",
    "\n",
    "1. Run all cells in your notebook to make sure there are no errors by doing `Kernel -> Restart Kernel and Clear All Outputs` and then `Run -> Run All Cells`. \n",
    "2. Notebooks with cell execution numbers out of order or not starting from \"1\" will have marks deducted. Notebooks without the output displayed may not be graded at all (because we need to see the output in order to grade your work).\n",
    "4. Upload the assignment using Gradescope's drag and drop tool. Check out this [Gradescope Student Guide](https://lthub.ubc.ca/guides/gradescope-student-guide/) if you need help with Gradescope submission. \n",
    "5. Make sure that the plots and output are rendered properly in your submitted file. If the .ipynb file is too big and doesn't render on Gradescope, also upload a pdf or html in addition to the .ipynb so that the TAs can view your submission on Gradescope. "
   ]
  },
  {
   "cell_type": "markdown",
   "metadata": {},
   "source": [
    "This was a tricky one but you did it! Have a great weekend! "
   ]
  },
  {
   "cell_type": "markdown",
   "metadata": {},
   "source": [
    "![](img/eva-well-done.png)"
   ]
  }
 ],
 "metadata": {
  "kernelspec": {
   "display_name": "Python [conda env:cpsc330]",
   "language": "python",
   "name": "conda-env-cpsc330-py"
  },
  "language_info": {
   "codemirror_mode": {
    "name": "ipython",
    "version": 3
   },
   "file_extension": ".py",
   "mimetype": "text/x-python",
   "name": "python",
   "nbconvert_exporter": "python",
   "pygments_lexer": "ipython3",
   "version": "3.10.11"
  },
  "otter": {
   "OK_FORMAT": true,
   "tests": {}
  }
 },
 "nbformat": 4,
 "nbformat_minor": 4
}
